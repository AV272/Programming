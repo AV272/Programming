{
 "cells": [
  {
   "cell_type": "markdown",
   "metadata": {},
   "source": [
    "\n",
    "<img src=\"../../img/ods_stickers.jpg\">\n",
    "\n",
    "## <center> [mlcourse.ai](https://mlcourse.ai) – открытый курс OpenDataScience по машинному обучению \n",
    "    \n",
    "Авторы материала: Юрий Кашницкий, программист-исследователь Mail.Ru Group, и Мария Сумарокова, старший эксперт по аналитике VimpelCom. Материал распространяется на условиях лицензии [Creative Commons CC BY-NC-SA 4.0](https://creativecommons.org/licenses/by-nc-sa/4.0/). Можно использовать в любых целях (редактировать, поправлять и брать за основу), кроме коммерческих, но с обязательным упоминанием автора материала"
   ]
  },
  {
   "cell_type": "markdown",
   "metadata": {},
   "source": [
    "# <center>Домашнее задание № 3 (демо). <br>Деревья решений в игрушечной задаче и на данных Adult репозитория UCI\n",
    "\n",
    "**В задании Вам предлагается разобраться с тем, как работает дерево решений, на игрушечном примере, затем обучить и настроить деревья и (при желании) случайный лес в задаче классификации на данных Adult репозитория UCI. Ответьте на все вопросы в этой тетрадке и заполните ответы в [гугл-форме](https://docs.google.com/forms/d/1bC3jNPH7XZUty_DaIvt0fPrsiS8YFkcpeBKHPSG0hw0/edit).**"
   ]
  },
  {
   "cell_type": "markdown",
   "metadata": {},
   "source": [
    "Подключаем необходимые библиотеки"
   ]
  },
  {
   "cell_type": "code",
   "execution_count": 1,
   "metadata": {},
   "outputs": [],
   "source": [
    "%matplotlib inline\n",
    "from matplotlib import pyplot as plt\n",
    "\n",
    "plt.rcParams['figure.figsize'] = (10, 8)\n",
    "import collections\n",
    "\n",
    "import numpy as np\n",
    "import pandas as pd\n",
    "import seaborn as sns\n",
    "from sklearn import preprocessing\n",
    "from sklearn.ensemble import RandomForestClassifier\n",
    "from sklearn.metrics import accuracy_score\n",
    "from sklearn.model_selection import GridSearchCV\n",
    "from sklearn.preprocessing import LabelEncoder\n",
    "from sklearn.tree import DecisionTreeClassifier, export_graphviz, plot_tree"
   ]
  },
  {
   "cell_type": "markdown",
   "metadata": {},
   "source": [
    "## Часть 1. Игрушечный набор данных \"девушка в баре\""
   ]
  },
  {
   "cell_type": "markdown",
   "metadata": {
    "collapsed": true
   },
   "source": [
    "**Цель –  \"на пальцах\", с помощью игрушечной задачи классификации разобраться в том, как работают деревья решений. Само по себе дерево решений – довольно слабый алгоритм, но основанные на нем алгоритмы случайного леса и градиентного бустинга - пожалуй, лучшее, что есть на сегодняшний день (в задачах, где можно обойтись без нейронных сетей). Поэтому разобраться в том, как работает дерево решений, полезно.**"
   ]
  },
  {
   "cell_type": "markdown",
   "metadata": {},
   "source": [
    "**Рассмотрим игрушечную задачу бинарной классификации: поедет ли с Вами девушка из бара? Это будет зависеть от Вашей внешности и красноречия, крепости предлагаемых напитков и, как это ни меркантильно, от количества потраченных в баре денег.**\n",
    "<img src='../../img/toy_data.png'>"
   ]
  },
  {
   "cell_type": "markdown",
   "metadata": {},
   "source": [
    "### Создание набора данных"
   ]
  },
  {
   "cell_type": "code",
   "execution_count": 2,
   "metadata": {},
   "outputs": [],
   "source": [
    "# Создание датафрейма с dummy variables\n",
    "def create_df(dic, feature_list):\n",
    "    out = pd.DataFrame(dic)\n",
    "    out = pd.concat([out, pd.get_dummies(out[feature_list])], axis = 1)\n",
    "    out.drop(feature_list, axis = 1, inplace = True)\n",
    "    return out\n",
    "\n",
    "# Некоторые значения признаков есть в тесте, но нет в трейне и наоборот\n",
    "def intersect_features(train, test):\n",
    "    common_feat = list( set(train.keys()) & set(test.keys()))\n",
    "    return train[common_feat], test[common_feat]"
   ]
  },
  {
   "cell_type": "code",
   "execution_count": 3,
   "metadata": {},
   "outputs": [],
   "source": [
    "features = ['Внешность', 'Алкоголь_в_напитке',\n",
    "            'Уровень_красноречия', 'Потраченные_деньги']"
   ]
  },
  {
   "cell_type": "markdown",
   "metadata": {},
   "source": [
    "**Обучающая выборка**"
   ]
  },
  {
   "cell_type": "code",
   "execution_count": 4,
   "metadata": {},
   "outputs": [
    {
     "data": {
      "text/html": [
       "<div>\n",
       "<style scoped>\n",
       "    .dataframe tbody tr th:only-of-type {\n",
       "        vertical-align: middle;\n",
       "    }\n",
       "\n",
       "    .dataframe tbody tr th {\n",
       "        vertical-align: top;\n",
       "    }\n",
       "\n",
       "    .dataframe thead th {\n",
       "        text-align: right;\n",
       "    }\n",
       "</style>\n",
       "<table border=\"1\" class=\"dataframe\">\n",
       "  <thead>\n",
       "    <tr style=\"text-align: right;\">\n",
       "      <th></th>\n",
       "      <th>Поедет</th>\n",
       "      <th>Внешность_отталкивающая</th>\n",
       "      <th>Внешность_приятная</th>\n",
       "      <th>Алкоголь_в_напитке_да</th>\n",
       "      <th>Алкоголь_в_напитке_нет</th>\n",
       "      <th>Уровень_красноречия_высокий</th>\n",
       "      <th>Уровень_красноречия_низкий</th>\n",
       "      <th>Уровень_красноречия_средний</th>\n",
       "      <th>Потраченные_деньги_мало</th>\n",
       "      <th>Потраченные_деньги_много</th>\n",
       "    </tr>\n",
       "  </thead>\n",
       "  <tbody>\n",
       "    <tr>\n",
       "      <th>0</th>\n",
       "      <td>0</td>\n",
       "      <td>0</td>\n",
       "      <td>1</td>\n",
       "      <td>1</td>\n",
       "      <td>0</td>\n",
       "      <td>1</td>\n",
       "      <td>0</td>\n",
       "      <td>0</td>\n",
       "      <td>0</td>\n",
       "      <td>1</td>\n",
       "    </tr>\n",
       "    <tr>\n",
       "      <th>1</th>\n",
       "      <td>1</td>\n",
       "      <td>0</td>\n",
       "      <td>1</td>\n",
       "      <td>1</td>\n",
       "      <td>0</td>\n",
       "      <td>0</td>\n",
       "      <td>1</td>\n",
       "      <td>0</td>\n",
       "      <td>1</td>\n",
       "      <td>0</td>\n",
       "    </tr>\n",
       "    <tr>\n",
       "      <th>2</th>\n",
       "      <td>0</td>\n",
       "      <td>0</td>\n",
       "      <td>1</td>\n",
       "      <td>0</td>\n",
       "      <td>1</td>\n",
       "      <td>0</td>\n",
       "      <td>0</td>\n",
       "      <td>1</td>\n",
       "      <td>0</td>\n",
       "      <td>1</td>\n",
       "    </tr>\n",
       "    <tr>\n",
       "      <th>3</th>\n",
       "      <td>1</td>\n",
       "      <td>1</td>\n",
       "      <td>0</td>\n",
       "      <td>0</td>\n",
       "      <td>1</td>\n",
       "      <td>0</td>\n",
       "      <td>0</td>\n",
       "      <td>1</td>\n",
       "      <td>1</td>\n",
       "      <td>0</td>\n",
       "    </tr>\n",
       "    <tr>\n",
       "      <th>4</th>\n",
       "      <td>1</td>\n",
       "      <td>1</td>\n",
       "      <td>0</td>\n",
       "      <td>1</td>\n",
       "      <td>0</td>\n",
       "      <td>0</td>\n",
       "      <td>1</td>\n",
       "      <td>0</td>\n",
       "      <td>0</td>\n",
       "      <td>1</td>\n",
       "    </tr>\n",
       "    <tr>\n",
       "      <th>5</th>\n",
       "      <td>0</td>\n",
       "      <td>1</td>\n",
       "      <td>0</td>\n",
       "      <td>1</td>\n",
       "      <td>0</td>\n",
       "      <td>1</td>\n",
       "      <td>0</td>\n",
       "      <td>0</td>\n",
       "      <td>0</td>\n",
       "      <td>1</td>\n",
       "    </tr>\n",
       "    <tr>\n",
       "      <th>6</th>\n",
       "      <td>0</td>\n",
       "      <td>0</td>\n",
       "      <td>1</td>\n",
       "      <td>1</td>\n",
       "      <td>0</td>\n",
       "      <td>0</td>\n",
       "      <td>0</td>\n",
       "      <td>1</td>\n",
       "      <td>0</td>\n",
       "      <td>1</td>\n",
       "    </tr>\n",
       "  </tbody>\n",
       "</table>\n",
       "</div>"
      ],
      "text/plain": [
       "   Поедет  Внешность_отталкивающая  Внешность_приятная  Алкоголь_в_напитке_да  \\\n",
       "0       0                        0                   1                      1   \n",
       "1       1                        0                   1                      1   \n",
       "2       0                        0                   1                      0   \n",
       "3       1                        1                   0                      0   \n",
       "4       1                        1                   0                      1   \n",
       "5       0                        1                   0                      1   \n",
       "6       0                        0                   1                      1   \n",
       "\n",
       "   Алкоголь_в_напитке_нет  Уровень_красноречия_высокий  \\\n",
       "0                       0                            1   \n",
       "1                       0                            0   \n",
       "2                       1                            0   \n",
       "3                       1                            0   \n",
       "4                       0                            0   \n",
       "5                       0                            1   \n",
       "6                       0                            0   \n",
       "\n",
       "   Уровень_красноречия_низкий  Уровень_красноречия_средний  \\\n",
       "0                           0                            0   \n",
       "1                           1                            0   \n",
       "2                           0                            1   \n",
       "3                           0                            1   \n",
       "4                           1                            0   \n",
       "5                           0                            0   \n",
       "6                           0                            1   \n",
       "\n",
       "   Потраченные_деньги_мало  Потраченные_деньги_много  \n",
       "0                        0                         1  \n",
       "1                        1                         0  \n",
       "2                        0                         1  \n",
       "3                        1                         0  \n",
       "4                        0                         1  \n",
       "5                        0                         1  \n",
       "6                        0                         1  "
      ]
     },
     "execution_count": 4,
     "metadata": {},
     "output_type": "execute_result"
    }
   ],
   "source": [
    "df_train = {}\n",
    "df_train['Внешность'] = ['приятная', 'приятная', 'приятная', 'отталкивающая',\n",
    "                         'отталкивающая', 'отталкивающая', 'приятная'] \n",
    "df_train['Алкоголь_в_напитке'] = ['да', 'да', 'нет', 'нет', 'да', 'да', 'да']\n",
    "df_train['Уровень_красноречия'] = ['высокий', 'низкий', 'средний', 'средний', 'низкий',\n",
    "                                   'высокий', 'средний']\n",
    "df_train['Потраченные_деньги'] = ['много', 'мало', 'много', 'мало', 'много',\n",
    "                                  'много', 'много']\n",
    "df_train['Поедет'] = LabelEncoder().fit_transform(['+', '-', '+', '-', '-', '+', '+'])\n",
    "\n",
    "df_train = create_df(df_train, features)\n",
    "df_train"
   ]
  },
  {
   "cell_type": "markdown",
   "metadata": {},
   "source": [
    "**Тестовая выборка**"
   ]
  },
  {
   "cell_type": "code",
   "execution_count": 5,
   "metadata": {},
   "outputs": [
    {
     "data": {
      "text/html": [
       "<div>\n",
       "<style scoped>\n",
       "    .dataframe tbody tr th:only-of-type {\n",
       "        vertical-align: middle;\n",
       "    }\n",
       "\n",
       "    .dataframe tbody tr th {\n",
       "        vertical-align: top;\n",
       "    }\n",
       "\n",
       "    .dataframe thead th {\n",
       "        text-align: right;\n",
       "    }\n",
       "</style>\n",
       "<table border=\"1\" class=\"dataframe\">\n",
       "  <thead>\n",
       "    <tr style=\"text-align: right;\">\n",
       "      <th></th>\n",
       "      <th>Внешность_отталкивающая</th>\n",
       "      <th>Внешность_приятная</th>\n",
       "      <th>Алкоголь_в_напитке_да</th>\n",
       "      <th>Алкоголь_в_напитке_нет</th>\n",
       "      <th>Уровень_красноречия_высокий</th>\n",
       "      <th>Уровень_красноречия_средний</th>\n",
       "      <th>Потраченные_деньги_мало</th>\n",
       "      <th>Потраченные_деньги_много</th>\n",
       "    </tr>\n",
       "  </thead>\n",
       "  <tbody>\n",
       "    <tr>\n",
       "      <th>0</th>\n",
       "      <td>0</td>\n",
       "      <td>1</td>\n",
       "      <td>0</td>\n",
       "      <td>1</td>\n",
       "      <td>0</td>\n",
       "      <td>1</td>\n",
       "      <td>0</td>\n",
       "      <td>1</td>\n",
       "    </tr>\n",
       "    <tr>\n",
       "      <th>1</th>\n",
       "      <td>0</td>\n",
       "      <td>1</td>\n",
       "      <td>1</td>\n",
       "      <td>0</td>\n",
       "      <td>1</td>\n",
       "      <td>0</td>\n",
       "      <td>1</td>\n",
       "      <td>0</td>\n",
       "    </tr>\n",
       "    <tr>\n",
       "      <th>2</th>\n",
       "      <td>1</td>\n",
       "      <td>0</td>\n",
       "      <td>1</td>\n",
       "      <td>0</td>\n",
       "      <td>0</td>\n",
       "      <td>1</td>\n",
       "      <td>0</td>\n",
       "      <td>1</td>\n",
       "    </tr>\n",
       "  </tbody>\n",
       "</table>\n",
       "</div>"
      ],
      "text/plain": [
       "   Внешность_отталкивающая  Внешность_приятная  Алкоголь_в_напитке_да  \\\n",
       "0                        0                   1                      0   \n",
       "1                        0                   1                      1   \n",
       "2                        1                   0                      1   \n",
       "\n",
       "   Алкоголь_в_напитке_нет  Уровень_красноречия_высокий  \\\n",
       "0                       1                            0   \n",
       "1                       0                            1   \n",
       "2                       0                            0   \n",
       "\n",
       "   Уровень_красноречия_средний  Потраченные_деньги_мало  \\\n",
       "0                            1                        0   \n",
       "1                            0                        1   \n",
       "2                            1                        0   \n",
       "\n",
       "   Потраченные_деньги_много  \n",
       "0                         1  \n",
       "1                         0  \n",
       "2                         1  "
      ]
     },
     "execution_count": 5,
     "metadata": {},
     "output_type": "execute_result"
    }
   ],
   "source": [
    "df_test = {}\n",
    "df_test['Внешность'] = ['приятная', 'приятная', 'отталкивающая'] \n",
    "df_test['Алкоголь_в_напитке'] = ['нет', 'да', 'да']\n",
    "df_test['Уровень_красноречия'] = ['средний', 'высокий', 'средний']\n",
    "df_test['Потраченные_деньги'] = ['много', 'мало', 'много']\n",
    "df_test = create_df(df_test, features)\n",
    "df_test"
   ]
  },
  {
   "cell_type": "code",
   "execution_count": 6,
   "metadata": {},
   "outputs": [
    {
     "data": {
      "text/html": [
       "<div>\n",
       "<style scoped>\n",
       "    .dataframe tbody tr th:only-of-type {\n",
       "        vertical-align: middle;\n",
       "    }\n",
       "\n",
       "    .dataframe tbody tr th {\n",
       "        vertical-align: top;\n",
       "    }\n",
       "\n",
       "    .dataframe thead th {\n",
       "        text-align: right;\n",
       "    }\n",
       "</style>\n",
       "<table border=\"1\" class=\"dataframe\">\n",
       "  <thead>\n",
       "    <tr style=\"text-align: right;\">\n",
       "      <th></th>\n",
       "      <th>Алкоголь_в_напитке_да</th>\n",
       "      <th>Внешность_приятная</th>\n",
       "      <th>Уровень_красноречия_высокий</th>\n",
       "      <th>Потраченные_деньги_много</th>\n",
       "      <th>Алкоголь_в_напитке_нет</th>\n",
       "      <th>Уровень_красноречия_средний</th>\n",
       "      <th>Потраченные_деньги_мало</th>\n",
       "      <th>Внешность_отталкивающая</th>\n",
       "    </tr>\n",
       "  </thead>\n",
       "  <tbody>\n",
       "    <tr>\n",
       "      <th>0</th>\n",
       "      <td>1</td>\n",
       "      <td>1</td>\n",
       "      <td>1</td>\n",
       "      <td>1</td>\n",
       "      <td>0</td>\n",
       "      <td>0</td>\n",
       "      <td>0</td>\n",
       "      <td>0</td>\n",
       "    </tr>\n",
       "    <tr>\n",
       "      <th>1</th>\n",
       "      <td>1</td>\n",
       "      <td>1</td>\n",
       "      <td>0</td>\n",
       "      <td>0</td>\n",
       "      <td>0</td>\n",
       "      <td>0</td>\n",
       "      <td>1</td>\n",
       "      <td>0</td>\n",
       "    </tr>\n",
       "    <tr>\n",
       "      <th>2</th>\n",
       "      <td>0</td>\n",
       "      <td>1</td>\n",
       "      <td>0</td>\n",
       "      <td>1</td>\n",
       "      <td>1</td>\n",
       "      <td>1</td>\n",
       "      <td>0</td>\n",
       "      <td>0</td>\n",
       "    </tr>\n",
       "    <tr>\n",
       "      <th>3</th>\n",
       "      <td>0</td>\n",
       "      <td>0</td>\n",
       "      <td>0</td>\n",
       "      <td>0</td>\n",
       "      <td>1</td>\n",
       "      <td>1</td>\n",
       "      <td>1</td>\n",
       "      <td>1</td>\n",
       "    </tr>\n",
       "    <tr>\n",
       "      <th>4</th>\n",
       "      <td>1</td>\n",
       "      <td>0</td>\n",
       "      <td>0</td>\n",
       "      <td>1</td>\n",
       "      <td>0</td>\n",
       "      <td>0</td>\n",
       "      <td>0</td>\n",
       "      <td>1</td>\n",
       "    </tr>\n",
       "    <tr>\n",
       "      <th>5</th>\n",
       "      <td>1</td>\n",
       "      <td>0</td>\n",
       "      <td>1</td>\n",
       "      <td>1</td>\n",
       "      <td>0</td>\n",
       "      <td>0</td>\n",
       "      <td>0</td>\n",
       "      <td>1</td>\n",
       "    </tr>\n",
       "    <tr>\n",
       "      <th>6</th>\n",
       "      <td>1</td>\n",
       "      <td>1</td>\n",
       "      <td>0</td>\n",
       "      <td>1</td>\n",
       "      <td>0</td>\n",
       "      <td>1</td>\n",
       "      <td>0</td>\n",
       "      <td>0</td>\n",
       "    </tr>\n",
       "  </tbody>\n",
       "</table>\n",
       "</div>"
      ],
      "text/plain": [
       "   Алкоголь_в_напитке_да  Внешность_приятная  Уровень_красноречия_высокий  \\\n",
       "0                      1                   1                            1   \n",
       "1                      1                   1                            0   \n",
       "2                      0                   1                            0   \n",
       "3                      0                   0                            0   \n",
       "4                      1                   0                            0   \n",
       "5                      1                   0                            1   \n",
       "6                      1                   1                            0   \n",
       "\n",
       "   Потраченные_деньги_много  Алкоголь_в_напитке_нет  \\\n",
       "0                         1                       0   \n",
       "1                         0                       0   \n",
       "2                         1                       1   \n",
       "3                         0                       1   \n",
       "4                         1                       0   \n",
       "5                         1                       0   \n",
       "6                         1                       0   \n",
       "\n",
       "   Уровень_красноречия_средний  Потраченные_деньги_мало  \\\n",
       "0                            0                        0   \n",
       "1                            0                        1   \n",
       "2                            1                        0   \n",
       "3                            1                        1   \n",
       "4                            0                        0   \n",
       "5                            0                        0   \n",
       "6                            1                        0   \n",
       "\n",
       "   Внешность_отталкивающая  \n",
       "0                        0  \n",
       "1                        0  \n",
       "2                        0  \n",
       "3                        1  \n",
       "4                        1  \n",
       "5                        1  \n",
       "6                        0  "
      ]
     },
     "execution_count": 6,
     "metadata": {},
     "output_type": "execute_result"
    }
   ],
   "source": [
    "# Некоторые значения признаков есть в тесте, но нет в трейне и наоборот\n",
    "y = df_train['Поедет']\n",
    "df_train, df_test = intersect_features(train=df_train, test=df_test)\n",
    "df_train"
   ]
  },
  {
   "cell_type": "code",
   "execution_count": 7,
   "metadata": {},
   "outputs": [
    {
     "data": {
      "text/html": [
       "<div>\n",
       "<style scoped>\n",
       "    .dataframe tbody tr th:only-of-type {\n",
       "        vertical-align: middle;\n",
       "    }\n",
       "\n",
       "    .dataframe tbody tr th {\n",
       "        vertical-align: top;\n",
       "    }\n",
       "\n",
       "    .dataframe thead th {\n",
       "        text-align: right;\n",
       "    }\n",
       "</style>\n",
       "<table border=\"1\" class=\"dataframe\">\n",
       "  <thead>\n",
       "    <tr style=\"text-align: right;\">\n",
       "      <th></th>\n",
       "      <th>Алкоголь_в_напитке_да</th>\n",
       "      <th>Внешность_приятная</th>\n",
       "      <th>Уровень_красноречия_высокий</th>\n",
       "      <th>Потраченные_деньги_много</th>\n",
       "      <th>Алкоголь_в_напитке_нет</th>\n",
       "      <th>Уровень_красноречия_средний</th>\n",
       "      <th>Потраченные_деньги_мало</th>\n",
       "      <th>Внешность_отталкивающая</th>\n",
       "    </tr>\n",
       "  </thead>\n",
       "  <tbody>\n",
       "    <tr>\n",
       "      <th>0</th>\n",
       "      <td>0</td>\n",
       "      <td>1</td>\n",
       "      <td>0</td>\n",
       "      <td>1</td>\n",
       "      <td>1</td>\n",
       "      <td>1</td>\n",
       "      <td>0</td>\n",
       "      <td>0</td>\n",
       "    </tr>\n",
       "    <tr>\n",
       "      <th>1</th>\n",
       "      <td>1</td>\n",
       "      <td>1</td>\n",
       "      <td>1</td>\n",
       "      <td>0</td>\n",
       "      <td>0</td>\n",
       "      <td>0</td>\n",
       "      <td>1</td>\n",
       "      <td>0</td>\n",
       "    </tr>\n",
       "    <tr>\n",
       "      <th>2</th>\n",
       "      <td>1</td>\n",
       "      <td>0</td>\n",
       "      <td>0</td>\n",
       "      <td>1</td>\n",
       "      <td>0</td>\n",
       "      <td>1</td>\n",
       "      <td>0</td>\n",
       "      <td>1</td>\n",
       "    </tr>\n",
       "  </tbody>\n",
       "</table>\n",
       "</div>"
      ],
      "text/plain": [
       "   Алкоголь_в_напитке_да  Внешность_приятная  Уровень_красноречия_высокий  \\\n",
       "0                      0                   1                            0   \n",
       "1                      1                   1                            1   \n",
       "2                      1                   0                            0   \n",
       "\n",
       "   Потраченные_деньги_много  Алкоголь_в_напитке_нет  \\\n",
       "0                         1                       1   \n",
       "1                         0                       0   \n",
       "2                         1                       0   \n",
       "\n",
       "   Уровень_красноречия_средний  Потраченные_деньги_мало  \\\n",
       "0                            1                        0   \n",
       "1                            0                        1   \n",
       "2                            1                        0   \n",
       "\n",
       "   Внешность_отталкивающая  \n",
       "0                        0  \n",
       "1                        0  \n",
       "2                        1  "
      ]
     },
     "execution_count": 7,
     "metadata": {},
     "output_type": "execute_result"
    }
   ],
   "source": [
    "df_test"
   ]
  },
  {
   "cell_type": "markdown",
   "metadata": {},
   "source": [
    "**Постройте от руки (или в графическом редакторе) дерево решений для этого набора данных. Дополнительно (для желающих) – можете сделать отрисовку дерева и написать код для построения всего дерева.**"
   ]
  },
  {
   "cell_type": "markdown",
   "metadata": {},
   "source": [
    "<font color='red'>Вопрос 1.</font> Какова энтропия начальной системы ($S_0$)? Под состояниями системы понимаем значения признака \"Поедет\" – 0 или 1 (то есть всего 2 состояния)."
   ]
  },
  {
   "cell_type": "markdown",
   "metadata": {},
   "source": [
    "<font color='red'>Вопрос 2. </font> Рассмотрим разбиение обучающей выборки по признаку \"Внешность\\_приятная\". Какова энтропия  $S_1$ левой группы, тех, у кого внешность приятная, и правой группы – $S_2$? Каков прирост информации  при данном разбиении (IG)? "
   ]
  },
  {
   "cell_type": "code",
   "execution_count": 8,
   "metadata": {},
   "outputs": [],
   "source": [
    "# Ваш код здесь"
   ]
  },
  {
   "cell_type": "markdown",
   "metadata": {},
   "source": [
    "**Постройте с помощью `sklearn` дерево решений, обучив его на обучающей выборке. Глубину можно не ограничивать.**"
   ]
  },
  {
   "cell_type": "code",
   "execution_count": 9,
   "metadata": {},
   "outputs": [
    {
     "data": {
      "text/plain": [
       "DecisionTreeClassifier(class_weight=None, criterion='entropy', max_depth=None,\n",
       "                       max_features=None, max_leaf_nodes=None,\n",
       "                       min_impurity_decrease=0.0, min_impurity_split=None,\n",
       "                       min_samples_leaf=1, min_samples_split=2,\n",
       "                       min_weight_fraction_leaf=0.0, presort=False,\n",
       "                       random_state=17, splitter='best')"
      ]
     },
     "execution_count": 9,
     "metadata": {},
     "output_type": "execute_result"
    }
   ],
   "source": [
    "# Ваш код здесь\n",
    "dtree = DecisionTreeClassifier(criterion='entropy', random_state=17)\n",
    "dtree.fit(df_train,y)"
   ]
  },
  {
   "cell_type": "markdown",
   "metadata": {},
   "source": [
    "**Дополнительно: отобразите дерево с помощью graphviz. Можно использовать `pydot` или, например, [онлайн-сервис](https://www.coolutils.com/ru/online/DOT-to-PNG) dot2png.**"
   ]
  },
  {
   "cell_type": "code",
   "execution_count": 10,
   "metadata": {},
   "outputs": [
    {
     "data": {
      "image/png": "[encoded data removed]",
      "text/plain": [
       "<Figure size 720x576 with 1 Axes>"
      ]
     },
     "metadata": {
      "needs_background": "light"
     },
     "output_type": "display_data"
    }
   ],
   "source": [
    "# Ваш код здесь\n",
    "plot_tree(dtree, feature_names=df_train.columns, filled=True, class_names=['Wont go', 'Will go']);"
   ]
  },
  {
   "cell_type": "markdown",
   "metadata": {},
   "source": [
    "## Часть 2. Функции для расчета энтропии и прироста информации"
   ]
  },
  {
   "cell_type": "markdown",
   "metadata": {},
   "source": [
    "Примерчик для проверки: 9 синих шариков и 11 желтых. Пусть шарик находится в состоянии \"1\", если он синий и \"0\" – если он желтый."
   ]
  },
  {
   "cell_type": "code",
   "execution_count": 11,
   "metadata": {},
   "outputs": [],
   "source": [
    "balls = [1 for i in range(9)] + [0 for i in range(11)]"
   ]
  },
  {
   "cell_type": "markdown",
   "metadata": {},
   "source": [
    "![png](../../img/decision_tree3.png)"
   ]
  },
  {
   "cell_type": "markdown",
   "metadata": {},
   "source": [
    "Дальше пусть шарики разбиваются на 2 группы\n",
    "![png](../../img/decision_tree4.png)"
   ]
  },
  {
   "cell_type": "code",
   "execution_count": 12,
   "metadata": {},
   "outputs": [],
   "source": [
    "# две группы\n",
    "balls_left  = [1 for i in range(8)] + [0 for i in range(5)] # 8 синих и 5 желтых\n",
    "balls_right = [1 for i in range(1)] + [0 for i in range(6)] # 1 синий и 6 желтых"
   ]
  },
  {
   "cell_type": "markdown",
   "metadata": {},
   "source": [
    "**Реализуйте функцию для расчета энтропии Шеннона.**"
   ]
  },
  {
   "cell_type": "code",
   "execution_count": 13,
   "metadata": {},
   "outputs": [],
   "source": [
    "from math import log\n",
    "def entropy(a_list):\n",
    "    lst = list(a_list)\n",
    "    size = len(lst)\n",
    "    S = 0\n",
    "    set_el = len(set(lst))\n",
    "    if set_el in [0,1]:\n",
    "        return 0\n",
    "    for i in set(lst):\n",
    "        occ = lst.count(i)\n",
    "        S -= occ/size * log(occ/size, 2)\n",
    "    return S"
   ]
  },
  {
   "cell_type": "markdown",
   "metadata": {},
   "source": [
    "Проверка"
   ]
  },
  {
   "cell_type": "code",
   "execution_count": 14,
   "metadata": {},
   "outputs": [
    {
     "name": "stdout",
     "output_type": "stream",
     "text": [
      "0.9927744539878084\n",
      "0.961236604722876\n",
      "0.5916727785823275\n",
      "2.584962500721156\n"
     ]
    }
   ],
   "source": [
    "print(entropy(balls)) # 9 синих и 11 желтых\n",
    "print(entropy(balls_left)) # 8 синих и 5 желтых\n",
    "print(entropy(balls_right)) # 1 синий и 6 желтых\n",
    "print(entropy([1,2,3,4,5,6])) # энтропия игральной кости с несмещенным центром тяжести"
   ]
  },
  {
   "cell_type": "markdown",
   "metadata": {},
   "source": [
    "<font color='red'>Вопрос 3.</font> Чему равна энтропия состояния, заданного списком `balls_left`?"
   ]
  },
  {
   "cell_type": "markdown",
   "metadata": {},
   "source": [
    "<font color='red'>Вопрос 4.</font> Чему равна энтропия игральной кости с несмещенным центром тяжести?"
   ]
  },
  {
   "cell_type": "code",
   "execution_count": 15,
   "metadata": {},
   "outputs": [],
   "source": [
    "# расчет прироста информации\n",
    "\n",
    "def information_gain(root, left, right):\n",
    "    ''' root - изначальный набор данных, left и right два разбиения изначального набора'''\n",
    "    return(entropy(root) - (len(left)/len(root))*entropy(left) - (len(right)/len(root))*entropy(right))"
   ]
  },
  {
   "cell_type": "markdown",
   "metadata": {},
   "source": [
    "<font color='red'>Вопрос 5.  </font> Каков прирост информации при разделении выборки на `balls_left` и `balls_right`?"
   ]
  },
  {
   "cell_type": "code",
   "execution_count": 16,
   "metadata": {},
   "outputs": [
    {
     "data": {
      "text/plain": [
       "0.16088518841412436"
      ]
     },
     "execution_count": 16,
     "metadata": {},
     "output_type": "execute_result"
    }
   ],
   "source": [
    "# Ваш код здесь\n",
    "information_gain(balls, balls_left, balls_right)"
   ]
  },
  {
   "cell_type": "code",
   "execution_count": 17,
   "metadata": {},
   "outputs": [],
   "source": [
    "def best_feature_to_split(X, y):\n",
    "    ''' Выводит прирост информации при разбиении по каждому признаку'''\n",
    "    out = []\n",
    "    for i in X.columns:\n",
    "        out.append(information_gain(y, y[X[i]==0], y[X[i]==1]))\n",
    "    return out"
   ]
  },
  {
   "cell_type": "code",
   "execution_count": 18,
   "metadata": {},
   "outputs": [
    {
     "data": {
      "text/plain": [
       "[0.005977711423774124,\n",
       " 0.12808527889139454,\n",
       " 0.2916919971380598,\n",
       " 0.46956521111470706,\n",
       " 0.005977711423774124,\n",
       " 0.02024420715375619,\n",
       " 0.46956521111470706,\n",
       " 0.12808527889139454]"
      ]
     },
     "execution_count": 18,
     "metadata": {},
     "output_type": "execute_result"
    }
   ],
   "source": [
    "best_feature_to_split(df_train, y)"
   ]
  },
  {
   "cell_type": "code",
   "execution_count": 19,
   "metadata": {},
   "outputs": [],
   "source": [
    "def btree(X, y, feature_names):\n",
    "    clf = best_feature_to_split(X, y)\n",
    "    best_feat_id = clf.index(max(clf))\n",
    "    best_feature = feature_names[best_feat_id]\n",
    "    print(f\"Best feature to split: {best_feature}\")\n",
    "\n",
    "    x_left = X[X.iloc[:, best_feat_id] == 0]\n",
    "    x_right = X[X.iloc[:, best_feat_id] == 1]\n",
    "    print(f\"Samples: {len(x_left)} (left) and {len(x_right)} (right)\")\n",
    "\n",
    "    y_left = y[X.iloc[:, best_feat_id] == 0]\n",
    "    y_right = y[X.iloc[:, best_feat_id] == 1]\n",
    "    entropy_left = entropy(y_left)\n",
    "    entropy_right = entropy(y_right)\n",
    "    print(f\"Entropy: {entropy_left} (left) and {entropy_right} (right)\")\n",
    "    print(\"_\" * 30 + \"\\n\")\n",
    "    if entropy_left != 0:\n",
    "        print(f\"Splitting the left group with {len(x_left)} samples:\")\n",
    "        btree(x_left, y_left, feature_names)\n",
    "    if entropy_right != 0:\n",
    "        print(f\"Splitting the right group with {len(x_right)} samples:\")\n",
    "        btree(x_right, y_right, feature_names)\n"
   ]
  },
  {
   "cell_type": "code",
   "execution_count": 20,
   "metadata": {},
   "outputs": [
    {
     "name": "stdout",
     "output_type": "stream",
     "text": [
      "Best feature to split: Потраченные_деньги_много\n",
      "Samples: 2 (left) and 5 (right)\n",
      "Entropy: 0 (left) and 0.7219280948873623 (right)\n",
      "______________________________\n",
      "\n",
      "Splitting the right group with 5 samples:\n",
      "Best feature to split: Внешность_приятная\n",
      "Samples: 2 (left) and 3 (right)\n",
      "Entropy: 1.0 (left) and 0 (right)\n",
      "______________________________\n",
      "\n",
      "Splitting the left group with 2 samples:\n",
      "Best feature to split: Уровень_красноречия_высокий\n",
      "Samples: 1 (left) and 1 (right)\n",
      "Entropy: 0 (left) and 0 (right)\n",
      "______________________________\n",
      "\n"
     ]
    }
   ],
   "source": [
    "btree(df_train, y, df_train.columns)"
   ]
  },
  {
   "cell_type": "markdown",
   "metadata": {},
   "source": [
    "**Опционально:**\n",
    "\n",
    " - реализуйте алгоритм построения дерева за счет рекурсивного вызова функции `best_feature_to_split`\n",
    " - нарисуйте полученное дерево"
   ]
  },
  {
   "cell_type": "markdown",
   "metadata": {},
   "source": [
    "## Часть 3. Набор данных \"Adult\""
   ]
  },
  {
   "cell_type": "markdown",
   "metadata": {},
   "source": [
    "**Описание набора:**"
   ]
  },
  {
   "cell_type": "markdown",
   "metadata": {},
   "source": [
    "**[Набор](http://archive.ics.uci.edu/ml/machine-learning-databases/adult) данных UCI Adult** (качать не надо, все есть в репозитории): классификация людей с помощью демографических данных для прогнозирования, зарабатывает ли человек более \\$ 50 000 в год.\n",
    "\n",
    "Описание признаков: \n",
    "\n",
    "**Age** – возраст, количественный признак  \n",
    "**Workclass** – тип работодателя, количественный признак  \n",
    "**fnlwgt** – итоговый вес обьекта, количественный признак    \n",
    "**Education** – уровень образования, качественный признак  \n",
    "**Education_Num** – количество лет обучения, количественный признак  \n",
    "**Martial_Status** – семейное положение, категориальный признак  \n",
    "**Occupation** – профессия, категориальный признак  \n",
    "**Relationship** – тип семейных отношений, категориальный признак    \n",
    "**Race** – раса, категориальный признак  \n",
    "**Sex** – пол, качественный признак  \n",
    "**Capital_Gain** – прирост капитала, количественный признак  \n",
    "**Capital_Loss** – потери капитала, количественный признак  \n",
    "**Hours_per_week** – количество часов работы в неделю, количественный признак  \n",
    "**Country** – страна, категориальный признак  \n",
    "   \n",
    "Целевая переменная: **Target** – уровень заработка, категориальный (бинарный) признак  "
   ]
  },
  {
   "cell_type": "markdown",
   "metadata": {},
   "source": [
    "**Считываем обучающую и тестовую выборки.**"
   ]
  },
  {
   "cell_type": "code",
   "execution_count": 21,
   "metadata": {},
   "outputs": [],
   "source": [
    "data_train = pd.read_csv('data/adult_train.csv', sep=';') "
   ]
  },
  {
   "cell_type": "code",
   "execution_count": 22,
   "metadata": {},
   "outputs": [
    {
     "data": {
      "text/html": [
       "<div>\n",
       "<style scoped>\n",
       "    .dataframe tbody tr th:only-of-type {\n",
       "        vertical-align: middle;\n",
       "    }\n",
       "\n",
       "    .dataframe tbody tr th {\n",
       "        vertical-align: top;\n",
       "    }\n",
       "\n",
       "    .dataframe thead th {\n",
       "        text-align: right;\n",
       "    }\n",
       "</style>\n",
       "<table border=\"1\" class=\"dataframe\">\n",
       "  <thead>\n",
       "    <tr style=\"text-align: right;\">\n",
       "      <th></th>\n",
       "      <th>Age</th>\n",
       "      <th>Workclass</th>\n",
       "      <th>fnlwgt</th>\n",
       "      <th>Education</th>\n",
       "      <th>Education_Num</th>\n",
       "      <th>Martial_Status</th>\n",
       "      <th>Occupation</th>\n",
       "      <th>Relationship</th>\n",
       "      <th>Race</th>\n",
       "      <th>Sex</th>\n",
       "      <th>Capital_Gain</th>\n",
       "      <th>Capital_Loss</th>\n",
       "      <th>Hours_per_week</th>\n",
       "      <th>Country</th>\n",
       "      <th>Target</th>\n",
       "    </tr>\n",
       "  </thead>\n",
       "  <tbody>\n",
       "    <tr>\n",
       "      <th>32556</th>\n",
       "      <td>27</td>\n",
       "      <td>Private</td>\n",
       "      <td>257302</td>\n",
       "      <td>Assoc-acdm</td>\n",
       "      <td>12</td>\n",
       "      <td>Married-civ-spouse</td>\n",
       "      <td>Tech-support</td>\n",
       "      <td>Wife</td>\n",
       "      <td>White</td>\n",
       "      <td>Female</td>\n",
       "      <td>0</td>\n",
       "      <td>0</td>\n",
       "      <td>38</td>\n",
       "      <td>United-States</td>\n",
       "      <td>&lt;=50K</td>\n",
       "    </tr>\n",
       "    <tr>\n",
       "      <th>32557</th>\n",
       "      <td>40</td>\n",
       "      <td>Private</td>\n",
       "      <td>154374</td>\n",
       "      <td>HS-grad</td>\n",
       "      <td>9</td>\n",
       "      <td>Married-civ-spouse</td>\n",
       "      <td>Machine-op-inspct</td>\n",
       "      <td>Husband</td>\n",
       "      <td>White</td>\n",
       "      <td>Male</td>\n",
       "      <td>0</td>\n",
       "      <td>0</td>\n",
       "      <td>40</td>\n",
       "      <td>United-States</td>\n",
       "      <td>&gt;50K</td>\n",
       "    </tr>\n",
       "    <tr>\n",
       "      <th>32558</th>\n",
       "      <td>58</td>\n",
       "      <td>Private</td>\n",
       "      <td>151910</td>\n",
       "      <td>HS-grad</td>\n",
       "      <td>9</td>\n",
       "      <td>Widowed</td>\n",
       "      <td>Adm-clerical</td>\n",
       "      <td>Unmarried</td>\n",
       "      <td>White</td>\n",
       "      <td>Female</td>\n",
       "      <td>0</td>\n",
       "      <td>0</td>\n",
       "      <td>40</td>\n",
       "      <td>United-States</td>\n",
       "      <td>&lt;=50K</td>\n",
       "    </tr>\n",
       "    <tr>\n",
       "      <th>32559</th>\n",
       "      <td>22</td>\n",
       "      <td>Private</td>\n",
       "      <td>201490</td>\n",
       "      <td>HS-grad</td>\n",
       "      <td>9</td>\n",
       "      <td>Never-married</td>\n",
       "      <td>Adm-clerical</td>\n",
       "      <td>Own-child</td>\n",
       "      <td>White</td>\n",
       "      <td>Male</td>\n",
       "      <td>0</td>\n",
       "      <td>0</td>\n",
       "      <td>20</td>\n",
       "      <td>United-States</td>\n",
       "      <td>&lt;=50K</td>\n",
       "    </tr>\n",
       "    <tr>\n",
       "      <th>32560</th>\n",
       "      <td>52</td>\n",
       "      <td>Self-emp-inc</td>\n",
       "      <td>287927</td>\n",
       "      <td>HS-grad</td>\n",
       "      <td>9</td>\n",
       "      <td>Married-civ-spouse</td>\n",
       "      <td>Exec-managerial</td>\n",
       "      <td>Wife</td>\n",
       "      <td>White</td>\n",
       "      <td>Female</td>\n",
       "      <td>15024</td>\n",
       "      <td>0</td>\n",
       "      <td>40</td>\n",
       "      <td>United-States</td>\n",
       "      <td>&gt;50K</td>\n",
       "    </tr>\n",
       "  </tbody>\n",
       "</table>\n",
       "</div>"
      ],
      "text/plain": [
       "       Age      Workclass  fnlwgt    Education  Education_Num  \\\n",
       "32556   27        Private  257302   Assoc-acdm             12   \n",
       "32557   40        Private  154374      HS-grad              9   \n",
       "32558   58        Private  151910      HS-grad              9   \n",
       "32559   22        Private  201490      HS-grad              9   \n",
       "32560   52   Self-emp-inc  287927      HS-grad              9   \n",
       "\n",
       "            Martial_Status          Occupation Relationship    Race      Sex  \\\n",
       "32556   Married-civ-spouse        Tech-support         Wife   White   Female   \n",
       "32557   Married-civ-spouse   Machine-op-inspct      Husband   White     Male   \n",
       "32558              Widowed        Adm-clerical    Unmarried   White   Female   \n",
       "32559        Never-married        Adm-clerical    Own-child   White     Male   \n",
       "32560   Married-civ-spouse     Exec-managerial         Wife   White   Female   \n",
       "\n",
       "       Capital_Gain  Capital_Loss  Hours_per_week         Country  Target  \n",
       "32556             0             0              38   United-States   <=50K  \n",
       "32557             0             0              40   United-States    >50K  \n",
       "32558             0             0              40   United-States   <=50K  \n",
       "32559             0             0              20   United-States   <=50K  \n",
       "32560         15024             0              40   United-States    >50K  "
      ]
     },
     "execution_count": 22,
     "metadata": {},
     "output_type": "execute_result"
    }
   ],
   "source": [
    "data_train.tail()"
   ]
  },
  {
   "cell_type": "code",
   "execution_count": 23,
   "metadata": {},
   "outputs": [],
   "source": [
    "data_test = pd.read_csv('data/adult_test.csv', sep=';') "
   ]
  },
  {
   "cell_type": "code",
   "execution_count": 24,
   "metadata": {},
   "outputs": [
    {
     "data": {
      "text/html": [
       "<div>\n",
       "<style scoped>\n",
       "    .dataframe tbody tr th:only-of-type {\n",
       "        vertical-align: middle;\n",
       "    }\n",
       "\n",
       "    .dataframe tbody tr th {\n",
       "        vertical-align: top;\n",
       "    }\n",
       "\n",
       "    .dataframe thead th {\n",
       "        text-align: right;\n",
       "    }\n",
       "</style>\n",
       "<table border=\"1\" class=\"dataframe\">\n",
       "  <thead>\n",
       "    <tr style=\"text-align: right;\">\n",
       "      <th></th>\n",
       "      <th>Age</th>\n",
       "      <th>Workclass</th>\n",
       "      <th>fnlwgt</th>\n",
       "      <th>Education</th>\n",
       "      <th>Education_Num</th>\n",
       "      <th>Martial_Status</th>\n",
       "      <th>Occupation</th>\n",
       "      <th>Relationship</th>\n",
       "      <th>Race</th>\n",
       "      <th>Sex</th>\n",
       "      <th>Capital_Gain</th>\n",
       "      <th>Capital_Loss</th>\n",
       "      <th>Hours_per_week</th>\n",
       "      <th>Country</th>\n",
       "      <th>Target</th>\n",
       "    </tr>\n",
       "  </thead>\n",
       "  <tbody>\n",
       "    <tr>\n",
       "      <th>16277</th>\n",
       "      <td>39</td>\n",
       "      <td>Private</td>\n",
       "      <td>215419.0</td>\n",
       "      <td>Bachelors</td>\n",
       "      <td>13.0</td>\n",
       "      <td>Divorced</td>\n",
       "      <td>Prof-specialty</td>\n",
       "      <td>Not-in-family</td>\n",
       "      <td>White</td>\n",
       "      <td>Female</td>\n",
       "      <td>0.0</td>\n",
       "      <td>0.0</td>\n",
       "      <td>36.0</td>\n",
       "      <td>United-States</td>\n",
       "      <td>&lt;=50K.</td>\n",
       "    </tr>\n",
       "    <tr>\n",
       "      <th>16278</th>\n",
       "      <td>64</td>\n",
       "      <td>NaN</td>\n",
       "      <td>321403.0</td>\n",
       "      <td>HS-grad</td>\n",
       "      <td>9.0</td>\n",
       "      <td>Widowed</td>\n",
       "      <td>NaN</td>\n",
       "      <td>Other-relative</td>\n",
       "      <td>Black</td>\n",
       "      <td>Male</td>\n",
       "      <td>0.0</td>\n",
       "      <td>0.0</td>\n",
       "      <td>40.0</td>\n",
       "      <td>United-States</td>\n",
       "      <td>&lt;=50K.</td>\n",
       "    </tr>\n",
       "    <tr>\n",
       "      <th>16279</th>\n",
       "      <td>38</td>\n",
       "      <td>Private</td>\n",
       "      <td>374983.0</td>\n",
       "      <td>Bachelors</td>\n",
       "      <td>13.0</td>\n",
       "      <td>Married-civ-spouse</td>\n",
       "      <td>Prof-specialty</td>\n",
       "      <td>Husband</td>\n",
       "      <td>White</td>\n",
       "      <td>Male</td>\n",
       "      <td>0.0</td>\n",
       "      <td>0.0</td>\n",
       "      <td>50.0</td>\n",
       "      <td>United-States</td>\n",
       "      <td>&lt;=50K.</td>\n",
       "    </tr>\n",
       "    <tr>\n",
       "      <th>16280</th>\n",
       "      <td>44</td>\n",
       "      <td>Private</td>\n",
       "      <td>83891.0</td>\n",
       "      <td>Bachelors</td>\n",
       "      <td>13.0</td>\n",
       "      <td>Divorced</td>\n",
       "      <td>Adm-clerical</td>\n",
       "      <td>Own-child</td>\n",
       "      <td>Asian-Pac-Islander</td>\n",
       "      <td>Male</td>\n",
       "      <td>5455.0</td>\n",
       "      <td>0.0</td>\n",
       "      <td>40.0</td>\n",
       "      <td>United-States</td>\n",
       "      <td>&lt;=50K.</td>\n",
       "    </tr>\n",
       "    <tr>\n",
       "      <th>16281</th>\n",
       "      <td>35</td>\n",
       "      <td>Self-emp-inc</td>\n",
       "      <td>182148.0</td>\n",
       "      <td>Bachelors</td>\n",
       "      <td>13.0</td>\n",
       "      <td>Married-civ-spouse</td>\n",
       "      <td>Exec-managerial</td>\n",
       "      <td>Husband</td>\n",
       "      <td>White</td>\n",
       "      <td>Male</td>\n",
       "      <td>0.0</td>\n",
       "      <td>0.0</td>\n",
       "      <td>60.0</td>\n",
       "      <td>United-States</td>\n",
       "      <td>&gt;50K.</td>\n",
       "    </tr>\n",
       "  </tbody>\n",
       "</table>\n",
       "</div>"
      ],
      "text/plain": [
       "      Age      Workclass    fnlwgt   Education  Education_Num  \\\n",
       "16277  39        Private  215419.0   Bachelors           13.0   \n",
       "16278  64            NaN  321403.0     HS-grad            9.0   \n",
       "16279  38        Private  374983.0   Bachelors           13.0   \n",
       "16280  44        Private   83891.0   Bachelors           13.0   \n",
       "16281  35   Self-emp-inc  182148.0   Bachelors           13.0   \n",
       "\n",
       "            Martial_Status        Occupation     Relationship  \\\n",
       "16277             Divorced    Prof-specialty    Not-in-family   \n",
       "16278              Widowed               NaN   Other-relative   \n",
       "16279   Married-civ-spouse    Prof-specialty          Husband   \n",
       "16280             Divorced      Adm-clerical        Own-child   \n",
       "16281   Married-civ-spouse   Exec-managerial          Husband   \n",
       "\n",
       "                      Race      Sex  Capital_Gain  Capital_Loss  \\\n",
       "16277                White   Female           0.0           0.0   \n",
       "16278                Black     Male           0.0           0.0   \n",
       "16279                White     Male           0.0           0.0   \n",
       "16280   Asian-Pac-Islander     Male        5455.0           0.0   \n",
       "16281                White     Male           0.0           0.0   \n",
       "\n",
       "       Hours_per_week         Country   Target  \n",
       "16277            36.0   United-States   <=50K.  \n",
       "16278            40.0   United-States   <=50K.  \n",
       "16279            50.0   United-States   <=50K.  \n",
       "16280            40.0   United-States   <=50K.  \n",
       "16281            60.0   United-States    >50K.  "
      ]
     },
     "execution_count": 24,
     "metadata": {},
     "output_type": "execute_result"
    }
   ],
   "source": [
    "data_test.tail()"
   ]
  },
  {
   "cell_type": "code",
   "execution_count": 25,
   "metadata": {},
   "outputs": [],
   "source": [
    "# необходимо убрать строки с неправильными метками в тестовой выборке\n",
    "data_test = data_test[(data_test['Target'] == ' >50K.') \n",
    "                      | (data_test['Target']==' <=50K.')]\n",
    "\n",
    "# перекодируем target в числовое поле\n",
    "data_train.at[data_train['Target'] == ' <=50K', 'Target'] = 0\n",
    "data_train.at[data_train['Target'] == ' >50K', 'Target'] = 1\n",
    "\n",
    "data_test.at[data_test['Target'] == ' <=50K.', 'Target'] = 0\n",
    "data_test.at[data_test['Target'] == ' >50K.', 'Target'] = 1"
   ]
  },
  {
   "cell_type": "markdown",
   "metadata": {},
   "source": [
    "**Первичный анализ данных.**"
   ]
  },
  {
   "cell_type": "code",
   "execution_count": 26,
   "metadata": {},
   "outputs": [
    {
     "data": {
      "text/html": [
       "<div>\n",
       "<style scoped>\n",
       "    .dataframe tbody tr th:only-of-type {\n",
       "        vertical-align: middle;\n",
       "    }\n",
       "\n",
       "    .dataframe tbody tr th {\n",
       "        vertical-align: top;\n",
       "    }\n",
       "\n",
       "    .dataframe thead th {\n",
       "        text-align: right;\n",
       "    }\n",
       "</style>\n",
       "<table border=\"1\" class=\"dataframe\">\n",
       "  <thead>\n",
       "    <tr style=\"text-align: right;\">\n",
       "      <th></th>\n",
       "      <th>count</th>\n",
       "      <th>unique</th>\n",
       "      <th>top</th>\n",
       "      <th>freq</th>\n",
       "      <th>mean</th>\n",
       "      <th>std</th>\n",
       "      <th>min</th>\n",
       "      <th>25%</th>\n",
       "      <th>50%</th>\n",
       "      <th>75%</th>\n",
       "      <th>max</th>\n",
       "    </tr>\n",
       "  </thead>\n",
       "  <tbody>\n",
       "    <tr>\n",
       "      <th>Age</th>\n",
       "      <td>16281</td>\n",
       "      <td>73</td>\n",
       "      <td>35</td>\n",
       "      <td>461</td>\n",
       "      <td>NaN</td>\n",
       "      <td>NaN</td>\n",
       "      <td>NaN</td>\n",
       "      <td>NaN</td>\n",
       "      <td>NaN</td>\n",
       "      <td>NaN</td>\n",
       "      <td>NaN</td>\n",
       "    </tr>\n",
       "    <tr>\n",
       "      <th>Workclass</th>\n",
       "      <td>15318</td>\n",
       "      <td>8</td>\n",
       "      <td>Private</td>\n",
       "      <td>11210</td>\n",
       "      <td>NaN</td>\n",
       "      <td>NaN</td>\n",
       "      <td>NaN</td>\n",
       "      <td>NaN</td>\n",
       "      <td>NaN</td>\n",
       "      <td>NaN</td>\n",
       "      <td>NaN</td>\n",
       "    </tr>\n",
       "    <tr>\n",
       "      <th>fnlwgt</th>\n",
       "      <td>16281</td>\n",
       "      <td>NaN</td>\n",
       "      <td>NaN</td>\n",
       "      <td>NaN</td>\n",
       "      <td>189436</td>\n",
       "      <td>105715</td>\n",
       "      <td>13492</td>\n",
       "      <td>116736</td>\n",
       "      <td>177831</td>\n",
       "      <td>238384</td>\n",
       "      <td>1.4904e+06</td>\n",
       "    </tr>\n",
       "    <tr>\n",
       "      <th>Education</th>\n",
       "      <td>16281</td>\n",
       "      <td>16</td>\n",
       "      <td>HS-grad</td>\n",
       "      <td>5283</td>\n",
       "      <td>NaN</td>\n",
       "      <td>NaN</td>\n",
       "      <td>NaN</td>\n",
       "      <td>NaN</td>\n",
       "      <td>NaN</td>\n",
       "      <td>NaN</td>\n",
       "      <td>NaN</td>\n",
       "    </tr>\n",
       "    <tr>\n",
       "      <th>Education_Num</th>\n",
       "      <td>16281</td>\n",
       "      <td>NaN</td>\n",
       "      <td>NaN</td>\n",
       "      <td>NaN</td>\n",
       "      <td>10.0729</td>\n",
       "      <td>2.56755</td>\n",
       "      <td>1</td>\n",
       "      <td>9</td>\n",
       "      <td>10</td>\n",
       "      <td>12</td>\n",
       "      <td>16</td>\n",
       "    </tr>\n",
       "    <tr>\n",
       "      <th>Martial_Status</th>\n",
       "      <td>16281</td>\n",
       "      <td>7</td>\n",
       "      <td>Married-civ-spouse</td>\n",
       "      <td>7403</td>\n",
       "      <td>NaN</td>\n",
       "      <td>NaN</td>\n",
       "      <td>NaN</td>\n",
       "      <td>NaN</td>\n",
       "      <td>NaN</td>\n",
       "      <td>NaN</td>\n",
       "      <td>NaN</td>\n",
       "    </tr>\n",
       "    <tr>\n",
       "      <th>Occupation</th>\n",
       "      <td>15315</td>\n",
       "      <td>14</td>\n",
       "      <td>Prof-specialty</td>\n",
       "      <td>2032</td>\n",
       "      <td>NaN</td>\n",
       "      <td>NaN</td>\n",
       "      <td>NaN</td>\n",
       "      <td>NaN</td>\n",
       "      <td>NaN</td>\n",
       "      <td>NaN</td>\n",
       "      <td>NaN</td>\n",
       "    </tr>\n",
       "    <tr>\n",
       "      <th>Relationship</th>\n",
       "      <td>16281</td>\n",
       "      <td>6</td>\n",
       "      <td>Husband</td>\n",
       "      <td>6523</td>\n",
       "      <td>NaN</td>\n",
       "      <td>NaN</td>\n",
       "      <td>NaN</td>\n",
       "      <td>NaN</td>\n",
       "      <td>NaN</td>\n",
       "      <td>NaN</td>\n",
       "      <td>NaN</td>\n",
       "    </tr>\n",
       "    <tr>\n",
       "      <th>Race</th>\n",
       "      <td>16281</td>\n",
       "      <td>5</td>\n",
       "      <td>White</td>\n",
       "      <td>13946</td>\n",
       "      <td>NaN</td>\n",
       "      <td>NaN</td>\n",
       "      <td>NaN</td>\n",
       "      <td>NaN</td>\n",
       "      <td>NaN</td>\n",
       "      <td>NaN</td>\n",
       "      <td>NaN</td>\n",
       "    </tr>\n",
       "    <tr>\n",
       "      <th>Sex</th>\n",
       "      <td>16281</td>\n",
       "      <td>2</td>\n",
       "      <td>Male</td>\n",
       "      <td>10860</td>\n",
       "      <td>NaN</td>\n",
       "      <td>NaN</td>\n",
       "      <td>NaN</td>\n",
       "      <td>NaN</td>\n",
       "      <td>NaN</td>\n",
       "      <td>NaN</td>\n",
       "      <td>NaN</td>\n",
       "    </tr>\n",
       "    <tr>\n",
       "      <th>Capital_Gain</th>\n",
       "      <td>16281</td>\n",
       "      <td>NaN</td>\n",
       "      <td>NaN</td>\n",
       "      <td>NaN</td>\n",
       "      <td>1081.91</td>\n",
       "      <td>7583.94</td>\n",
       "      <td>0</td>\n",
       "      <td>0</td>\n",
       "      <td>0</td>\n",
       "      <td>0</td>\n",
       "      <td>99999</td>\n",
       "    </tr>\n",
       "    <tr>\n",
       "      <th>Capital_Loss</th>\n",
       "      <td>16281</td>\n",
       "      <td>NaN</td>\n",
       "      <td>NaN</td>\n",
       "      <td>NaN</td>\n",
       "      <td>87.8993</td>\n",
       "      <td>403.105</td>\n",
       "      <td>0</td>\n",
       "      <td>0</td>\n",
       "      <td>0</td>\n",
       "      <td>0</td>\n",
       "      <td>3770</td>\n",
       "    </tr>\n",
       "    <tr>\n",
       "      <th>Hours_per_week</th>\n",
       "      <td>16281</td>\n",
       "      <td>NaN</td>\n",
       "      <td>NaN</td>\n",
       "      <td>NaN</td>\n",
       "      <td>40.3922</td>\n",
       "      <td>12.4793</td>\n",
       "      <td>1</td>\n",
       "      <td>40</td>\n",
       "      <td>40</td>\n",
       "      <td>45</td>\n",
       "      <td>99</td>\n",
       "    </tr>\n",
       "    <tr>\n",
       "      <th>Country</th>\n",
       "      <td>16007</td>\n",
       "      <td>40</td>\n",
       "      <td>United-States</td>\n",
       "      <td>14662</td>\n",
       "      <td>NaN</td>\n",
       "      <td>NaN</td>\n",
       "      <td>NaN</td>\n",
       "      <td>NaN</td>\n",
       "      <td>NaN</td>\n",
       "      <td>NaN</td>\n",
       "      <td>NaN</td>\n",
       "    </tr>\n",
       "    <tr>\n",
       "      <th>Target</th>\n",
       "      <td>16281</td>\n",
       "      <td>NaN</td>\n",
       "      <td>NaN</td>\n",
       "      <td>NaN</td>\n",
       "      <td>0.236226</td>\n",
       "      <td>0.424776</td>\n",
       "      <td>0</td>\n",
       "      <td>0</td>\n",
       "      <td>0</td>\n",
       "      <td>0</td>\n",
       "      <td>1</td>\n",
       "    </tr>\n",
       "  </tbody>\n",
       "</table>\n",
       "</div>"
      ],
      "text/plain": [
       "                count unique                  top   freq      mean       std  \\\n",
       "Age             16281     73                   35    461       NaN       NaN   \n",
       "Workclass       15318      8              Private  11210       NaN       NaN   \n",
       "fnlwgt          16281    NaN                  NaN    NaN    189436    105715   \n",
       "Education       16281     16              HS-grad   5283       NaN       NaN   \n",
       "Education_Num   16281    NaN                  NaN    NaN   10.0729   2.56755   \n",
       "Martial_Status  16281      7   Married-civ-spouse   7403       NaN       NaN   \n",
       "Occupation      15315     14       Prof-specialty   2032       NaN       NaN   \n",
       "Relationship    16281      6              Husband   6523       NaN       NaN   \n",
       "Race            16281      5                White  13946       NaN       NaN   \n",
       "Sex             16281      2                 Male  10860       NaN       NaN   \n",
       "Capital_Gain    16281    NaN                  NaN    NaN   1081.91   7583.94   \n",
       "Capital_Loss    16281    NaN                  NaN    NaN   87.8993   403.105   \n",
       "Hours_per_week  16281    NaN                  NaN    NaN   40.3922   12.4793   \n",
       "Country         16007     40        United-States  14662       NaN       NaN   \n",
       "Target          16281    NaN                  NaN    NaN  0.236226  0.424776   \n",
       "\n",
       "                  min     25%     50%     75%         max  \n",
       "Age               NaN     NaN     NaN     NaN         NaN  \n",
       "Workclass         NaN     NaN     NaN     NaN         NaN  \n",
       "fnlwgt          13492  116736  177831  238384  1.4904e+06  \n",
       "Education         NaN     NaN     NaN     NaN         NaN  \n",
       "Education_Num       1       9      10      12          16  \n",
       "Martial_Status    NaN     NaN     NaN     NaN         NaN  \n",
       "Occupation        NaN     NaN     NaN     NaN         NaN  \n",
       "Relationship      NaN     NaN     NaN     NaN         NaN  \n",
       "Race              NaN     NaN     NaN     NaN         NaN  \n",
       "Sex               NaN     NaN     NaN     NaN         NaN  \n",
       "Capital_Gain        0       0       0       0       99999  \n",
       "Capital_Loss        0       0       0       0        3770  \n",
       "Hours_per_week      1      40      40      45          99  \n",
       "Country           NaN     NaN     NaN     NaN         NaN  \n",
       "Target              0       0       0       0           1  "
      ]
     },
     "execution_count": 26,
     "metadata": {},
     "output_type": "execute_result"
    }
   ],
   "source": [
    "data_test.describe(include='all').T"
   ]
  },
  {
   "cell_type": "code",
   "execution_count": 27,
   "metadata": {},
   "outputs": [
    {
     "data": {
      "text/plain": [
       "0    24720\n",
       "1     7841\n",
       "Name: Target, dtype: int64"
      ]
     },
     "execution_count": 27,
     "metadata": {},
     "output_type": "execute_result"
    }
   ],
   "source": [
    "data_train['Target'].value_counts()"
   ]
  },
  {
   "cell_type": "code",
   "execution_count": 28,
   "metadata": {},
   "outputs": [
    {
     "name": "stdout",
     "output_type": "stream",
     "text": [
      "<class 'pandas.core.frame.DataFrame'>\n",
      "RangeIndex: 32561 entries, 0 to 32560\n",
      "Data columns (total 15 columns):\n",
      "Age               32561 non-null int64\n",
      "Workclass         30725 non-null object\n",
      "fnlwgt            32561 non-null int64\n",
      "Education         32561 non-null object\n",
      "Education_Num     32561 non-null int64\n",
      "Martial_Status    32561 non-null object\n",
      "Occupation        30718 non-null object\n",
      "Relationship      32561 non-null object\n",
      "Race              32561 non-null object\n",
      "Sex               32561 non-null object\n",
      "Capital_Gain      32561 non-null int64\n",
      "Capital_Loss      32561 non-null int64\n",
      "Hours_per_week    32561 non-null int64\n",
      "Country           31978 non-null object\n",
      "Target            32561 non-null int64\n",
      "dtypes: int64(7), object(8)\n",
      "memory usage: 3.7+ MB\n"
     ]
    }
   ],
   "source": [
    "data_train.info()"
   ]
  },
  {
   "cell_type": "code",
   "execution_count": 29,
   "metadata": {},
   "outputs": [
    {
     "data": {
      "image/png": "[encoded data removed]",
      "text/plain": [
       "<Figure size 1800x1080 with 15 Axes>"
      ]
     },
     "metadata": {
      "needs_background": "light"
     },
     "output_type": "display_data"
    }
   ],
   "source": [
    "fig = plt.figure(figsize=(25, 15))\n",
    "cols = 5\n",
    "rows = np.ceil(float(data_train.shape[1]) / cols)\n",
    "for i, column in enumerate(data_train.columns):\n",
    "    ax = fig.add_subplot(rows, cols, i + 1)\n",
    "    ax.set_title(column)\n",
    "    if data_train.dtypes[column] == np.object:\n",
    "        data_train[column].value_counts().plot(kind=\"bar\", axes=ax)\n",
    "    else:\n",
    "        data_train[column].hist(axes=ax)\n",
    "        plt.xticks(rotation=\"vertical\")\n",
    "plt.subplots_adjust(hspace=0.7, wspace=0.2)"
   ]
  },
  {
   "cell_type": "markdown",
   "metadata": {},
   "source": [
    "**Проверяем типы данных**"
   ]
  },
  {
   "cell_type": "code",
   "execution_count": 30,
   "metadata": {},
   "outputs": [
    {
     "data": {
      "text/plain": [
       "Age                int64\n",
       "Workclass         object\n",
       "fnlwgt             int64\n",
       "Education         object\n",
       "Education_Num      int64\n",
       "Martial_Status    object\n",
       "Occupation        object\n",
       "Relationship      object\n",
       "Race              object\n",
       "Sex               object\n",
       "Capital_Gain       int64\n",
       "Capital_Loss       int64\n",
       "Hours_per_week     int64\n",
       "Country           object\n",
       "Target             int64\n",
       "dtype: object"
      ]
     },
     "execution_count": 30,
     "metadata": {},
     "output_type": "execute_result"
    }
   ],
   "source": [
    "data_train.dtypes"
   ]
  },
  {
   "cell_type": "code",
   "execution_count": 31,
   "metadata": {},
   "outputs": [
    {
     "data": {
      "text/plain": [
       "Age                object\n",
       "Workclass          object\n",
       "fnlwgt            float64\n",
       "Education          object\n",
       "Education_Num     float64\n",
       "Martial_Status     object\n",
       "Occupation         object\n",
       "Relationship       object\n",
       "Race               object\n",
       "Sex                object\n",
       "Capital_Gain      float64\n",
       "Capital_Loss      float64\n",
       "Hours_per_week    float64\n",
       "Country            object\n",
       "Target              int64\n",
       "dtype: object"
      ]
     },
     "execution_count": 31,
     "metadata": {},
     "output_type": "execute_result"
    }
   ],
   "source": [
    "data_test.dtypes"
   ]
  },
  {
   "cell_type": "markdown",
   "metadata": {},
   "source": [
    "Выяснилось, что в тесте возраст отнесен к типу object, необходимо это исправить."
   ]
  },
  {
   "cell_type": "code",
   "execution_count": 32,
   "metadata": {},
   "outputs": [],
   "source": [
    "data_test['Age'] = data_test['Age'].astype(int)"
   ]
  },
  {
   "cell_type": "markdown",
   "metadata": {},
   "source": [
    "Также приведем показатели типа float в int для соответствия train и test выборок."
   ]
  },
  {
   "cell_type": "code",
   "execution_count": 33,
   "metadata": {},
   "outputs": [],
   "source": [
    "data_test['fnlwgt'] = data_test['fnlwgt'].astype(int)\n",
    "data_test['Education_Num'] = data_test['Education_Num'].astype(int)\n",
    "data_test['Capital_Gain'] = data_test['Capital_Gain'].astype(int)\n",
    "data_test['Capital_Loss'] = data_test['Capital_Loss'].astype(int)\n",
    "data_test['Hours_per_week'] = data_test['Hours_per_week'].astype(int)"
   ]
  },
  {
   "cell_type": "markdown",
   "metadata": {},
   "source": [
    "**Заполним пропуски в количественных полях медианными значениями, а в категориальных – наиболее часто встречающимся значением**"
   ]
  },
  {
   "cell_type": "code",
   "execution_count": 34,
   "metadata": {},
   "outputs": [
    {
     "name": "stdout",
     "output_type": "stream",
     "text": [
      "categorical_columns_test: ['Workclass', 'Education', 'Martial_Status', 'Occupation', 'Relationship', 'Race', 'Sex', 'Country']\n",
      "categorical_columns_train: ['Workclass', 'Education', 'Martial_Status', 'Occupation', 'Relationship', 'Race', 'Sex', 'Country']\n",
      "numerical_columns_test: ['Age', 'fnlwgt', 'Education_Num', 'Capital_Gain', 'Capital_Loss', 'Hours_per_week', 'Target']\n",
      "numerical_columns_train: ['Age', 'fnlwgt', 'Education_Num', 'Capital_Gain', 'Capital_Loss', 'Hours_per_week', 'Target']\n"
     ]
    }
   ],
   "source": [
    "# выделим в выборках категориальные и числовые поля\n",
    "\n",
    "categorical_columns_train = [c for c in data_train.columns \n",
    "                             if data_train[c].dtype.name == 'object']\n",
    "numerical_columns_train = [c for c in data_train.columns \n",
    "                           if data_train[c].dtype.name != 'object']\n",
    "\n",
    "categorical_columns_test = [c for c in data_test.columns \n",
    "                            if data_test[c].dtype.name == 'object']\n",
    "numerical_columns_test = [c for c in data_test.columns \n",
    "                          if data_test[c].dtype.name != 'object']\n",
    "\n",
    "print('categorical_columns_test:', categorical_columns_test)\n",
    "print('categorical_columns_train:', categorical_columns_train)\n",
    "print('numerical_columns_test:', numerical_columns_test)\n",
    "print('numerical_columns_train:', numerical_columns_train)"
   ]
  },
  {
   "cell_type": "code",
   "execution_count": 35,
   "metadata": {},
   "outputs": [],
   "source": [
    "# заполним пропуски\n",
    "\n",
    "for c in categorical_columns_train:\n",
    "    data_train[c] = data_train[c].fillna(data_train[c].mode())\n",
    "for c in categorical_columns_test:\n",
    "    data_test[c] = data_test[c].fillna(data_train[c].mode())\n",
    "    \n",
    "for c in numerical_columns_train:\n",
    "    data_train[c] = data_train[c].fillna(data_train[c].median())\n",
    "for c in numerical_columns_test:\n",
    "    data_test[c] = data_test[c].fillna(data_train[c].median())    "
   ]
  },
  {
   "cell_type": "markdown",
   "metadata": {},
   "source": [
    "**Кодируем категориальные признаки 'Workclass', 'Education', 'Martial_Status', 'Occupation', 'Relationship', 'Race', 'Sex', 'Country'. Это можно сделать с помощью метода `pandas get_dummies`.**"
   ]
  },
  {
   "cell_type": "code",
   "execution_count": 36,
   "metadata": {},
   "outputs": [],
   "source": [
    "data_train = pd.concat([data_train, pd.get_dummies(data_train['Workclass'], \n",
    "                                                   prefix=\"Workclass\"),\n",
    "                      pd.get_dummies(data_train['Education'], prefix=\"Education\"),\n",
    "                      pd.get_dummies(data_train['Martial_Status'], prefix=\"Martial_Status\"),\n",
    "                      pd.get_dummies(data_train['Occupation'], prefix=\"Occupation\"),\n",
    "                      pd.get_dummies(data_train['Relationship'], prefix=\"Relationship\"),\n",
    "                      pd.get_dummies(data_train['Race'], prefix=\"Race\"),\n",
    "                      pd.get_dummies(data_train['Sex'], prefix=\"Sex\"),\n",
    "                      pd.get_dummies(data_train['Country'], prefix=\"Country\")],\n",
    "                     axis=1)\n",
    "\n",
    "data_test = pd.concat([data_test, pd.get_dummies(data_test['Workclass'], prefix=\"Workclass\"),\n",
    "                      pd.get_dummies(data_test['Education'], prefix=\"Education\"),\n",
    "                      pd.get_dummies(data_test['Martial_Status'], prefix=\"Martial_Status\"),\n",
    "                      pd.get_dummies(data_test['Occupation'], prefix=\"Occupation\"),\n",
    "                      pd.get_dummies(data_test['Relationship'], prefix=\"Relationship\"),\n",
    "                      pd.get_dummies(data_test['Race'], prefix=\"Race\"),\n",
    "                      pd.get_dummies(data_test['Sex'], prefix=\"Sex\"),\n",
    "                      pd.get_dummies(data_test['Country'], prefix=\"Country\")],\n",
    "                     axis=1)"
   ]
  },
  {
   "cell_type": "code",
   "execution_count": 37,
   "metadata": {},
   "outputs": [],
   "source": [
    "data_train.drop(['Workclass', 'Education', 'Martial_Status',\n",
    "                 'Occupation', 'Relationship', 'Race', 'Sex', 'Country'],\n",
    "                axis=1, inplace=True)\n",
    "data_test.drop(['Workclass', 'Education', 'Martial_Status', 'Occupation', \n",
    "                'Relationship', 'Race', 'Sex', 'Country'],\n",
    "               axis=1, inplace=True)"
   ]
  },
  {
   "cell_type": "code",
   "execution_count": 38,
   "metadata": {},
   "outputs": [
    {
     "data": {
      "text/html": [
       "<div>\n",
       "<style scoped>\n",
       "    .dataframe tbody tr th:only-of-type {\n",
       "        vertical-align: middle;\n",
       "    }\n",
       "\n",
       "    .dataframe tbody tr th {\n",
       "        vertical-align: top;\n",
       "    }\n",
       "\n",
       "    .dataframe thead th {\n",
       "        text-align: right;\n",
       "    }\n",
       "</style>\n",
       "<table border=\"1\" class=\"dataframe\">\n",
       "  <thead>\n",
       "    <tr style=\"text-align: right;\">\n",
       "      <th></th>\n",
       "      <th>count</th>\n",
       "      <th>mean</th>\n",
       "      <th>std</th>\n",
       "      <th>min</th>\n",
       "      <th>25%</th>\n",
       "      <th>50%</th>\n",
       "      <th>75%</th>\n",
       "      <th>max</th>\n",
       "    </tr>\n",
       "  </thead>\n",
       "  <tbody>\n",
       "    <tr>\n",
       "      <th>Age</th>\n",
       "      <td>16281.0</td>\n",
       "      <td>38.767459</td>\n",
       "      <td>13.849187</td>\n",
       "      <td>17.0</td>\n",
       "      <td>28.0</td>\n",
       "      <td>37.0</td>\n",
       "      <td>48.0</td>\n",
       "      <td>90.0</td>\n",
       "    </tr>\n",
       "    <tr>\n",
       "      <th>fnlwgt</th>\n",
       "      <td>16281.0</td>\n",
       "      <td>189435.677784</td>\n",
       "      <td>105714.907671</td>\n",
       "      <td>13492.0</td>\n",
       "      <td>116736.0</td>\n",
       "      <td>177831.0</td>\n",
       "      <td>238384.0</td>\n",
       "      <td>1490400.0</td>\n",
       "    </tr>\n",
       "    <tr>\n",
       "      <th>Education_Num</th>\n",
       "      <td>16281.0</td>\n",
       "      <td>10.072907</td>\n",
       "      <td>2.567545</td>\n",
       "      <td>1.0</td>\n",
       "      <td>9.0</td>\n",
       "      <td>10.0</td>\n",
       "      <td>12.0</td>\n",
       "      <td>16.0</td>\n",
       "    </tr>\n",
       "    <tr>\n",
       "      <th>Capital_Gain</th>\n",
       "      <td>16281.0</td>\n",
       "      <td>1081.905104</td>\n",
       "      <td>7583.935968</td>\n",
       "      <td>0.0</td>\n",
       "      <td>0.0</td>\n",
       "      <td>0.0</td>\n",
       "      <td>0.0</td>\n",
       "      <td>99999.0</td>\n",
       "    </tr>\n",
       "    <tr>\n",
       "      <th>Capital_Loss</th>\n",
       "      <td>16281.0</td>\n",
       "      <td>87.899269</td>\n",
       "      <td>403.105286</td>\n",
       "      <td>0.0</td>\n",
       "      <td>0.0</td>\n",
       "      <td>0.0</td>\n",
       "      <td>0.0</td>\n",
       "      <td>3770.0</td>\n",
       "    </tr>\n",
       "    <tr>\n",
       "      <th>...</th>\n",
       "      <td>...</td>\n",
       "      <td>...</td>\n",
       "      <td>...</td>\n",
       "      <td>...</td>\n",
       "      <td>...</td>\n",
       "      <td>...</td>\n",
       "      <td>...</td>\n",
       "      <td>...</td>\n",
       "    </tr>\n",
       "    <tr>\n",
       "      <th>Country_ Thailand</th>\n",
       "      <td>16281.0</td>\n",
       "      <td>0.000737</td>\n",
       "      <td>0.027140</td>\n",
       "      <td>0.0</td>\n",
       "      <td>0.0</td>\n",
       "      <td>0.0</td>\n",
       "      <td>0.0</td>\n",
       "      <td>1.0</td>\n",
       "    </tr>\n",
       "    <tr>\n",
       "      <th>Country_ Trinadad&amp;Tobago</th>\n",
       "      <td>16281.0</td>\n",
       "      <td>0.000491</td>\n",
       "      <td>0.022162</td>\n",
       "      <td>0.0</td>\n",
       "      <td>0.0</td>\n",
       "      <td>0.0</td>\n",
       "      <td>0.0</td>\n",
       "      <td>1.0</td>\n",
       "    </tr>\n",
       "    <tr>\n",
       "      <th>Country_ United-States</th>\n",
       "      <td>16281.0</td>\n",
       "      <td>0.900559</td>\n",
       "      <td>0.299262</td>\n",
       "      <td>0.0</td>\n",
       "      <td>1.0</td>\n",
       "      <td>1.0</td>\n",
       "      <td>1.0</td>\n",
       "      <td>1.0</td>\n",
       "    </tr>\n",
       "    <tr>\n",
       "      <th>Country_ Vietnam</th>\n",
       "      <td>16281.0</td>\n",
       "      <td>0.001167</td>\n",
       "      <td>0.034143</td>\n",
       "      <td>0.0</td>\n",
       "      <td>0.0</td>\n",
       "      <td>0.0</td>\n",
       "      <td>0.0</td>\n",
       "      <td>1.0</td>\n",
       "    </tr>\n",
       "    <tr>\n",
       "      <th>Country_ Yugoslavia</th>\n",
       "      <td>16281.0</td>\n",
       "      <td>0.000430</td>\n",
       "      <td>0.020731</td>\n",
       "      <td>0.0</td>\n",
       "      <td>0.0</td>\n",
       "      <td>0.0</td>\n",
       "      <td>0.0</td>\n",
       "      <td>1.0</td>\n",
       "    </tr>\n",
       "  </tbody>\n",
       "</table>\n",
       "<p>105 rows × 8 columns</p>\n",
       "</div>"
      ],
      "text/plain": [
       "                            count           mean            std      min  \\\n",
       "Age                       16281.0      38.767459      13.849187     17.0   \n",
       "fnlwgt                    16281.0  189435.677784  105714.907671  13492.0   \n",
       "Education_Num             16281.0      10.072907       2.567545      1.0   \n",
       "Capital_Gain              16281.0    1081.905104    7583.935968      0.0   \n",
       "Capital_Loss              16281.0      87.899269     403.105286      0.0   \n",
       "...                           ...            ...            ...      ...   \n",
       "Country_ Thailand         16281.0       0.000737       0.027140      0.0   \n",
       "Country_ Trinadad&Tobago  16281.0       0.000491       0.022162      0.0   \n",
       "Country_ United-States    16281.0       0.900559       0.299262      0.0   \n",
       "Country_ Vietnam          16281.0       0.001167       0.034143      0.0   \n",
       "Country_ Yugoslavia       16281.0       0.000430       0.020731      0.0   \n",
       "\n",
       "                               25%       50%       75%        max  \n",
       "Age                           28.0      37.0      48.0       90.0  \n",
       "fnlwgt                    116736.0  177831.0  238384.0  1490400.0  \n",
       "Education_Num                  9.0      10.0      12.0       16.0  \n",
       "Capital_Gain                   0.0       0.0       0.0    99999.0  \n",
       "Capital_Loss                   0.0       0.0       0.0     3770.0  \n",
       "...                            ...       ...       ...        ...  \n",
       "Country_ Thailand              0.0       0.0       0.0        1.0  \n",
       "Country_ Trinadad&Tobago       0.0       0.0       0.0        1.0  \n",
       "Country_ United-States         1.0       1.0       1.0        1.0  \n",
       "Country_ Vietnam               0.0       0.0       0.0        1.0  \n",
       "Country_ Yugoslavia            0.0       0.0       0.0        1.0  \n",
       "\n",
       "[105 rows x 8 columns]"
      ]
     },
     "execution_count": 38,
     "metadata": {},
     "output_type": "execute_result"
    }
   ],
   "source": [
    "data_test.describe(include='all').T"
   ]
  },
  {
   "cell_type": "code",
   "execution_count": 39,
   "metadata": {},
   "outputs": [
    {
     "data": {
      "text/plain": [
       "{'Country_ Holand-Netherlands'}"
      ]
     },
     "execution_count": 39,
     "metadata": {},
     "output_type": "execute_result"
    }
   ],
   "source": [
    "set(data_train.columns) - set(data_test.columns)"
   ]
  },
  {
   "cell_type": "code",
   "execution_count": 40,
   "metadata": {},
   "outputs": [
    {
     "data": {
      "text/plain": [
       "((32561, 106), (16281, 105))"
      ]
     },
     "execution_count": 40,
     "metadata": {},
     "output_type": "execute_result"
    }
   ],
   "source": [
    "data_train.shape, data_test.shape"
   ]
  },
  {
   "cell_type": "markdown",
   "metadata": {},
   "source": [
    "**В тестовой выборке не оказалось Голландии. Заведем необходимый признак из нулей.**"
   ]
  },
  {
   "cell_type": "code",
   "execution_count": 41,
   "metadata": {},
   "outputs": [],
   "source": [
    "data_test['Country_ Holand-Netherlands'] = np.zeros([data_test.shape[0], 1])"
   ]
  },
  {
   "cell_type": "code",
   "execution_count": 42,
   "metadata": {},
   "outputs": [
    {
     "data": {
      "text/plain": [
       "set()"
      ]
     },
     "execution_count": 42,
     "metadata": {},
     "output_type": "execute_result"
    }
   ],
   "source": [
    "set(data_train.columns) - set(data_test.columns)"
   ]
  },
  {
   "cell_type": "code",
   "execution_count": 43,
   "metadata": {},
   "outputs": [
    {
     "data": {
      "text/html": [
       "<div>\n",
       "<style scoped>\n",
       "    .dataframe tbody tr th:only-of-type {\n",
       "        vertical-align: middle;\n",
       "    }\n",
       "\n",
       "    .dataframe tbody tr th {\n",
       "        vertical-align: top;\n",
       "    }\n",
       "\n",
       "    .dataframe thead th {\n",
       "        text-align: right;\n",
       "    }\n",
       "</style>\n",
       "<table border=\"1\" class=\"dataframe\">\n",
       "  <thead>\n",
       "    <tr style=\"text-align: right;\">\n",
       "      <th></th>\n",
       "      <th>Age</th>\n",
       "      <th>fnlwgt</th>\n",
       "      <th>Education_Num</th>\n",
       "      <th>Capital_Gain</th>\n",
       "      <th>Capital_Loss</th>\n",
       "      <th>Hours_per_week</th>\n",
       "      <th>Target</th>\n",
       "      <th>Workclass_ Federal-gov</th>\n",
       "      <th>Workclass_ Local-gov</th>\n",
       "      <th>Workclass_ Never-worked</th>\n",
       "      <th>...</th>\n",
       "      <th>Country_ Portugal</th>\n",
       "      <th>Country_ Puerto-Rico</th>\n",
       "      <th>Country_ Scotland</th>\n",
       "      <th>Country_ South</th>\n",
       "      <th>Country_ Taiwan</th>\n",
       "      <th>Country_ Thailand</th>\n",
       "      <th>Country_ Trinadad&amp;Tobago</th>\n",
       "      <th>Country_ United-States</th>\n",
       "      <th>Country_ Vietnam</th>\n",
       "      <th>Country_ Yugoslavia</th>\n",
       "    </tr>\n",
       "  </thead>\n",
       "  <tbody>\n",
       "    <tr>\n",
       "      <th>0</th>\n",
       "      <td>39</td>\n",
       "      <td>77516</td>\n",
       "      <td>13</td>\n",
       "      <td>2174</td>\n",
       "      <td>0</td>\n",
       "      <td>40</td>\n",
       "      <td>0</td>\n",
       "      <td>0</td>\n",
       "      <td>0</td>\n",
       "      <td>0</td>\n",
       "      <td>...</td>\n",
       "      <td>0</td>\n",
       "      <td>0</td>\n",
       "      <td>0</td>\n",
       "      <td>0</td>\n",
       "      <td>0</td>\n",
       "      <td>0</td>\n",
       "      <td>0</td>\n",
       "      <td>1</td>\n",
       "      <td>0</td>\n",
       "      <td>0</td>\n",
       "    </tr>\n",
       "    <tr>\n",
       "      <th>1</th>\n",
       "      <td>50</td>\n",
       "      <td>83311</td>\n",
       "      <td>13</td>\n",
       "      <td>0</td>\n",
       "      <td>0</td>\n",
       "      <td>13</td>\n",
       "      <td>0</td>\n",
       "      <td>0</td>\n",
       "      <td>0</td>\n",
       "      <td>0</td>\n",
       "      <td>...</td>\n",
       "      <td>0</td>\n",
       "      <td>0</td>\n",
       "      <td>0</td>\n",
       "      <td>0</td>\n",
       "      <td>0</td>\n",
       "      <td>0</td>\n",
       "      <td>0</td>\n",
       "      <td>1</td>\n",
       "      <td>0</td>\n",
       "      <td>0</td>\n",
       "    </tr>\n",
       "  </tbody>\n",
       "</table>\n",
       "<p>2 rows × 106 columns</p>\n",
       "</div>"
      ],
      "text/plain": [
       "   Age  fnlwgt  Education_Num  Capital_Gain  Capital_Loss  Hours_per_week  \\\n",
       "0   39   77516             13          2174             0              40   \n",
       "1   50   83311             13             0             0              13   \n",
       "\n",
       "   Target  Workclass_ Federal-gov  Workclass_ Local-gov  \\\n",
       "0       0                       0                     0   \n",
       "1       0                       0                     0   \n",
       "\n",
       "   Workclass_ Never-worked  ...  Country_ Portugal  Country_ Puerto-Rico  \\\n",
       "0                        0  ...                  0                     0   \n",
       "1                        0  ...                  0                     0   \n",
       "\n",
       "   Country_ Scotland  Country_ South  Country_ Taiwan  Country_ Thailand  \\\n",
       "0                  0               0                0                  0   \n",
       "1                  0               0                0                  0   \n",
       "\n",
       "   Country_ Trinadad&Tobago  Country_ United-States  Country_ Vietnam  \\\n",
       "0                         0                       1                 0   \n",
       "1                         0                       1                 0   \n",
       "\n",
       "   Country_ Yugoslavia  \n",
       "0                    0  \n",
       "1                    0  \n",
       "\n",
       "[2 rows x 106 columns]"
      ]
     },
     "execution_count": 43,
     "metadata": {},
     "output_type": "execute_result"
    }
   ],
   "source": [
    "data_train.head(2)"
   ]
  },
  {
   "cell_type": "code",
   "execution_count": 44,
   "metadata": {},
   "outputs": [
    {
     "data": {
      "text/html": [
       "<div>\n",
       "<style scoped>\n",
       "    .dataframe tbody tr th:only-of-type {\n",
       "        vertical-align: middle;\n",
       "    }\n",
       "\n",
       "    .dataframe tbody tr th {\n",
       "        vertical-align: top;\n",
       "    }\n",
       "\n",
       "    .dataframe thead th {\n",
       "        text-align: right;\n",
       "    }\n",
       "</style>\n",
       "<table border=\"1\" class=\"dataframe\">\n",
       "  <thead>\n",
       "    <tr style=\"text-align: right;\">\n",
       "      <th></th>\n",
       "      <th>Age</th>\n",
       "      <th>fnlwgt</th>\n",
       "      <th>Education_Num</th>\n",
       "      <th>Capital_Gain</th>\n",
       "      <th>Capital_Loss</th>\n",
       "      <th>Hours_per_week</th>\n",
       "      <th>Target</th>\n",
       "      <th>Workclass_ Federal-gov</th>\n",
       "      <th>Workclass_ Local-gov</th>\n",
       "      <th>Workclass_ Never-worked</th>\n",
       "      <th>...</th>\n",
       "      <th>Country_ Puerto-Rico</th>\n",
       "      <th>Country_ Scotland</th>\n",
       "      <th>Country_ South</th>\n",
       "      <th>Country_ Taiwan</th>\n",
       "      <th>Country_ Thailand</th>\n",
       "      <th>Country_ Trinadad&amp;Tobago</th>\n",
       "      <th>Country_ United-States</th>\n",
       "      <th>Country_ Vietnam</th>\n",
       "      <th>Country_ Yugoslavia</th>\n",
       "      <th>Country_ Holand-Netherlands</th>\n",
       "    </tr>\n",
       "  </thead>\n",
       "  <tbody>\n",
       "    <tr>\n",
       "      <th>1</th>\n",
       "      <td>25</td>\n",
       "      <td>226802</td>\n",
       "      <td>7</td>\n",
       "      <td>0</td>\n",
       "      <td>0</td>\n",
       "      <td>40</td>\n",
       "      <td>0</td>\n",
       "      <td>0</td>\n",
       "      <td>0</td>\n",
       "      <td>0</td>\n",
       "      <td>...</td>\n",
       "      <td>0</td>\n",
       "      <td>0</td>\n",
       "      <td>0</td>\n",
       "      <td>0</td>\n",
       "      <td>0</td>\n",
       "      <td>0</td>\n",
       "      <td>1</td>\n",
       "      <td>0</td>\n",
       "      <td>0</td>\n",
       "      <td>0.0</td>\n",
       "    </tr>\n",
       "    <tr>\n",
       "      <th>2</th>\n",
       "      <td>38</td>\n",
       "      <td>89814</td>\n",
       "      <td>9</td>\n",
       "      <td>0</td>\n",
       "      <td>0</td>\n",
       "      <td>50</td>\n",
       "      <td>0</td>\n",
       "      <td>0</td>\n",
       "      <td>0</td>\n",
       "      <td>0</td>\n",
       "      <td>...</td>\n",
       "      <td>0</td>\n",
       "      <td>0</td>\n",
       "      <td>0</td>\n",
       "      <td>0</td>\n",
       "      <td>0</td>\n",
       "      <td>0</td>\n",
       "      <td>1</td>\n",
       "      <td>0</td>\n",
       "      <td>0</td>\n",
       "      <td>0.0</td>\n",
       "    </tr>\n",
       "  </tbody>\n",
       "</table>\n",
       "<p>2 rows × 106 columns</p>\n",
       "</div>"
      ],
      "text/plain": [
       "   Age  fnlwgt  Education_Num  Capital_Gain  Capital_Loss  Hours_per_week  \\\n",
       "1   25  226802              7             0             0              40   \n",
       "2   38   89814              9             0             0              50   \n",
       "\n",
       "   Target  Workclass_ Federal-gov  Workclass_ Local-gov  \\\n",
       "1       0                       0                     0   \n",
       "2       0                       0                     0   \n",
       "\n",
       "   Workclass_ Never-worked  ...  Country_ Puerto-Rico  Country_ Scotland  \\\n",
       "1                        0  ...                     0                  0   \n",
       "2                        0  ...                     0                  0   \n",
       "\n",
       "   Country_ South  Country_ Taiwan  Country_ Thailand  \\\n",
       "1               0                0                  0   \n",
       "2               0                0                  0   \n",
       "\n",
       "   Country_ Trinadad&Tobago  Country_ United-States  Country_ Vietnam  \\\n",
       "1                         0                       1                 0   \n",
       "2                         0                       1                 0   \n",
       "\n",
       "   Country_ Yugoslavia  Country_ Holand-Netherlands  \n",
       "1                    0                          0.0  \n",
       "2                    0                          0.0  \n",
       "\n",
       "[2 rows x 106 columns]"
      ]
     },
     "execution_count": 44,
     "metadata": {},
     "output_type": "execute_result"
    }
   ],
   "source": [
    "data_test.head(2)"
   ]
  },
  {
   "cell_type": "code",
   "execution_count": 45,
   "metadata": {},
   "outputs": [],
   "source": [
    "X_train=data_train.drop(['Target'], axis=1)\n",
    "y_train = data_train['Target']\n",
    "\n",
    "X_test=data_test.drop(['Target'], axis=1)\n",
    "y_test = data_test['Target']"
   ]
  },
  {
   "cell_type": "markdown",
   "metadata": {},
   "source": [
    "## 3.1. Дерево решений без настройки параметров "
   ]
  },
  {
   "cell_type": "markdown",
   "metadata": {},
   "source": [
    "**Обучите на имеющейся выборке дерево решений (`DecisionTreeClassifier`) максимальной глубины 3 и получите качество на тесте. Используйте параметр `random_state` = 17 для воспроизводимости результатов.**"
   ]
  },
  {
   "cell_type": "code",
   "execution_count": 46,
   "metadata": {},
   "outputs": [
    {
     "data": {
      "text/plain": [
       "DecisionTreeClassifier(class_weight=None, criterion='entropy', max_depth=3,\n",
       "                       max_features=None, max_leaf_nodes=None,\n",
       "                       min_impurity_decrease=0.0, min_impurity_split=None,\n",
       "                       min_samples_leaf=1, min_samples_split=2,\n",
       "                       min_weight_fraction_leaf=0.0, presort=False,\n",
       "                       random_state=17, splitter='best')"
      ]
     },
     "execution_count": 46,
     "metadata": {},
     "output_type": "execute_result"
    }
   ],
   "source": [
    "tree = DecisionTreeClassifier(criterion='entropy', random_state=17, max_depth=3)\n",
    "tree.fit(X_train, y_train)"
   ]
  },
  {
   "cell_type": "markdown",
   "metadata": {},
   "source": [
    "**Сделайте с помощью полученной модели прогноз для тестовой выборки.**"
   ]
  },
  {
   "cell_type": "code",
   "execution_count": 47,
   "metadata": {},
   "outputs": [],
   "source": [
    "tree_predictions = tree.predict(X_test) # Ваш код здесь"
   ]
  },
  {
   "cell_type": "code",
   "execution_count": 48,
   "metadata": {},
   "outputs": [
    {
     "data": {
      "text/plain": [
       "0.8447884036607088"
      ]
     },
     "execution_count": 48,
     "metadata": {},
     "output_type": "execute_result"
    }
   ],
   "source": [
    "accuracy_score(y_test, tree_predictions) # Ваш код здесь"
   ]
  },
  {
   "cell_type": "markdown",
   "metadata": {},
   "source": [
    "<font color='red'>Вопрос 6.  </font> Какова доля правильных ответов дерева решений на тестовой выборке при максимальной глубине дерева = 3 и random_state = 17?"
   ]
  },
  {
   "cell_type": "markdown",
   "metadata": {},
   "source": [
    "## 3.2. Дерево решений с настройкой параметров "
   ]
  },
  {
   "cell_type": "markdown",
   "metadata": {},
   "source": [
    "**Обучите на имеющейся выборке дерево решений (`DecisionTreeClassifier`, опять `random_state` = 17 ). Максимальную глубину настройте на кросс-валидации с помощью `GridSearchCV`. Проведите 5-кратную кросс-валидацию**"
   ]
  },
  {
   "cell_type": "code",
   "execution_count": 49,
   "metadata": {},
   "outputs": [
    {
     "data": {
      "text/plain": [
       "GridSearchCV(cv=5, error_score='raise-deprecating',\n",
       "             estimator=DecisionTreeClassifier(class_weight=None,\n",
       "                                              criterion='gini', max_depth=None,\n",
       "                                              max_features=None,\n",
       "                                              max_leaf_nodes=None,\n",
       "                                              min_impurity_decrease=0.0,\n",
       "                                              min_impurity_split=None,\n",
       "                                              min_samples_leaf=1,\n",
       "                                              min_samples_split=2,\n",
       "                                              min_weight_fraction_leaf=0.0,\n",
       "                                              presort=False, random_state=17,\n",
       "                                              splitter='best'),\n",
       "             iid='warn', n_jobs=None,\n",
       "             param_grid={'max_depth': range(2, 11),\n",
       "                         'max_features': range(5, 19)},\n",
       "             pre_dispatch='2*n_jobs', refit=True, return_train_score=False,\n",
       "             scoring=None, verbose=0)"
      ]
     },
     "execution_count": 49,
     "metadata": {},
     "output_type": "execute_result"
    }
   ],
   "source": [
    "tree_params = {'max_depth': range(2,11), 'max_features': range(5,19)}\n",
    "\n",
    "locally_best_tree = GridSearchCV(DecisionTreeClassifier(random_state=17), tree_params, cv=5)             \n",
    "\n",
    "locally_best_tree.fit(X_train, y_train) # Ваш код здесь"
   ]
  },
  {
   "cell_type": "code",
   "execution_count": 50,
   "metadata": {},
   "outputs": [
    {
     "name": "stdout",
     "output_type": "stream",
     "text": [
      "Best params: {'max_depth': 10, 'max_features': 17}\n",
      "Best cross validaton score 0.8483461810140966\n"
     ]
    }
   ],
   "source": [
    "print(\"Best params:\", locally_best_tree.best_params_)\n",
    "print(\"Best cross validaton score\", locally_best_tree.best_score_)"
   ]
  },
  {
   "cell_type": "markdown",
   "metadata": {},
   "source": [
    "**Обучите на имеющейся выборке дерево решений максимальной глубины 9 (это лучшее значение `max_depth` в моем случае) и   оцените долю правильных ответов на тесте. Используйте параметр random_state = 17 для воспроизводимости результатов.**"
   ]
  },
  {
   "cell_type": "code",
   "execution_count": 51,
   "metadata": {},
   "outputs": [
    {
     "data": {
      "text/plain": [
       "0.8471838339168356"
      ]
     },
     "execution_count": 51,
     "metadata": {},
     "output_type": "execute_result"
    }
   ],
   "source": [
    "tuned_tree = DecisionTreeClassifier(max_depth=9, random_state=17)# Ваш код здесь\n",
    "tuned_tree.fit(X_train, y_train) # Ваш код здесь\n",
    "tuned_tree_predictions = tuned_tree.predict(X_test) # Ваш код здесь\n",
    "accuracy_score(y_test, tuned_tree_predictions) # Ваш код здесь"
   ]
  },
  {
   "cell_type": "markdown",
   "metadata": {},
   "source": [
    "<font color='red'>Вопрос 7.  </font> Какова доля правильных ответов дерева решений на тестовой выборке при максимальной глубине дерева = 9 и random_state = 17?"
   ]
  },
  {
   "cell_type": "markdown",
   "metadata": {},
   "source": [
    "## 3.3. Случайный лес без настройки параметров  (опционально)¶"
   ]
  },
  {
   "cell_type": "markdown",
   "metadata": {},
   "source": [
    "**Немного забежим вперед и попробуем в нашей задаче случайный лес. Пока можно его себе представлять, как куча деревьев решений, обученных на немного разных подвыборках исходной обучающей выборки, причем эта куча деревьев обычно работает существенно лучше, чем отдельные деревья. **\n",
    "\n",
    "**Обучите на имеющейся выборке случайный лес (`RandomForestClassifier`), число деревьев сделайте равным ста, а `random_state` = 17.**"
   ]
  },
  {
   "cell_type": "code",
   "execution_count": 52,
   "metadata": {},
   "outputs": [
    {
     "data": {
      "text/plain": [
       "RandomForestClassifier(bootstrap=True, class_weight=None, criterion='gini',\n",
       "                       max_depth=None, max_features='auto', max_leaf_nodes=None,\n",
       "                       min_impurity_decrease=0.0, min_impurity_split=None,\n",
       "                       min_samples_leaf=1, min_samples_split=2,\n",
       "                       min_weight_fraction_leaf=0.0, n_estimators=100,\n",
       "                       n_jobs=None, oob_score=False, random_state=17, verbose=0,\n",
       "                       warm_start=False)"
      ]
     },
     "execution_count": 52,
     "metadata": {},
     "output_type": "execute_result"
    }
   ],
   "source": [
    "rf = RandomForestClassifier(n_estimators=100, random_state=17)# Ваш код здесь\n",
    "rf.fit(X_train, y_train) # Ваш код здесь"
   ]
  },
  {
   "cell_type": "markdown",
   "metadata": {},
   "source": [
    "**Сделайте с помощью полученной модели прогноз для тестовой выборки.**"
   ]
  },
  {
   "cell_type": "code",
   "execution_count": 53,
   "metadata": {},
   "outputs": [],
   "source": [
    "forest_predictions = rf.predict(X_test) # Ваш код здесь"
   ]
  },
  {
   "cell_type": "code",
   "execution_count": 54,
   "metadata": {},
   "outputs": [
    {
     "data": {
      "text/plain": [
       "0.8576254529820035"
      ]
     },
     "execution_count": 54,
     "metadata": {},
     "output_type": "execute_result"
    }
   ],
   "source": [
    "accuracy_score(y_test, forest_predictions) # Ваш код здесь"
   ]
  },
  {
   "cell_type": "markdown",
   "metadata": {},
   "source": [
    "## 3.4. Случайный лес с настройкой параметров  (опционально)"
   ]
  },
  {
   "cell_type": "markdown",
   "metadata": {},
   "source": [
    "**Обучите на имеющейся выборке случайный лес (`RandomForestClassifier`). Максимальную глубину и максимальное число признаков для каждого дерева настройте с помощью GridSearchCV.**"
   ]
  },
  {
   "cell_type": "code",
   "execution_count": 57,
   "metadata": {},
   "outputs": [
    {
     "name": "stdout",
     "output_type": "stream",
     "text": [
      "Wall time: 35min 8s\n"
     ]
    },
    {
     "data": {
      "text/plain": [
       "GridSearchCV(cv=5, error_score='raise-deprecating',\n",
       "             estimator=RandomForestClassifier(bootstrap=True, class_weight=None,\n",
       "                                              criterion='gini', max_depth=None,\n",
       "                                              max_features='auto',\n",
       "                                              max_leaf_nodes=None,\n",
       "                                              min_impurity_decrease=0.0,\n",
       "                                              min_impurity_split=None,\n",
       "                                              min_samples_leaf=1,\n",
       "                                              min_samples_split=2,\n",
       "                                              min_weight_fraction_leaf=0.0,\n",
       "                                              n_estimators=10, n_jobs=None,\n",
       "                                              oob_score=False, random_state=17,\n",
       "                                              verbose=0, warm_start=False),\n",
       "             iid='warn', n_jobs=None,\n",
       "             param_grid={'max_depth': range(10, 21),\n",
       "                         'max_features': range(5, 105, 10)},\n",
       "             pre_dispatch='2*n_jobs', refit=True, return_train_score=False,\n",
       "             scoring=None, verbose=0)"
      ]
     },
     "execution_count": 57,
     "metadata": {},
     "output_type": "execute_result"
    }
   ],
   "source": [
    "%%time\n",
    "forest_params = {'max_depth': range(10, 21), 'max_features': range(5, 105, 10)}\n",
    "\n",
    "locally_best_forest = GridSearchCV(RandomForestClassifier(n_estimators=10, random_state=17), forest_params, cv=5) # Ваш код здесь\n",
    "\n",
    "locally_best_forest.fit(X_train, y_train) # Ваш код здесь"
   ]
  },
  {
   "cell_type": "code",
   "execution_count": 58,
   "metadata": {},
   "outputs": [
    {
     "name": "stdout",
     "output_type": "stream",
     "text": [
      "Best params: {'max_depth': 11, 'max_features': 75}\n",
      "Best cross validaton score 0.8617671447437119\n"
     ]
    }
   ],
   "source": [
    "print(\"Best params:\", locally_best_forest.best_params_)\n",
    "print(\"Best cross validaton score\", locally_best_forest.best_score_)"
   ]
  },
  {
   "cell_type": "markdown",
   "metadata": {},
   "source": [
    "**Сделайте с помощью полученной модели прогноз для тестовой выборки.**"
   ]
  },
  {
   "cell_type": "code",
   "execution_count": 59,
   "metadata": {},
   "outputs": [
    {
     "data": {
      "text/plain": [
       "0.8633990541121552"
      ]
     },
     "execution_count": 59,
     "metadata": {},
     "output_type": "execute_result"
    }
   ],
   "source": [
    "tuned_forest_predictions = locally_best_forest.predict(X_test) # Ваш код здесь\n",
    "accuracy_score(y_test, tuned_forest_predictions) # Ваш код здесь"
   ]
  },
  {
   "cell_type": "code",
   "execution_count": null,
   "metadata": {},
   "outputs": [],
   "source": []
  }
 ],
 "metadata": {
  "kernelspec": {
   "display_name": "Python 3",
   "language": "python",
   "name": "python3"
  },
  "language_info": {
   "codemirror_mode": {
    "name": "ipython",
    "version": 3
   },
   "file_extension": ".py",
   "mimetype": "text/x-python",
   "name": "python",
   "nbconvert_exporter": "python",
   "pygments_lexer": "ipython3",
   "version": "3.7.3"
  }
 },
 "nbformat": 4,
 "nbformat_minor": 1
}
