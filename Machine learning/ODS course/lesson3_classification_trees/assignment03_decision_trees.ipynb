{
 "cells": [
  {
   "cell_type": "markdown",
   "metadata": {},
   "source": [
    "\n",
    "<img src=\"../../img/ods_stickers.jpg\">\n",
    "\n",
    "## <center> [mlcourse.ai](https://mlcourse.ai) – открытый курс OpenDataScience по машинному обучению \n",
    "    \n",
    "Авторы материала: Юрий Кашницкий, программист-исследователь Mail.Ru Group, и Мария Сумарокова, старший эксперт по аналитике VimpelCom. Материал распространяется на условиях лицензии [Creative Commons CC BY-NC-SA 4.0](https://creativecommons.org/licenses/by-nc-sa/4.0/). Можно использовать в любых целях (редактировать, поправлять и брать за основу), кроме коммерческих, но с обязательным упоминанием автора материала"
   ]
  },
  {
   "cell_type": "markdown",
   "metadata": {},
   "source": [
    "# <center>Домашнее задание № 3 (демо). <br>Деревья решений в игрушечной задаче и на данных Adult репозитория UCI\n",
    "\n",
    "**В задании Вам предлагается разобраться с тем, как работает дерево решений, на игрушечном примере, затем обучить и настроить деревья и (при желании) случайный лес в задаче классификации на данных Adult репозитория UCI. Ответьте на все вопросы в этой тетрадке и заполните ответы в [гугл-форме](https://docs.google.com/forms/d/1bC3jNPH7XZUty_DaIvt0fPrsiS8YFkcpeBKHPSG0hw0/edit).**"
   ]
  },
  {
   "cell_type": "markdown",
   "metadata": {},
   "source": [
    "Подключаем необходимые библиотеки"
   ]
  },
  {
   "cell_type": "code",
   "execution_count": 1,
   "metadata": {},
   "outputs": [],
   "source": [
    "%matplotlib inline\n",
    "from matplotlib import pyplot as plt\n",
    "\n",
    "plt.rcParams['figure.figsize'] = (10, 8)\n",
    "import collections\n",
    "\n",
    "import numpy as np\n",
    "import pandas as pd\n",
    "import seaborn as sns\n",
    "from sklearn import preprocessing\n",
    "from sklearn.ensemble import RandomForestClassifier\n",
    "from sklearn.metrics import accuracy_score\n",
    "from sklearn.model_selection import GridSearchCV\n",
    "from sklearn.preprocessing import LabelEncoder\n",
    "from sklearn.tree import DecisionTreeClassifier, export_graphviz, plot_tree"
   ]
  },
  {
   "cell_type": "markdown",
   "metadata": {},
   "source": [
    "## Часть 1. Игрушечный набор данных \"девушка в баре\""
   ]
  },
  {
   "cell_type": "markdown",
   "metadata": {
    "collapsed": true
   },
   "source": [
    "**Цель –  \"на пальцах\", с помощью игрушечной задачи классификации разобраться в том, как работают деревья решений. Само по себе дерево решений – довольно слабый алгоритм, но основанные на нем алгоритмы случайного леса и градиентного бустинга - пожалуй, лучшее, что есть на сегодняшний день (в задачах, где можно обойтись без нейронных сетей). Поэтому разобраться в том, как работает дерево решений, полезно.**"
   ]
  },
  {
   "cell_type": "markdown",
   "metadata": {},
   "source": [
    "**Рассмотрим игрушечную задачу бинарной классификации: поедет ли с Вами девушка из бара? Это будет зависеть от Вашей внешности и красноречия, крепости предлагаемых напитков и, как это ни меркантильно, от количества потраченных в баре денег.**\n",
    "<img src='../../img/toy_data.png'>"
   ]
  },
  {
   "cell_type": "markdown",
   "metadata": {},
   "source": [
    "### Создание набора данных"
   ]
  },
  {
   "cell_type": "code",
   "execution_count": 2,
   "metadata": {},
   "outputs": [],
   "source": [
    "# Создание датафрейма с dummy variables\n",
    "def create_df(dic, feature_list):\n",
    "    out = pd.DataFrame(dic)\n",
    "    out = pd.concat([out, pd.get_dummies(out[feature_list])], axis = 1)\n",
    "    out.drop(feature_list, axis = 1, inplace = True)\n",
    "    return out\n",
    "\n",
    "# Некоторые значения признаков есть в тесте, но нет в трейне и наоборот\n",
    "def intersect_features(train, test):\n",
    "    common_feat = list( set(train.keys()) & set(test.keys()))\n",
    "    return train[common_feat], test[common_feat]"
   ]
  },
  {
   "cell_type": "code",
   "execution_count": 3,
   "metadata": {},
   "outputs": [],
   "source": [
    "features = ['Внешность', 'Алкоголь_в_напитке',\n",
    "            'Уровень_красноречия', 'Потраченные_деньги']"
   ]
  },
  {
   "cell_type": "markdown",
   "metadata": {},
   "source": [
    "**Обучающая выборка**"
   ]
  },
  {
   "cell_type": "code",
   "execution_count": 4,
   "metadata": {},
   "outputs": [
    {
     "data": {
      "text/html": [
       "<div>\n",
       "<style scoped>\n",
       "    .dataframe tbody tr th:only-of-type {\n",
       "        vertical-align: middle;\n",
       "    }\n",
       "\n",
       "    .dataframe tbody tr th {\n",
       "        vertical-align: top;\n",
       "    }\n",
       "\n",
       "    .dataframe thead th {\n",
       "        text-align: right;\n",
       "    }\n",
       "</style>\n",
       "<table border=\"1\" class=\"dataframe\">\n",
       "  <thead>\n",
       "    <tr style=\"text-align: right;\">\n",
       "      <th></th>\n",
       "      <th>Поедет</th>\n",
       "      <th>Внешность_отталкивающая</th>\n",
       "      <th>Внешность_приятная</th>\n",
       "      <th>Алкоголь_в_напитке_да</th>\n",
       "      <th>Алкоголь_в_напитке_нет</th>\n",
       "      <th>Уровень_красноречия_высокий</th>\n",
       "      <th>Уровень_красноречия_низкий</th>\n",
       "      <th>Уровень_красноречия_средний</th>\n",
       "      <th>Потраченные_деньги_мало</th>\n",
       "      <th>Потраченные_деньги_много</th>\n",
       "    </tr>\n",
       "  </thead>\n",
       "  <tbody>\n",
       "    <tr>\n",
       "      <th>0</th>\n",
       "      <td>0</td>\n",
       "      <td>0</td>\n",
       "      <td>1</td>\n",
       "      <td>1</td>\n",
       "      <td>0</td>\n",
       "      <td>1</td>\n",
       "      <td>0</td>\n",
       "      <td>0</td>\n",
       "      <td>0</td>\n",
       "      <td>1</td>\n",
       "    </tr>\n",
       "    <tr>\n",
       "      <th>1</th>\n",
       "      <td>1</td>\n",
       "      <td>0</td>\n",
       "      <td>1</td>\n",
       "      <td>1</td>\n",
       "      <td>0</td>\n",
       "      <td>0</td>\n",
       "      <td>1</td>\n",
       "      <td>0</td>\n",
       "      <td>1</td>\n",
       "      <td>0</td>\n",
       "    </tr>\n",
       "    <tr>\n",
       "      <th>2</th>\n",
       "      <td>0</td>\n",
       "      <td>0</td>\n",
       "      <td>1</td>\n",
       "      <td>0</td>\n",
       "      <td>1</td>\n",
       "      <td>0</td>\n",
       "      <td>0</td>\n",
       "      <td>1</td>\n",
       "      <td>0</td>\n",
       "      <td>1</td>\n",
       "    </tr>\n",
       "    <tr>\n",
       "      <th>3</th>\n",
       "      <td>1</td>\n",
       "      <td>1</td>\n",
       "      <td>0</td>\n",
       "      <td>0</td>\n",
       "      <td>1</td>\n",
       "      <td>0</td>\n",
       "      <td>0</td>\n",
       "      <td>1</td>\n",
       "      <td>1</td>\n",
       "      <td>0</td>\n",
       "    </tr>\n",
       "    <tr>\n",
       "      <th>4</th>\n",
       "      <td>1</td>\n",
       "      <td>1</td>\n",
       "      <td>0</td>\n",
       "      <td>1</td>\n",
       "      <td>0</td>\n",
       "      <td>0</td>\n",
       "      <td>1</td>\n",
       "      <td>0</td>\n",
       "      <td>0</td>\n",
       "      <td>1</td>\n",
       "    </tr>\n",
       "    <tr>\n",
       "      <th>5</th>\n",
       "      <td>0</td>\n",
       "      <td>1</td>\n",
       "      <td>0</td>\n",
       "      <td>1</td>\n",
       "      <td>0</td>\n",
       "      <td>1</td>\n",
       "      <td>0</td>\n",
       "      <td>0</td>\n",
       "      <td>0</td>\n",
       "      <td>1</td>\n",
       "    </tr>\n",
       "    <tr>\n",
       "      <th>6</th>\n",
       "      <td>0</td>\n",
       "      <td>0</td>\n",
       "      <td>1</td>\n",
       "      <td>1</td>\n",
       "      <td>0</td>\n",
       "      <td>0</td>\n",
       "      <td>0</td>\n",
       "      <td>1</td>\n",
       "      <td>0</td>\n",
       "      <td>1</td>\n",
       "    </tr>\n",
       "  </tbody>\n",
       "</table>\n",
       "</div>"
      ],
      "text/plain": [
       "   Поедет  Внешность_отталкивающая  Внешность_приятная  Алкоголь_в_напитке_да  \\\n",
       "0       0                        0                   1                      1   \n",
       "1       1                        0                   1                      1   \n",
       "2       0                        0                   1                      0   \n",
       "3       1                        1                   0                      0   \n",
       "4       1                        1                   0                      1   \n",
       "5       0                        1                   0                      1   \n",
       "6       0                        0                   1                      1   \n",
       "\n",
       "   Алкоголь_в_напитке_нет  Уровень_красноречия_высокий  \\\n",
       "0                       0                            1   \n",
       "1                       0                            0   \n",
       "2                       1                            0   \n",
       "3                       1                            0   \n",
       "4                       0                            0   \n",
       "5                       0                            1   \n",
       "6                       0                            0   \n",
       "\n",
       "   Уровень_красноречия_низкий  Уровень_красноречия_средний  \\\n",
       "0                           0                            0   \n",
       "1                           1                            0   \n",
       "2                           0                            1   \n",
       "3                           0                            1   \n",
       "4                           1                            0   \n",
       "5                           0                            0   \n",
       "6                           0                            1   \n",
       "\n",
       "   Потраченные_деньги_мало  Потраченные_деньги_много  \n",
       "0                        0                         1  \n",
       "1                        1                         0  \n",
       "2                        0                         1  \n",
       "3                        1                         0  \n",
       "4                        0                         1  \n",
       "5                        0                         1  \n",
       "6                        0                         1  "
      ]
     },
     "execution_count": 4,
     "metadata": {},
     "output_type": "execute_result"
    }
   ],
   "source": [
    "df_train = {}\n",
    "df_train['Внешность'] = ['приятная', 'приятная', 'приятная', 'отталкивающая',\n",
    "                         'отталкивающая', 'отталкивающая', 'приятная'] \n",
    "df_train['Алкоголь_в_напитке'] = ['да', 'да', 'нет', 'нет', 'да', 'да', 'да']\n",
    "df_train['Уровень_красноречия'] = ['высокий', 'низкий', 'средний', 'средний', 'низкий',\n",
    "                                   'высокий', 'средний']\n",
    "df_train['Потраченные_деньги'] = ['много', 'мало', 'много', 'мало', 'много',\n",
    "                                  'много', 'много']\n",
    "df_train['Поедет'] = LabelEncoder().fit_transform(['+', '-', '+', '-', '-', '+', '+'])\n",
    "\n",
    "df_train = create_df(df_train, features)\n",
    "df_train"
   ]
  },
  {
   "cell_type": "markdown",
   "metadata": {},
   "source": [
    "**Тестовая выборка**"
   ]
  },
  {
   "cell_type": "code",
   "execution_count": 5,
   "metadata": {},
   "outputs": [
    {
     "data": {
      "text/html": [
       "<div>\n",
       "<style scoped>\n",
       "    .dataframe tbody tr th:only-of-type {\n",
       "        vertical-align: middle;\n",
       "    }\n",
       "\n",
       "    .dataframe tbody tr th {\n",
       "        vertical-align: top;\n",
       "    }\n",
       "\n",
       "    .dataframe thead th {\n",
       "        text-align: right;\n",
       "    }\n",
       "</style>\n",
       "<table border=\"1\" class=\"dataframe\">\n",
       "  <thead>\n",
       "    <tr style=\"text-align: right;\">\n",
       "      <th></th>\n",
       "      <th>Внешность_отталкивающая</th>\n",
       "      <th>Внешность_приятная</th>\n",
       "      <th>Алкоголь_в_напитке_да</th>\n",
       "      <th>Алкоголь_в_напитке_нет</th>\n",
       "      <th>Уровень_красноречия_высокий</th>\n",
       "      <th>Уровень_красноречия_средний</th>\n",
       "      <th>Потраченные_деньги_мало</th>\n",
       "      <th>Потраченные_деньги_много</th>\n",
       "    </tr>\n",
       "  </thead>\n",
       "  <tbody>\n",
       "    <tr>\n",
       "      <th>0</th>\n",
       "      <td>0</td>\n",
       "      <td>1</td>\n",
       "      <td>0</td>\n",
       "      <td>1</td>\n",
       "      <td>0</td>\n",
       "      <td>1</td>\n",
       "      <td>0</td>\n",
       "      <td>1</td>\n",
       "    </tr>\n",
       "    <tr>\n",
       "      <th>1</th>\n",
       "      <td>0</td>\n",
       "      <td>1</td>\n",
       "      <td>1</td>\n",
       "      <td>0</td>\n",
       "      <td>1</td>\n",
       "      <td>0</td>\n",
       "      <td>1</td>\n",
       "      <td>0</td>\n",
       "    </tr>\n",
       "    <tr>\n",
       "      <th>2</th>\n",
       "      <td>1</td>\n",
       "      <td>0</td>\n",
       "      <td>1</td>\n",
       "      <td>0</td>\n",
       "      <td>0</td>\n",
       "      <td>1</td>\n",
       "      <td>0</td>\n",
       "      <td>1</td>\n",
       "    </tr>\n",
       "  </tbody>\n",
       "</table>\n",
       "</div>"
      ],
      "text/plain": [
       "   Внешность_отталкивающая  Внешность_приятная  Алкоголь_в_напитке_да  \\\n",
       "0                        0                   1                      0   \n",
       "1                        0                   1                      1   \n",
       "2                        1                   0                      1   \n",
       "\n",
       "   Алкоголь_в_напитке_нет  Уровень_красноречия_высокий  \\\n",
       "0                       1                            0   \n",
       "1                       0                            1   \n",
       "2                       0                            0   \n",
       "\n",
       "   Уровень_красноречия_средний  Потраченные_деньги_мало  \\\n",
       "0                            1                        0   \n",
       "1                            0                        1   \n",
       "2                            1                        0   \n",
       "\n",
       "   Потраченные_деньги_много  \n",
       "0                         1  \n",
       "1                         0  \n",
       "2                         1  "
      ]
     },
     "execution_count": 5,
     "metadata": {},
     "output_type": "execute_result"
    }
   ],
   "source": [
    "df_test = {}\n",
    "df_test['Внешность'] = ['приятная', 'приятная', 'отталкивающая'] \n",
    "df_test['Алкоголь_в_напитке'] = ['нет', 'да', 'да']\n",
    "df_test['Уровень_красноречия'] = ['средний', 'высокий', 'средний']\n",
    "df_test['Потраченные_деньги'] = ['много', 'мало', 'много']\n",
    "df_test = create_df(df_test, features)\n",
    "df_test"
   ]
  },
  {
   "cell_type": "code",
   "execution_count": 6,
   "metadata": {},
   "outputs": [
    {
     "data": {
      "text/html": [
       "<div>\n",
       "<style scoped>\n",
       "    .dataframe tbody tr th:only-of-type {\n",
       "        vertical-align: middle;\n",
       "    }\n",
       "\n",
       "    .dataframe tbody tr th {\n",
       "        vertical-align: top;\n",
       "    }\n",
       "\n",
       "    .dataframe thead th {\n",
       "        text-align: right;\n",
       "    }\n",
       "</style>\n",
       "<table border=\"1\" class=\"dataframe\">\n",
       "  <thead>\n",
       "    <tr style=\"text-align: right;\">\n",
       "      <th></th>\n",
<<<<<<< HEAD
       "      <th>Потраченные_деньги_мало</th>\n",
       "      <th>Внешность_отталкивающая</th>\n",
       "      <th>Потраченные_деньги_много</th>\n",
       "      <th>Алкоголь_в_напитке_нет</th>\n",
       "      <th>Уровень_красноречия_высокий</th>\n",
       "      <th>Алкоголь_в_напитке_да</th>\n",
       "      <th>Уровень_красноречия_средний</th>\n",
       "      <th>Внешность_приятная</th>\n",
=======
       "      <th>Внешность_отталкивающая</th>\n",
       "      <th>Алкоголь_в_напитке_да</th>\n",
       "      <th>Внешность_приятная</th>\n",
       "      <th>Уровень_красноречия_средний</th>\n",
       "      <th>Алкоголь_в_напитке_нет</th>\n",
       "      <th>Уровень_красноречия_высокий</th>\n",
       "      <th>Потраченные_деньги_мало</th>\n",
       "      <th>Потраченные_деньги_много</th>\n",
>>>>>>> master
       "    </tr>\n",
       "  </thead>\n",
       "  <tbody>\n",
       "    <tr>\n",
       "      <th>0</th>\n",
       "      <td>0</td>\n",
<<<<<<< HEAD
=======
       "      <td>1</td>\n",
       "      <td>1</td>\n",
>>>>>>> master
       "      <td>0</td>\n",
       "      <td>1</td>\n",
       "      <td>0</td>\n",
       "      <td>1</td>\n",
<<<<<<< HEAD
       "      <td>1</td>\n",
=======
>>>>>>> master
       "      <td>0</td>\n",
       "      <td>1</td>\n",
       "    </tr>\n",
       "    <tr>\n",
       "      <th>1</th>\n",
       "      <td>0</td>\n",
       "      <td>1</td>\n",
       "      <td>0</td>\n",
       "      <td>0</td>\n",
       "      <td>0</td>\n",
       "      <td>1</td>\n",
       "      <td>0</td>\n",
       "      <td>1</td>\n",
       "    </tr>\n",
       "    <tr>\n",
       "      <th>2</th>\n",
       "      <td>0</td>\n",
       "      <td>0</td>\n",
       "      <td>1</td>\n",
       "      <td>1</td>\n",
       "      <td>0</td>\n",
       "      <td>0</td>\n",
       "      <td>1</td>\n",
<<<<<<< HEAD
       "      <td>1</td>\n",
       "    </tr>\n",
       "    <tr>\n",
       "      <th>3</th>\n",
=======
       "    </tr>\n",
       "    <tr>\n",
       "      <th>3</th>\n",
       "      <td>1</td>\n",
       "      <td>0</td>\n",
       "      <td>0</td>\n",
>>>>>>> master
       "      <td>1</td>\n",
       "      <td>1</td>\n",
       "      <td>0</td>\n",
       "      <td>1</td>\n",
       "      <td>0</td>\n",
<<<<<<< HEAD
       "      <td>0</td>\n",
       "      <td>1</td>\n",
       "      <td>0</td>\n",
=======
>>>>>>> master
       "    </tr>\n",
       "    <tr>\n",
       "      <th>4</th>\n",
       "      <td>0</td>\n",
       "      <td>1</td>\n",
       "      <td>1</td>\n",
       "      <td>1</td>\n",
       "      <td>0</td>\n",
       "      <td>0</td>\n",
       "      <td>0</td>\n",
       "      <td>0</td>\n",
       "    </tr>\n",
       "    <tr>\n",
       "      <th>5</th>\n",
<<<<<<< HEAD
       "      <td>0</td>\n",
=======
>>>>>>> master
       "      <td>1</td>\n",
       "      <td>1</td>\n",
       "      <td>0</td>\n",
       "      <td>1</td>\n",
       "      <td>1</td>\n",
       "      <td>0</td>\n",
       "      <td>0</td>\n",
<<<<<<< HEAD
=======
       "      <td>1</td>\n",
       "      <td>0</td>\n",
       "      <td>1</td>\n",
>>>>>>> master
       "    </tr>\n",
       "    <tr>\n",
       "      <th>6</th>\n",
       "      <td>0</td>\n",
<<<<<<< HEAD
=======
       "      <td>1</td>\n",
       "      <td>1</td>\n",
       "      <td>1</td>\n",
>>>>>>> master
       "      <td>0</td>\n",
       "      <td>0</td>\n",
       "      <td>0</td>\n",
       "      <td>1</td>\n",
<<<<<<< HEAD
       "      <td>1</td>\n",
       "      <td>1</td>\n",
=======
>>>>>>> master
       "    </tr>\n",
       "  </tbody>\n",
       "</table>\n",
       "</div>"
      ],
      "text/plain": [
<<<<<<< HEAD
       "   Потраченные_деньги_мало  Внешность_отталкивающая  Потраченные_деньги_много  \\\n",
       "0                        0                        0                         1   \n",
       "1                        1                        0                         0   \n",
       "2                        0                        0                         1   \n",
       "3                        1                        1                         0   \n",
       "4                        0                        1                         1   \n",
       "5                        0                        1                         1   \n",
       "6                        0                        0                         1   \n",
       "\n",
       "   Алкоголь_в_напитке_нет  Уровень_красноречия_высокий  Алкоголь_в_напитке_да  \\\n",
       "0                       0                            1                      1   \n",
       "1                       0                            0                      1   \n",
       "2                       1                            0                      0   \n",
       "3                       1                            0                      0   \n",
       "4                       0                            0                      1   \n",
       "5                       0                            1                      1   \n",
       "6                       0                            0                      1   \n",
       "\n",
       "   Уровень_красноречия_средний  Внешность_приятная  \n",
       "0                            0                   1  \n",
       "1                            0                   1  \n",
       "2                            1                   1  \n",
       "3                            1                   0  \n",
       "4                            0                   0  \n",
       "5                            0                   0  \n",
       "6                            1                   1  "
=======
       "   Внешность_отталкивающая  Алкоголь_в_напитке_да  Внешность_приятная  \\\n",
       "0                        0                      1                   1   \n",
       "1                        0                      1                   1   \n",
       "2                        0                      0                   1   \n",
       "3                        1                      0                   0   \n",
       "4                        1                      1                   0   \n",
       "5                        1                      1                   0   \n",
       "6                        0                      1                   1   \n",
       "\n",
       "   Уровень_красноречия_средний  Алкоголь_в_напитке_нет  \\\n",
       "0                            0                       0   \n",
       "1                            0                       0   \n",
       "2                            1                       1   \n",
       "3                            1                       1   \n",
       "4                            0                       0   \n",
       "5                            0                       0   \n",
       "6                            1                       0   \n",
       "\n",
       "   Уровень_красноречия_высокий  Потраченные_деньги_мало  \\\n",
       "0                            1                        0   \n",
       "1                            0                        1   \n",
       "2                            0                        0   \n",
       "3                            0                        1   \n",
       "4                            0                        0   \n",
       "5                            1                        0   \n",
       "6                            0                        0   \n",
       "\n",
       "   Потраченные_деньги_много  \n",
       "0                         1  \n",
       "1                         0  \n",
       "2                         1  \n",
       "3                         0  \n",
       "4                         1  \n",
       "5                         1  \n",
       "6                         1  "
>>>>>>> master
      ]
     },
     "execution_count": 6,
     "metadata": {},
     "output_type": "execute_result"
    }
   ],
   "source": [
    "# Некоторые значения признаков есть в тесте, но нет в трейне и наоборот\n",
    "y = df_train['Поедет']\n",
    "df_train, df_test = intersect_features(train=df_train, test=df_test)\n",
    "df_train"
   ]
  },
  {
   "cell_type": "code",
   "execution_count": 7,
   "metadata": {},
   "outputs": [
    {
     "data": {
      "text/html": [
       "<div>\n",
       "<style scoped>\n",
       "    .dataframe tbody tr th:only-of-type {\n",
       "        vertical-align: middle;\n",
       "    }\n",
       "\n",
       "    .dataframe tbody tr th {\n",
       "        vertical-align: top;\n",
       "    }\n",
       "\n",
       "    .dataframe thead th {\n",
       "        text-align: right;\n",
       "    }\n",
       "</style>\n",
       "<table border=\"1\" class=\"dataframe\">\n",
       "  <thead>\n",
       "    <tr style=\"text-align: right;\">\n",
       "      <th></th>\n",
<<<<<<< HEAD
       "      <th>Потраченные_деньги_мало</th>\n",
       "      <th>Внешность_отталкивающая</th>\n",
       "      <th>Потраченные_деньги_много</th>\n",
       "      <th>Алкоголь_в_напитке_нет</th>\n",
       "      <th>Уровень_красноречия_высокий</th>\n",
       "      <th>Алкоголь_в_напитке_да</th>\n",
       "      <th>Уровень_красноречия_средний</th>\n",
       "      <th>Внешность_приятная</th>\n",
=======
       "      <th>Внешность_отталкивающая</th>\n",
       "      <th>Алкоголь_в_напитке_да</th>\n",
       "      <th>Внешность_приятная</th>\n",
       "      <th>Уровень_красноречия_средний</th>\n",
       "      <th>Алкоголь_в_напитке_нет</th>\n",
       "      <th>Уровень_красноречия_высокий</th>\n",
       "      <th>Потраченные_деньги_мало</th>\n",
       "      <th>Потраченные_деньги_много</th>\n",
>>>>>>> master
       "    </tr>\n",
       "  </thead>\n",
       "  <tbody>\n",
       "    <tr>\n",
       "      <th>0</th>\n",
       "      <td>0</td>\n",
       "      <td>0</td>\n",
       "      <td>1</td>\n",
       "      <td>1</td>\n",
       "      <td>0</td>\n",
       "      <td>0</td>\n",
       "      <td>1</td>\n",
<<<<<<< HEAD
       "      <td>1</td>\n",
=======
>>>>>>> master
       "    </tr>\n",
       "    <tr>\n",
       "      <th>1</th>\n",
       "      <td>0</td>\n",
       "      <td>1</td>\n",
<<<<<<< HEAD
       "      <td>0</td>\n",
=======
       "      <td>1</td>\n",
>>>>>>> master
       "      <td>0</td>\n",
       "      <td>0</td>\n",
       "      <td>1</td>\n",
       "      <td>1</td>\n",
       "      <td>0</td>\n",
       "      <td>1</td>\n",
       "    </tr>\n",
       "    <tr>\n",
       "      <th>2</th>\n",
       "      <td>0</td>\n",
       "      <td>1</td>\n",
       "      <td>1</td>\n",
       "      <td>1</td>\n",
       "      <td>1</td>\n",
       "      <td>0</td>\n",
<<<<<<< HEAD
=======
       "      <td>0</td>\n",
       "      <td>0</td>\n",
       "      <td>1</td>\n",
>>>>>>> master
       "    </tr>\n",
       "  </tbody>\n",
       "</table>\n",
       "</div>"
      ],
      "text/plain": [
<<<<<<< HEAD
       "   Потраченные_деньги_мало  Внешность_отталкивающая  Потраченные_деньги_много  \\\n",
       "0                        0                        0                         1   \n",
       "1                        1                        0                         0   \n",
       "2                        0                        1                         1   \n",
       "\n",
       "   Алкоголь_в_напитке_нет  Уровень_красноречия_высокий  Алкоголь_в_напитке_да  \\\n",
       "0                       1                            0                      0   \n",
       "1                       0                            1                      1   \n",
       "2                       0                            0                      1   \n",
       "\n",
       "   Уровень_красноречия_средний  Внешность_приятная  \n",
       "0                            1                   1  \n",
       "1                            0                   1  \n",
       "2                            1                   0  "
=======
       "   Внешность_отталкивающая  Алкоголь_в_напитке_да  Внешность_приятная  \\\n",
       "0                        0                      0                   1   \n",
       "1                        0                      1                   1   \n",
       "2                        1                      1                   0   \n",
       "\n",
       "   Уровень_красноречия_средний  Алкоголь_в_напитке_нет  \\\n",
       "0                            1                       1   \n",
       "1                            0                       0   \n",
       "2                            1                       0   \n",
       "\n",
       "   Уровень_красноречия_высокий  Потраченные_деньги_мало  \\\n",
       "0                            0                        0   \n",
       "1                            1                        1   \n",
       "2                            0                        0   \n",
       "\n",
       "   Потраченные_деньги_много  \n",
       "0                         1  \n",
       "1                         0  \n",
       "2                         1  "
>>>>>>> master
      ]
     },
     "execution_count": 7,
     "metadata": {},
     "output_type": "execute_result"
    }
   ],
   "source": [
    "df_test"
   ]
  },
  {
   "cell_type": "markdown",
   "metadata": {},
   "source": [
    "**Постройте от руки (или в графическом редакторе) дерево решений для этого набора данных. Дополнительно (для желающих) – можете сделать отрисовку дерева и написать код для построения всего дерева.**"
   ]
  },
  {
   "cell_type": "markdown",
   "metadata": {},
   "source": [
    "<font color='red'>Вопрос 1.</font> Какова энтропия начальной системы ($S_0$)? Под состояниями системы понимаем значения признака \"Поедет\" – 0 или 1 (то есть всего 2 состояния)."
   ]
  },
  {
   "cell_type": "markdown",
   "metadata": {},
   "source": [
    "<font color='red'>Вопрос 2. </font> Рассмотрим разбиение обучающей выборки по признаку \"Внешность\\_приятная\". Какова энтропия  $S_1$ левой группы, тех, у кого внешность приятная, и правой группы – $S_2$? Каков прирост информации  при данном разбиении (IG)? "
   ]
  },
  {
   "cell_type": "code",
   "execution_count": 8,
   "metadata": {},
   "outputs": [],
   "source": [
    "# Ваш код здесь"
   ]
  },
  {
   "cell_type": "markdown",
   "metadata": {},
   "source": [
    "**Постройте с помощью `sklearn` дерево решений, обучив его на обучающей выборке. Глубину можно не ограничивать.**"
   ]
  },
  {
   "cell_type": "code",
   "execution_count": 9,
   "metadata": {},
   "outputs": [
    {
     "data": {
      "text/plain": [
<<<<<<< HEAD
       "DecisionTreeClassifier(criterion='entropy', random_state=17)"
=======
       "DecisionTreeClassifier(ccp_alpha=0.0, class_weight=None, criterion='entropy',\n",
       "                       max_depth=None, max_features=None, max_leaf_nodes=None,\n",
       "                       min_impurity_decrease=0.0, min_impurity_split=None,\n",
       "                       min_samples_leaf=1, min_samples_split=2,\n",
       "                       min_weight_fraction_leaf=0.0, presort='deprecated',\n",
       "                       random_state=17, splitter='best')"
>>>>>>> master
      ]
     },
     "execution_count": 9,
     "metadata": {},
     "output_type": "execute_result"
    }
   ],
   "source": [
    "# Ваш код здесь\n",
    "dtree = DecisionTreeClassifier(criterion='entropy', random_state=17)\n",
    "dtree.fit(df_train,y)"
   ]
  },
  {
   "cell_type": "markdown",
   "metadata": {},
   "source": [
    "**Дополнительно: отобразите дерево с помощью graphviz. Можно использовать `pydot` или, например, [онлайн-сервис](https://www.coolutils.com/ru/online/DOT-to-PNG) dot2png.**"
   ]
  },
  {
   "cell_type": "code",
   "execution_count": 10,
   "metadata": {},
   "outputs": [
    {
     "data": {
<<<<<<< HEAD
      "image/png": "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\n",
=======
      "image/png": "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\n",
>>>>>>> master
      "text/plain": [
       "<Figure size 720x576 with 1 Axes>"
      ]
     },
     "metadata": {
      "needs_background": "light"
     },
     "output_type": "display_data"
    }
   ],
   "source": [
    "# Ваш код здесь\n",
    "plot_tree(dtree, feature_names=df_train.columns, filled=True, class_names=['Wont go', 'Will go']);"
   ]
  },
  {
   "cell_type": "markdown",
   "metadata": {},
   "source": [
    "## Часть 2. Функции для расчета энтропии и прироста информации"
   ]
  },
  {
   "cell_type": "markdown",
   "metadata": {},
   "source": [
    "Примерчик для проверки: 9 синих шариков и 11 желтых. Пусть шарик находится в состоянии \"1\", если он синий и \"0\" – если он желтый."
   ]
  },
  {
   "cell_type": "code",
   "execution_count": 11,
   "metadata": {},
   "outputs": [],
   "source": [
    "balls = [1 for i in range(9)] + [0 for i in range(11)]"
   ]
  },
  {
   "cell_type": "markdown",
   "metadata": {},
   "source": [
    "![png](../../img/decision_tree3.png)"
   ]
  },
  {
   "cell_type": "markdown",
   "metadata": {},
   "source": [
    "Дальше пусть шарики разбиваются на 2 группы\n",
    "![png](../../img/decision_tree4.png)"
   ]
  },
  {
   "cell_type": "code",
   "execution_count": 12,
   "metadata": {},
   "outputs": [],
   "source": [
    "# две группы\n",
    "balls_left  = [1 for i in range(8)] + [0 for i in range(5)] # 8 синих и 5 желтых\n",
    "balls_right = [1 for i in range(1)] + [0 for i in range(6)] # 1 синий и 6 желтых"
   ]
  },
  {
   "cell_type": "markdown",
   "metadata": {},
   "source": [
    "**Реализуйте функцию для расчета энтропии Шеннона.**"
   ]
  },
  {
   "cell_type": "code",
   "execution_count": 13,
   "metadata": {},
   "outputs": [],
   "source": [
    "from math import log\n",
    "def entropy(a_list):\n",
    "    lst = list(a_list)\n",
    "    size = len(lst)\n",
    "    S = 0\n",
    "    set_el = len(set(lst))\n",
    "    if set_el in [0,1]:\n",
    "        return 0\n",
    "    for i in set(lst):\n",
    "        occ = lst.count(i)\n",
    "        S -= occ/size * log(occ/size, 2)\n",
    "    return S"
   ]
  },
  {
   "cell_type": "markdown",
   "metadata": {},
   "source": [
    "Проверка"
   ]
  },
  {
   "cell_type": "code",
   "execution_count": 14,
   "metadata": {},
   "outputs": [
    {
     "name": "stdout",
     "output_type": "stream",
     "text": [
      "0.9927744539878084\n",
      "0.961236604722876\n",
      "0.5916727785823275\n",
      "2.584962500721156\n"
     ]
    }
   ],
   "source": [
    "print(entropy(balls)) # 9 синих и 11 желтых\n",
    "print(entropy(balls_left)) # 8 синих и 5 желтых\n",
    "print(entropy(balls_right)) # 1 синий и 6 желтых\n",
    "print(entropy([1,2,3,4,5,6])) # энтропия игральной кости с несмещенным центром тяжести"
   ]
  },
  {
   "cell_type": "markdown",
   "metadata": {},
   "source": [
    "<font color='red'>Вопрос 3.</font> Чему равна энтропия состояния, заданного списком `balls_left`?"
   ]
  },
  {
   "cell_type": "markdown",
   "metadata": {},
   "source": [
    "<font color='red'>Вопрос 4.</font> Чему равна энтропия игральной кости с несмещенным центром тяжести?"
   ]
  },
  {
   "cell_type": "code",
   "execution_count": 15,
   "metadata": {},
   "outputs": [],
   "source": [
    "# расчет прироста информации\n",
    "\n",
    "def information_gain(root, left, right):\n",
    "    ''' root - изначальный набор данных, left и right два разбиения изначального набора'''\n",
    "    return(entropy(root) - (len(left)/len(root))*entropy(left) - (len(right)/len(root))*entropy(right))"
   ]
  },
  {
   "cell_type": "markdown",
   "metadata": {},
   "source": [
    "<font color='red'>Вопрос 5.  </font> Каков прирост информации при разделении выборки на `balls_left` и `balls_right`?"
   ]
  },
  {
   "cell_type": "code",
   "execution_count": 16,
   "metadata": {},
   "outputs": [
    {
     "data": {
      "text/plain": [
       "0.16088518841412436"
      ]
     },
     "execution_count": 16,
     "metadata": {},
     "output_type": "execute_result"
    }
   ],
   "source": [
    "# Ваш код здесь\n",
    "information_gain(balls, balls_left, balls_right)"
   ]
  },
  {
   "cell_type": "code",
   "execution_count": 17,
   "metadata": {},
   "outputs": [],
   "source": [
    "def best_feature_to_split(X, y):\n",
    "    ''' Выводит прирост информации при разбиении по каждому признаку'''\n",
    "    out = []\n",
    "    for i in X.columns:\n",
    "        out.append(information_gain(y, y[X[i]==0], y[X[i]==1]))\n",
    "    return out"
   ]
  },
  {
   "cell_type": "code",
   "execution_count": 18,
   "metadata": {},
   "outputs": [
    {
     "data": {
      "text/plain": [
<<<<<<< HEAD
       "[0.46956521111470706,\n",
       " 0.12808527889139454,\n",
       " 0.46956521111470706,\n",
       " 0.005977711423774124,\n",
       " 0.2916919971380598,\n",
       " 0.005977711423774124,\n",
       " 0.02024420715375619,\n",
       " 0.12808527889139454]"
=======
       "[0.12808527889139454,\n",
       " 0.005977711423774124,\n",
       " 0.12808527889139454,\n",
       " 0.02024420715375619,\n",
       " 0.005977711423774124,\n",
       " 0.2916919971380598,\n",
       " 0.46956521111470706,\n",
       " 0.46956521111470706]"
>>>>>>> master
      ]
     },
     "execution_count": 18,
     "metadata": {},
     "output_type": "execute_result"
    }
   ],
   "source": [
    "best_feature_to_split(df_train, y)"
   ]
  },
  {
   "cell_type": "code",
   "execution_count": 19,
   "metadata": {},
   "outputs": [],
   "source": [
    "def btree(X, y, feature_names):\n",
    "    clf = best_feature_to_split(X, y)\n",
    "    best_feat_id = clf.index(max(clf))\n",
    "    best_feature = feature_names[best_feat_id]\n",
    "    print(f\"Best feature to split: {best_feature}\")\n",
    "\n",
    "    x_left = X[X.iloc[:, best_feat_id] == 0]\n",
    "    x_right = X[X.iloc[:, best_feat_id] == 1]\n",
    "    print(f\"Samples: {len(x_left)} (left) and {len(x_right)} (right)\")\n",
    "\n",
    "    y_left = y[X.iloc[:, best_feat_id] == 0]\n",
    "    y_right = y[X.iloc[:, best_feat_id] == 1]\n",
    "    entropy_left = entropy(y_left)\n",
    "    entropy_right = entropy(y_right)\n",
    "    print(f\"Entropy: {entropy_left} (left) and {entropy_right} (right)\")\n",
    "    print(\"_\" * 30 + \"\\n\")\n",
    "    if entropy_left != 0:\n",
    "        print(f\"Splitting the left group with {len(x_left)} samples:\")\n",
    "        btree(x_left, y_left, feature_names)\n",
    "    if entropy_right != 0:\n",
    "        print(f\"Splitting the right group with {len(x_right)} samples:\")\n",
    "        btree(x_right, y_right, feature_names)\n"
   ]
  },
  {
   "cell_type": "code",
   "execution_count": 20,
   "metadata": {},
   "outputs": [
    {
     "name": "stdout",
     "output_type": "stream",
     "text": [
      "Best feature to split: Потраченные_деньги_мало\n",
      "Samples: 5 (left) and 2 (right)\n",
      "Entropy: 0.7219280948873623 (left) and 0 (right)\n",
      "______________________________\n",
      "\n",
      "Splitting the left group with 5 samples:\n",
      "Best feature to split: Внешность_отталкивающая\n",
      "Samples: 3 (left) and 2 (right)\n",
      "Entropy: 0 (left) and 1.0 (right)\n",
      "______________________________\n",
      "\n",
      "Splitting the right group with 2 samples:\n",
      "Best feature to split: Уровень_красноречия_высокий\n",
      "Samples: 1 (left) and 1 (right)\n",
      "Entropy: 0 (left) and 0 (right)\n",
      "______________________________\n",
      "\n"
     ]
    }
   ],
   "source": [
    "btree(df_train, y, df_train.columns)"
   ]
  },
  {
   "cell_type": "markdown",
   "metadata": {},
   "source": [
    "**Опционально:**\n",
    "\n",
    " - реализуйте алгоритм построения дерева за счет рекурсивного вызова функции `best_feature_to_split`\n",
    " - нарисуйте полученное дерево"
   ]
  },
  {
   "cell_type": "markdown",
   "metadata": {},
   "source": [
    "## Часть 3. Набор данных \"Adult\""
   ]
  },
  {
   "cell_type": "markdown",
   "metadata": {},
   "source": [
    "**Описание набора:**"
   ]
  },
  {
   "cell_type": "markdown",
   "metadata": {},
   "source": [
    "**[Набор](http://archive.ics.uci.edu/ml/machine-learning-databases/adult) данных UCI Adult** (качать не надо, все есть в репозитории): классификация людей с помощью демографических данных для прогнозирования, зарабатывает ли человек более \\$ 50 000 в год.\n",
    "\n",
    "Описание признаков: \n",
    "\n",
    "**Age** – возраст, количественный признак  \n",
    "**Workclass** – тип работодателя, количественный признак  \n",
    "**fnlwgt** – итоговый вес обьекта, количественный признак    \n",
    "**Education** – уровень образования, качественный признак  \n",
    "**Education_Num** – количество лет обучения, количественный признак  \n",
    "**Martial_Status** – семейное положение, категориальный признак  \n",
    "**Occupation** – профессия, категориальный признак  \n",
    "**Relationship** – тип семейных отношений, категориальный признак    \n",
    "**Race** – раса, категориальный признак  \n",
    "**Sex** – пол, качественный признак  \n",
    "**Capital_Gain** – прирост капитала, количественный признак  \n",
    "**Capital_Loss** – потери капитала, количественный признак  \n",
    "**Hours_per_week** – количество часов работы в неделю, количественный признак  \n",
    "**Country** – страна, категориальный признак  \n",
    "   \n",
    "Целевая переменная: **Target** – уровень заработка, категориальный (бинарный) признак  "
   ]
  },
  {
   "cell_type": "markdown",
   "metadata": {},
   "source": [
    "**Считываем обучающую и тестовую выборки.**"
   ]
  },
  {
   "cell_type": "code",
   "execution_count": 21,
   "metadata": {},
   "outputs": [],
   "source": [
    "data_train = pd.read_csv('data/adult_train.csv', sep=';') "
   ]
  },
  {
   "cell_type": "code",
   "execution_count": 22,
   "metadata": {},
   "outputs": [
    {
     "data": {
      "text/html": [
       "<div>\n",
       "<style scoped>\n",
       "    .dataframe tbody tr th:only-of-type {\n",
       "        vertical-align: middle;\n",
       "    }\n",
       "\n",
       "    .dataframe tbody tr th {\n",
       "        vertical-align: top;\n",
       "    }\n",
       "\n",
       "    .dataframe thead th {\n",
       "        text-align: right;\n",
       "    }\n",
       "</style>\n",
       "<table border=\"1\" class=\"dataframe\">\n",
       "  <thead>\n",
       "    <tr style=\"text-align: right;\">\n",
       "      <th></th>\n",
       "      <th>Age</th>\n",
       "      <th>Workclass</th>\n",
       "      <th>fnlwgt</th>\n",
       "      <th>Education</th>\n",
       "      <th>Education_Num</th>\n",
       "      <th>Martial_Status</th>\n",
       "      <th>Occupation</th>\n",
       "      <th>Relationship</th>\n",
       "      <th>Race</th>\n",
       "      <th>Sex</th>\n",
       "      <th>Capital_Gain</th>\n",
       "      <th>Capital_Loss</th>\n",
       "      <th>Hours_per_week</th>\n",
       "      <th>Country</th>\n",
       "      <th>Target</th>\n",
       "    </tr>\n",
       "  </thead>\n",
       "  <tbody>\n",
       "    <tr>\n",
       "      <th>32556</th>\n",
       "      <td>27</td>\n",
       "      <td>Private</td>\n",
       "      <td>257302</td>\n",
       "      <td>Assoc-acdm</td>\n",
       "      <td>12</td>\n",
       "      <td>Married-civ-spouse</td>\n",
       "      <td>Tech-support</td>\n",
       "      <td>Wife</td>\n",
       "      <td>White</td>\n",
       "      <td>Female</td>\n",
       "      <td>0</td>\n",
       "      <td>0</td>\n",
       "      <td>38</td>\n",
       "      <td>United-States</td>\n",
       "      <td>&lt;=50K</td>\n",
       "    </tr>\n",
       "    <tr>\n",
       "      <th>32557</th>\n",
       "      <td>40</td>\n",
       "      <td>Private</td>\n",
       "      <td>154374</td>\n",
       "      <td>HS-grad</td>\n",
       "      <td>9</td>\n",
       "      <td>Married-civ-spouse</td>\n",
       "      <td>Machine-op-inspct</td>\n",
       "      <td>Husband</td>\n",
       "      <td>White</td>\n",
       "      <td>Male</td>\n",
       "      <td>0</td>\n",
       "      <td>0</td>\n",
       "      <td>40</td>\n",
       "      <td>United-States</td>\n",
       "      <td>&gt;50K</td>\n",
       "    </tr>\n",
       "    <tr>\n",
       "      <th>32558</th>\n",
       "      <td>58</td>\n",
       "      <td>Private</td>\n",
       "      <td>151910</td>\n",
       "      <td>HS-grad</td>\n",
       "      <td>9</td>\n",
       "      <td>Widowed</td>\n",
       "      <td>Adm-clerical</td>\n",
       "      <td>Unmarried</td>\n",
       "      <td>White</td>\n",
       "      <td>Female</td>\n",
       "      <td>0</td>\n",
       "      <td>0</td>\n",
       "      <td>40</td>\n",
       "      <td>United-States</td>\n",
       "      <td>&lt;=50K</td>\n",
       "    </tr>\n",
       "    <tr>\n",
       "      <th>32559</th>\n",
       "      <td>22</td>\n",
       "      <td>Private</td>\n",
       "      <td>201490</td>\n",
       "      <td>HS-grad</td>\n",
       "      <td>9</td>\n",
       "      <td>Never-married</td>\n",
       "      <td>Adm-clerical</td>\n",
       "      <td>Own-child</td>\n",
       "      <td>White</td>\n",
       "      <td>Male</td>\n",
       "      <td>0</td>\n",
       "      <td>0</td>\n",
       "      <td>20</td>\n",
       "      <td>United-States</td>\n",
       "      <td>&lt;=50K</td>\n",
       "    </tr>\n",
       "    <tr>\n",
       "      <th>32560</th>\n",
       "      <td>52</td>\n",
       "      <td>Self-emp-inc</td>\n",
       "      <td>287927</td>\n",
       "      <td>HS-grad</td>\n",
       "      <td>9</td>\n",
       "      <td>Married-civ-spouse</td>\n",
       "      <td>Exec-managerial</td>\n",
       "      <td>Wife</td>\n",
       "      <td>White</td>\n",
       "      <td>Female</td>\n",
       "      <td>15024</td>\n",
       "      <td>0</td>\n",
       "      <td>40</td>\n",
       "      <td>United-States</td>\n",
       "      <td>&gt;50K</td>\n",
       "    </tr>\n",
       "  </tbody>\n",
       "</table>\n",
       "</div>"
      ],
      "text/plain": [
       "       Age      Workclass  fnlwgt    Education  Education_Num  \\\n",
       "32556   27        Private  257302   Assoc-acdm             12   \n",
       "32557   40        Private  154374      HS-grad              9   \n",
       "32558   58        Private  151910      HS-grad              9   \n",
       "32559   22        Private  201490      HS-grad              9   \n",
       "32560   52   Self-emp-inc  287927      HS-grad              9   \n",
       "\n",
       "            Martial_Status          Occupation Relationship    Race      Sex  \\\n",
       "32556   Married-civ-spouse        Tech-support         Wife   White   Female   \n",
       "32557   Married-civ-spouse   Machine-op-inspct      Husband   White     Male   \n",
       "32558              Widowed        Adm-clerical    Unmarried   White   Female   \n",
       "32559        Never-married        Adm-clerical    Own-child   White     Male   \n",
       "32560   Married-civ-spouse     Exec-managerial         Wife   White   Female   \n",
       "\n",
       "       Capital_Gain  Capital_Loss  Hours_per_week         Country  Target  \n",
       "32556             0             0              38   United-States   <=50K  \n",
       "32557             0             0              40   United-States    >50K  \n",
       "32558             0             0              40   United-States   <=50K  \n",
       "32559             0             0              20   United-States   <=50K  \n",
       "32560         15024             0              40   United-States    >50K  "
      ]
     },
     "execution_count": 22,
     "metadata": {},
     "output_type": "execute_result"
    }
   ],
   "source": [
    "data_train.tail()"
   ]
  },
  {
   "cell_type": "code",
   "execution_count": 23,
   "metadata": {},
   "outputs": [],
   "source": [
    "data_test = pd.read_csv('data/adult_test.csv', sep=';') "
   ]
  },
  {
   "cell_type": "code",
   "execution_count": 24,
   "metadata": {},
   "outputs": [
    {
     "data": {
      "text/html": [
       "<div>\n",
       "<style scoped>\n",
       "    .dataframe tbody tr th:only-of-type {\n",
       "        vertical-align: middle;\n",
       "    }\n",
       "\n",
       "    .dataframe tbody tr th {\n",
       "        vertical-align: top;\n",
       "    }\n",
       "\n",
       "    .dataframe thead th {\n",
       "        text-align: right;\n",
       "    }\n",
       "</style>\n",
       "<table border=\"1\" class=\"dataframe\">\n",
       "  <thead>\n",
       "    <tr style=\"text-align: right;\">\n",
       "      <th></th>\n",
       "      <th>Age</th>\n",
       "      <th>Workclass</th>\n",
       "      <th>fnlwgt</th>\n",
       "      <th>Education</th>\n",
       "      <th>Education_Num</th>\n",
       "      <th>Martial_Status</th>\n",
       "      <th>Occupation</th>\n",
       "      <th>Relationship</th>\n",
       "      <th>Race</th>\n",
       "      <th>Sex</th>\n",
       "      <th>Capital_Gain</th>\n",
       "      <th>Capital_Loss</th>\n",
       "      <th>Hours_per_week</th>\n",
       "      <th>Country</th>\n",
       "      <th>Target</th>\n",
       "    </tr>\n",
       "  </thead>\n",
       "  <tbody>\n",
       "    <tr>\n",
       "      <th>16277</th>\n",
       "      <td>39</td>\n",
       "      <td>Private</td>\n",
       "      <td>215419.0</td>\n",
       "      <td>Bachelors</td>\n",
       "      <td>13.0</td>\n",
       "      <td>Divorced</td>\n",
       "      <td>Prof-specialty</td>\n",
       "      <td>Not-in-family</td>\n",
       "      <td>White</td>\n",
       "      <td>Female</td>\n",
       "      <td>0.0</td>\n",
       "      <td>0.0</td>\n",
       "      <td>36.0</td>\n",
       "      <td>United-States</td>\n",
       "      <td>&lt;=50K.</td>\n",
       "    </tr>\n",
       "    <tr>\n",
       "      <th>16278</th>\n",
       "      <td>64</td>\n",
       "      <td>NaN</td>\n",
       "      <td>321403.0</td>\n",
       "      <td>HS-grad</td>\n",
       "      <td>9.0</td>\n",
       "      <td>Widowed</td>\n",
       "      <td>NaN</td>\n",
       "      <td>Other-relative</td>\n",
       "      <td>Black</td>\n",
       "      <td>Male</td>\n",
       "      <td>0.0</td>\n",
       "      <td>0.0</td>\n",
       "      <td>40.0</td>\n",
       "      <td>United-States</td>\n",
       "      <td>&lt;=50K.</td>\n",
       "    </tr>\n",
       "    <tr>\n",
       "      <th>16279</th>\n",
       "      <td>38</td>\n",
       "      <td>Private</td>\n",
       "      <td>374983.0</td>\n",
       "      <td>Bachelors</td>\n",
       "      <td>13.0</td>\n",
       "      <td>Married-civ-spouse</td>\n",
       "      <td>Prof-specialty</td>\n",
       "      <td>Husband</td>\n",
       "      <td>White</td>\n",
       "      <td>Male</td>\n",
       "      <td>0.0</td>\n",
       "      <td>0.0</td>\n",
       "      <td>50.0</td>\n",
       "      <td>United-States</td>\n",
       "      <td>&lt;=50K.</td>\n",
       "    </tr>\n",
       "    <tr>\n",
       "      <th>16280</th>\n",
       "      <td>44</td>\n",
       "      <td>Private</td>\n",
       "      <td>83891.0</td>\n",
       "      <td>Bachelors</td>\n",
       "      <td>13.0</td>\n",
       "      <td>Divorced</td>\n",
       "      <td>Adm-clerical</td>\n",
       "      <td>Own-child</td>\n",
       "      <td>Asian-Pac-Islander</td>\n",
       "      <td>Male</td>\n",
       "      <td>5455.0</td>\n",
       "      <td>0.0</td>\n",
       "      <td>40.0</td>\n",
       "      <td>United-States</td>\n",
       "      <td>&lt;=50K.</td>\n",
       "    </tr>\n",
       "    <tr>\n",
       "      <th>16281</th>\n",
       "      <td>35</td>\n",
       "      <td>Self-emp-inc</td>\n",
       "      <td>182148.0</td>\n",
       "      <td>Bachelors</td>\n",
       "      <td>13.0</td>\n",
       "      <td>Married-civ-spouse</td>\n",
       "      <td>Exec-managerial</td>\n",
       "      <td>Husband</td>\n",
       "      <td>White</td>\n",
       "      <td>Male</td>\n",
       "      <td>0.0</td>\n",
       "      <td>0.0</td>\n",
       "      <td>60.0</td>\n",
       "      <td>United-States</td>\n",
       "      <td>&gt;50K.</td>\n",
       "    </tr>\n",
       "  </tbody>\n",
       "</table>\n",
       "</div>"
      ],
      "text/plain": [
       "      Age      Workclass    fnlwgt   Education  Education_Num  \\\n",
       "16277  39        Private  215419.0   Bachelors           13.0   \n",
       "16278  64            NaN  321403.0     HS-grad            9.0   \n",
       "16279  38        Private  374983.0   Bachelors           13.0   \n",
       "16280  44        Private   83891.0   Bachelors           13.0   \n",
       "16281  35   Self-emp-inc  182148.0   Bachelors           13.0   \n",
       "\n",
       "            Martial_Status        Occupation     Relationship  \\\n",
       "16277             Divorced    Prof-specialty    Not-in-family   \n",
       "16278              Widowed               NaN   Other-relative   \n",
       "16279   Married-civ-spouse    Prof-specialty          Husband   \n",
       "16280             Divorced      Adm-clerical        Own-child   \n",
       "16281   Married-civ-spouse   Exec-managerial          Husband   \n",
       "\n",
       "                      Race      Sex  Capital_Gain  Capital_Loss  \\\n",
       "16277                White   Female           0.0           0.0   \n",
       "16278                Black     Male           0.0           0.0   \n",
       "16279                White     Male           0.0           0.0   \n",
       "16280   Asian-Pac-Islander     Male        5455.0           0.0   \n",
       "16281                White     Male           0.0           0.0   \n",
       "\n",
       "       Hours_per_week         Country   Target  \n",
       "16277            36.0   United-States   <=50K.  \n",
       "16278            40.0   United-States   <=50K.  \n",
       "16279            50.0   United-States   <=50K.  \n",
       "16280            40.0   United-States   <=50K.  \n",
       "16281            60.0   United-States    >50K.  "
      ]
     },
     "execution_count": 24,
     "metadata": {},
     "output_type": "execute_result"
    }
   ],
   "source": [
    "data_test.tail()"
   ]
  },
  {
   "cell_type": "code",
   "execution_count": 25,
   "metadata": {},
   "outputs": [],
   "source": [
    "# необходимо убрать строки с неправильными метками в тестовой выборке\n",
    "data_test = data_test[(data_test['Target'] == ' >50K.') \n",
    "                      | (data_test['Target']==' <=50K.')]\n",
    "\n",
    "# перекодируем target в числовое поле\n",
    "data_train.at[data_train['Target'] == ' <=50K', 'Target'] = 0\n",
    "data_train.at[data_train['Target'] == ' >50K', 'Target'] = 1\n",
    "\n",
    "data_test.at[data_test['Target'] == ' <=50K.', 'Target'] = 0\n",
    "data_test.at[data_test['Target'] == ' >50K.', 'Target'] = 1"
   ]
  },
  {
   "cell_type": "markdown",
   "metadata": {},
   "source": [
    "**Первичный анализ данных.**"
   ]
  },
  {
   "cell_type": "code",
   "execution_count": 26,
   "metadata": {},
   "outputs": [
    {
     "data": {
      "text/html": [
       "<div>\n",
       "<style scoped>\n",
       "    .dataframe tbody tr th:only-of-type {\n",
       "        vertical-align: middle;\n",
       "    }\n",
       "\n",
       "    .dataframe tbody tr th {\n",
       "        vertical-align: top;\n",
       "    }\n",
       "\n",
       "    .dataframe thead th {\n",
       "        text-align: right;\n",
       "    }\n",
       "</style>\n",
       "<table border=\"1\" class=\"dataframe\">\n",
       "  <thead>\n",
       "    <tr style=\"text-align: right;\">\n",
       "      <th></th>\n",
       "      <th>count</th>\n",
       "      <th>unique</th>\n",
       "      <th>top</th>\n",
       "      <th>freq</th>\n",
       "      <th>mean</th>\n",
       "      <th>std</th>\n",
       "      <th>min</th>\n",
       "      <th>25%</th>\n",
       "      <th>50%</th>\n",
       "      <th>75%</th>\n",
       "      <th>max</th>\n",
       "    </tr>\n",
       "  </thead>\n",
       "  <tbody>\n",
       "    <tr>\n",
       "      <th>Age</th>\n",
       "      <td>16281</td>\n",
       "      <td>73</td>\n",
       "      <td>35</td>\n",
       "      <td>461</td>\n",
       "      <td>NaN</td>\n",
       "      <td>NaN</td>\n",
       "      <td>NaN</td>\n",
       "      <td>NaN</td>\n",
       "      <td>NaN</td>\n",
       "      <td>NaN</td>\n",
       "      <td>NaN</td>\n",
       "    </tr>\n",
       "    <tr>\n",
       "      <th>Workclass</th>\n",
       "      <td>15318</td>\n",
       "      <td>8</td>\n",
       "      <td>Private</td>\n",
       "      <td>11210</td>\n",
       "      <td>NaN</td>\n",
       "      <td>NaN</td>\n",
       "      <td>NaN</td>\n",
       "      <td>NaN</td>\n",
       "      <td>NaN</td>\n",
       "      <td>NaN</td>\n",
       "      <td>NaN</td>\n",
       "    </tr>\n",
       "    <tr>\n",
       "      <th>fnlwgt</th>\n",
       "      <td>16281.0</td>\n",
       "      <td>NaN</td>\n",
       "      <td>NaN</td>\n",
       "      <td>NaN</td>\n",
       "      <td>189435.677784</td>\n",
       "      <td>105714.907671</td>\n",
       "      <td>13492.0</td>\n",
       "      <td>116736.0</td>\n",
       "      <td>177831.0</td>\n",
       "      <td>238384.0</td>\n",
       "      <td>1490400.0</td>\n",
       "    </tr>\n",
       "    <tr>\n",
       "      <th>Education</th>\n",
       "      <td>16281</td>\n",
       "      <td>16</td>\n",
       "      <td>HS-grad</td>\n",
       "      <td>5283</td>\n",
       "      <td>NaN</td>\n",
       "      <td>NaN</td>\n",
       "      <td>NaN</td>\n",
       "      <td>NaN</td>\n",
       "      <td>NaN</td>\n",
       "      <td>NaN</td>\n",
       "      <td>NaN</td>\n",
       "    </tr>\n",
       "    <tr>\n",
       "      <th>Education_Num</th>\n",
       "      <td>16281.0</td>\n",
       "      <td>NaN</td>\n",
       "      <td>NaN</td>\n",
       "      <td>NaN</td>\n",
       "      <td>10.072907</td>\n",
       "      <td>2.567545</td>\n",
       "      <td>1.0</td>\n",
       "      <td>9.0</td>\n",
       "      <td>10.0</td>\n",
       "      <td>12.0</td>\n",
       "      <td>16.0</td>\n",
       "    </tr>\n",
       "    <tr>\n",
       "      <th>Martial_Status</th>\n",
       "      <td>16281</td>\n",
       "      <td>7</td>\n",
       "      <td>Married-civ-spouse</td>\n",
       "      <td>7403</td>\n",
       "      <td>NaN</td>\n",
       "      <td>NaN</td>\n",
       "      <td>NaN</td>\n",
       "      <td>NaN</td>\n",
       "      <td>NaN</td>\n",
       "      <td>NaN</td>\n",
       "      <td>NaN</td>\n",
       "    </tr>\n",
       "    <tr>\n",
       "      <th>Occupation</th>\n",
       "      <td>15315</td>\n",
       "      <td>14</td>\n",
       "      <td>Prof-specialty</td>\n",
       "      <td>2032</td>\n",
       "      <td>NaN</td>\n",
       "      <td>NaN</td>\n",
       "      <td>NaN</td>\n",
       "      <td>NaN</td>\n",
       "      <td>NaN</td>\n",
       "      <td>NaN</td>\n",
       "      <td>NaN</td>\n",
       "    </tr>\n",
       "    <tr>\n",
       "      <th>Relationship</th>\n",
       "      <td>16281</td>\n",
       "      <td>6</td>\n",
       "      <td>Husband</td>\n",
       "      <td>6523</td>\n",
       "      <td>NaN</td>\n",
       "      <td>NaN</td>\n",
       "      <td>NaN</td>\n",
       "      <td>NaN</td>\n",
       "      <td>NaN</td>\n",
       "      <td>NaN</td>\n",
       "      <td>NaN</td>\n",
       "    </tr>\n",
       "    <tr>\n",
       "      <th>Race</th>\n",
       "      <td>16281</td>\n",
       "      <td>5</td>\n",
       "      <td>White</td>\n",
       "      <td>13946</td>\n",
       "      <td>NaN</td>\n",
       "      <td>NaN</td>\n",
       "      <td>NaN</td>\n",
       "      <td>NaN</td>\n",
       "      <td>NaN</td>\n",
       "      <td>NaN</td>\n",
       "      <td>NaN</td>\n",
       "    </tr>\n",
       "    <tr>\n",
       "      <th>Sex</th>\n",
       "      <td>16281</td>\n",
       "      <td>2</td>\n",
       "      <td>Male</td>\n",
       "      <td>10860</td>\n",
       "      <td>NaN</td>\n",
       "      <td>NaN</td>\n",
       "      <td>NaN</td>\n",
       "      <td>NaN</td>\n",
       "      <td>NaN</td>\n",
       "      <td>NaN</td>\n",
       "      <td>NaN</td>\n",
       "    </tr>\n",
       "    <tr>\n",
       "      <th>Capital_Gain</th>\n",
       "      <td>16281.0</td>\n",
       "      <td>NaN</td>\n",
       "      <td>NaN</td>\n",
       "      <td>NaN</td>\n",
       "      <td>1081.905104</td>\n",
       "      <td>7583.935968</td>\n",
       "      <td>0.0</td>\n",
       "      <td>0.0</td>\n",
       "      <td>0.0</td>\n",
       "      <td>0.0</td>\n",
       "      <td>99999.0</td>\n",
       "    </tr>\n",
       "    <tr>\n",
       "      <th>Capital_Loss</th>\n",
       "      <td>16281.0</td>\n",
       "      <td>NaN</td>\n",
       "      <td>NaN</td>\n",
       "      <td>NaN</td>\n",
       "      <td>87.899269</td>\n",
       "      <td>403.105286</td>\n",
       "      <td>0.0</td>\n",
       "      <td>0.0</td>\n",
       "      <td>0.0</td>\n",
       "      <td>0.0</td>\n",
       "      <td>3770.0</td>\n",
       "    </tr>\n",
       "    <tr>\n",
       "      <th>Hours_per_week</th>\n",
       "      <td>16281.0</td>\n",
       "      <td>NaN</td>\n",
       "      <td>NaN</td>\n",
       "      <td>NaN</td>\n",
       "      <td>40.392236</td>\n",
       "      <td>12.479332</td>\n",
       "      <td>1.0</td>\n",
       "      <td>40.0</td>\n",
       "      <td>40.0</td>\n",
       "      <td>45.0</td>\n",
       "      <td>99.0</td>\n",
       "    </tr>\n",
       "    <tr>\n",
       "      <th>Country</th>\n",
       "      <td>16007</td>\n",
       "      <td>40</td>\n",
       "      <td>United-States</td>\n",
       "      <td>14662</td>\n",
       "      <td>NaN</td>\n",
       "      <td>NaN</td>\n",
       "      <td>NaN</td>\n",
       "      <td>NaN</td>\n",
       "      <td>NaN</td>\n",
       "      <td>NaN</td>\n",
       "      <td>NaN</td>\n",
       "    </tr>\n",
       "    <tr>\n",
       "      <th>Target</th>\n",
<<<<<<< HEAD
       "      <td>16281.0</td>\n",
       "      <td>2.0</td>\n",
       "      <td>0.0</td>\n",
       "      <td>12435.0</td>\n",
=======
       "      <td>16281</td>\n",
       "      <td>2</td>\n",
       "      <td>0</td>\n",
       "      <td>12435</td>\n",
>>>>>>> master
       "      <td>NaN</td>\n",
       "      <td>NaN</td>\n",
       "      <td>NaN</td>\n",
       "      <td>NaN</td>\n",
       "      <td>NaN</td>\n",
       "      <td>NaN</td>\n",
       "      <td>NaN</td>\n",
       "    </tr>\n",
       "  </tbody>\n",
       "</table>\n",
       "</div>"
      ],
      "text/plain": [
<<<<<<< HEAD
       "                  count unique                  top     freq           mean  \\\n",
       "Age               16281     73                   35      461            NaN   \n",
       "Workclass         15318      8              Private    11210            NaN   \n",
       "fnlwgt          16281.0    NaN                  NaN      NaN  189435.677784   \n",
       "Education         16281     16              HS-grad     5283            NaN   \n",
       "Education_Num   16281.0    NaN                  NaN      NaN      10.072907   \n",
       "Martial_Status    16281      7   Married-civ-spouse     7403            NaN   \n",
       "Occupation        15315     14       Prof-specialty     2032            NaN   \n",
       "Relationship      16281      6              Husband     6523            NaN   \n",
       "Race              16281      5                White    13946            NaN   \n",
       "Sex               16281      2                 Male    10860            NaN   \n",
       "Capital_Gain    16281.0    NaN                  NaN      NaN    1081.905104   \n",
       "Capital_Loss    16281.0    NaN                  NaN      NaN      87.899269   \n",
       "Hours_per_week  16281.0    NaN                  NaN      NaN      40.392236   \n",
       "Country           16007     40        United-States    14662            NaN   \n",
       "Target          16281.0    2.0                  0.0  12435.0            NaN   \n",
       "\n",
       "                          std      min       25%       50%       75%  \\\n",
       "Age                       NaN      NaN       NaN       NaN       NaN   \n",
       "Workclass                 NaN      NaN       NaN       NaN       NaN   \n",
       "fnlwgt          105714.907671  13492.0  116736.0  177831.0  238384.0   \n",
       "Education                 NaN      NaN       NaN       NaN       NaN   \n",
       "Education_Num        2.567545      1.0       9.0      10.0      12.0   \n",
       "Martial_Status            NaN      NaN       NaN       NaN       NaN   \n",
       "Occupation                NaN      NaN       NaN       NaN       NaN   \n",
       "Relationship              NaN      NaN       NaN       NaN       NaN   \n",
       "Race                      NaN      NaN       NaN       NaN       NaN   \n",
       "Sex                       NaN      NaN       NaN       NaN       NaN   \n",
       "Capital_Gain      7583.935968      0.0       0.0       0.0       0.0   \n",
       "Capital_Loss       403.105286      0.0       0.0       0.0       0.0   \n",
       "Hours_per_week      12.479332      1.0      40.0      40.0      45.0   \n",
       "Country                   NaN      NaN       NaN       NaN       NaN   \n",
       "Target                    NaN      NaN       NaN       NaN       NaN   \n",
       "\n",
       "                      max  \n",
       "Age                   NaN  \n",
       "Workclass             NaN  \n",
       "fnlwgt          1490400.0  \n",
       "Education             NaN  \n",
       "Education_Num        16.0  \n",
       "Martial_Status        NaN  \n",
       "Occupation            NaN  \n",
       "Relationship          NaN  \n",
       "Race                  NaN  \n",
       "Sex                   NaN  \n",
       "Capital_Gain      99999.0  \n",
       "Capital_Loss       3770.0  \n",
       "Hours_per_week       99.0  \n",
       "Country               NaN  \n",
       "Target                NaN  "
=======
       "                count unique                  top   freq     mean      std  \\\n",
       "Age             16281     73                   35    461      NaN      NaN   \n",
       "Workclass       15318      8              Private  11210      NaN      NaN   \n",
       "fnlwgt          16281    NaN                  NaN    NaN   189436   105715   \n",
       "Education       16281     16              HS-grad   5283      NaN      NaN   \n",
       "Education_Num   16281    NaN                  NaN    NaN  10.0729  2.56755   \n",
       "Martial_Status  16281      7   Married-civ-spouse   7403      NaN      NaN   \n",
       "Occupation      15315     14       Prof-specialty   2032      NaN      NaN   \n",
       "Relationship    16281      6              Husband   6523      NaN      NaN   \n",
       "Race            16281      5                White  13946      NaN      NaN   \n",
       "Sex             16281      2                 Male  10860      NaN      NaN   \n",
       "Capital_Gain    16281    NaN                  NaN    NaN  1081.91  7583.94   \n",
       "Capital_Loss    16281    NaN                  NaN    NaN  87.8993  403.105   \n",
       "Hours_per_week  16281    NaN                  NaN    NaN  40.3922  12.4793   \n",
       "Country         16007     40        United-States  14662      NaN      NaN   \n",
       "Target          16281      2                    0  12435      NaN      NaN   \n",
       "\n",
       "                  min     25%     50%     75%         max  \n",
       "Age               NaN     NaN     NaN     NaN         NaN  \n",
       "Workclass         NaN     NaN     NaN     NaN         NaN  \n",
       "fnlwgt          13492  116736  177831  238384  1.4904e+06  \n",
       "Education         NaN     NaN     NaN     NaN         NaN  \n",
       "Education_Num       1       9      10      12          16  \n",
       "Martial_Status    NaN     NaN     NaN     NaN         NaN  \n",
       "Occupation        NaN     NaN     NaN     NaN         NaN  \n",
       "Relationship      NaN     NaN     NaN     NaN         NaN  \n",
       "Race              NaN     NaN     NaN     NaN         NaN  \n",
       "Sex               NaN     NaN     NaN     NaN         NaN  \n",
       "Capital_Gain        0       0       0       0       99999  \n",
       "Capital_Loss        0       0       0       0        3770  \n",
       "Hours_per_week      1      40      40      45          99  \n",
       "Country           NaN     NaN     NaN     NaN         NaN  \n",
       "Target            NaN     NaN     NaN     NaN         NaN  "
>>>>>>> master
      ]
     },
     "execution_count": 26,
     "metadata": {},
     "output_type": "execute_result"
    }
   ],
   "source": [
    "data_test.describe(include='all').T"
   ]
  },
  {
   "cell_type": "code",
   "execution_count": 27,
   "metadata": {},
   "outputs": [
    {
     "data": {
      "text/plain": [
       "0    24720\n",
       "1     7841\n",
       "Name: Target, dtype: int64"
      ]
     },
     "execution_count": 27,
     "metadata": {},
     "output_type": "execute_result"
    }
   ],
   "source": [
    "data_train['Target'].value_counts()"
   ]
  },
  {
   "cell_type": "code",
   "execution_count": 28,
   "metadata": {},
   "outputs": [
    {
     "name": "stdout",
     "output_type": "stream",
     "text": [
      "<class 'pandas.core.frame.DataFrame'>\n",
      "RangeIndex: 32561 entries, 0 to 32560\n",
      "Data columns (total 15 columns):\n",
      " #   Column          Non-Null Count  Dtype \n",
      "---  ------          --------------  ----- \n",
      " 0   Age             32561 non-null  int64 \n",
      " 1   Workclass       30725 non-null  object\n",
      " 2   fnlwgt          32561 non-null  int64 \n",
      " 3   Education       32561 non-null  object\n",
      " 4   Education_Num   32561 non-null  int64 \n",
      " 5   Martial_Status  32561 non-null  object\n",
      " 6   Occupation      30718 non-null  object\n",
      " 7   Relationship    32561 non-null  object\n",
      " 8   Race            32561 non-null  object\n",
      " 9   Sex             32561 non-null  object\n",
      " 10  Capital_Gain    32561 non-null  int64 \n",
      " 11  Capital_Loss    32561 non-null  int64 \n",
      " 12  Hours_per_week  32561 non-null  int64 \n",
      " 13  Country         31978 non-null  object\n",
      " 14  Target          32561 non-null  object\n",
      "dtypes: int64(6), object(9)\n",
      "memory usage: 3.7+ MB\n"
     ]
    }
   ],
   "source": [
    "data_train.info()"
   ]
  },
  {
   "cell_type": "code",
   "execution_count": 29,
   "metadata": {},
   "outputs": [
    {
     "name": "stderr",
     "output_type": "stream",
     "text": [
      "<ipython-input-29-ef35fa5cb270>:5: MatplotlibDeprecationWarning: Passing non-integers as three-element position specification is deprecated since 3.3 and will be removed two minor releases later.\n",
      "  ax = fig.add_subplot(rows, cols, i + 1)\n",
      "<ipython-input-29-ef35fa5cb270>:5: MatplotlibDeprecationWarning: Passing non-integers as three-element position specification is deprecated since 3.3 and will be removed two minor releases later.\n",
      "  ax = fig.add_subplot(rows, cols, i + 1)\n",
      "<ipython-input-29-ef35fa5cb270>:5: MatplotlibDeprecationWarning: Passing non-integers as three-element position specification is deprecated since 3.3 and will be removed two minor releases later.\n",
      "  ax = fig.add_subplot(rows, cols, i + 1)\n",
      "<ipython-input-29-ef35fa5cb270>:5: MatplotlibDeprecationWarning: Passing non-integers as three-element position specification is deprecated since 3.3 and will be removed two minor releases later.\n",
      "  ax = fig.add_subplot(rows, cols, i + 1)\n",
      "<ipython-input-29-ef35fa5cb270>:5: MatplotlibDeprecationWarning: Passing non-integers as three-element position specification is deprecated since 3.3 and will be removed two minor releases later.\n",
      "  ax = fig.add_subplot(rows, cols, i + 1)\n",
      "<ipython-input-29-ef35fa5cb270>:5: MatplotlibDeprecationWarning: Passing non-integers as three-element position specification is deprecated since 3.3 and will be removed two minor releases later.\n",
      "  ax = fig.add_subplot(rows, cols, i + 1)\n",
      "<ipython-input-29-ef35fa5cb270>:5: MatplotlibDeprecationWarning: Passing non-integers as three-element position specification is deprecated since 3.3 and will be removed two minor releases later.\n",
      "  ax = fig.add_subplot(rows, cols, i + 1)\n",
      "<ipython-input-29-ef35fa5cb270>:5: MatplotlibDeprecationWarning: Passing non-integers as three-element position specification is deprecated since 3.3 and will be removed two minor releases later.\n",
      "  ax = fig.add_subplot(rows, cols, i + 1)\n",
      "<ipython-input-29-ef35fa5cb270>:5: MatplotlibDeprecationWarning: Passing non-integers as three-element position specification is deprecated since 3.3 and will be removed two minor releases later.\n",
      "  ax = fig.add_subplot(rows, cols, i + 1)\n"
     ]
    },
    {
     "data": {
<<<<<<< HEAD
      "image/png": "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\n",
=======
      "image/png": "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\n",
>>>>>>> master
      "text/plain": [
       "<Figure size 1800x1080 with 15 Axes>"
      ]
     },
     "metadata": {
      "needs_background": "light"
     },
     "output_type": "display_data"
    }
   ],
   "source": [
    "fig = plt.figure(figsize=(25, 15))\n",
    "cols = 5\n",
    "rows = np.ceil(float(data_train.shape[1]) / cols)\n",
    "for i, column in enumerate(data_train.columns):\n",
    "    ax = fig.add_subplot(rows, cols, i + 1)\n",
    "    ax.set_title(column)\n",
    "    if data_train.dtypes[column] == np.object:\n",
    "        data_train[column].value_counts().plot(kind=\"bar\", axes=ax)\n",
    "    else:\n",
    "        data_train[column].hist(axes=ax)\n",
    "        plt.xticks(rotation=\"vertical\")\n",
    "plt.subplots_adjust(hspace=0.7, wspace=0.2)"
   ]
  },
  {
   "cell_type": "markdown",
   "metadata": {},
   "source": [
    "**Проверяем типы данных**"
   ]
  },
  {
   "cell_type": "code",
   "execution_count": 30,
   "metadata": {},
   "outputs": [
    {
     "data": {
      "text/plain": [
       "Age                int64\n",
       "Workclass         object\n",
       "fnlwgt             int64\n",
       "Education         object\n",
       "Education_Num      int64\n",
       "Martial_Status    object\n",
       "Occupation        object\n",
       "Relationship      object\n",
       "Race              object\n",
       "Sex               object\n",
       "Capital_Gain       int64\n",
       "Capital_Loss       int64\n",
       "Hours_per_week     int64\n",
       "Country           object\n",
       "Target            object\n",
       "dtype: object"
      ]
     },
     "execution_count": 30,
     "metadata": {},
     "output_type": "execute_result"
    }
   ],
   "source": [
    "data_train.dtypes"
   ]
  },
  {
   "cell_type": "code",
   "execution_count": 31,
   "metadata": {},
   "outputs": [
    {
     "data": {
      "text/plain": [
       "Age                object\n",
       "Workclass          object\n",
       "fnlwgt            float64\n",
       "Education          object\n",
       "Education_Num     float64\n",
       "Martial_Status     object\n",
       "Occupation         object\n",
       "Relationship       object\n",
       "Race               object\n",
       "Sex                object\n",
       "Capital_Gain      float64\n",
       "Capital_Loss      float64\n",
       "Hours_per_week    float64\n",
       "Country            object\n",
       "Target             object\n",
       "dtype: object"
      ]
     },
     "execution_count": 31,
     "metadata": {},
     "output_type": "execute_result"
    }
   ],
   "source": [
    "data_test.dtypes"
   ]
  },
  {
   "cell_type": "markdown",
   "metadata": {},
   "source": [
    "Выяснилось, что в тесте возраст отнесен к типу object, необходимо это исправить."
   ]
  },
  {
   "cell_type": "code",
   "execution_count": 32,
   "metadata": {},
   "outputs": [],
   "source": [
    "data_test['Age'] = data_test['Age'].astype(int)"
   ]
  },
  {
   "cell_type": "markdown",
   "metadata": {},
   "source": [
    "Также приведем показатели типа float в int для соответствия train и test выборок."
   ]
  },
  {
   "cell_type": "code",
   "execution_count": 33,
   "metadata": {},
   "outputs": [],
   "source": [
    "data_test['fnlwgt'] = data_test['fnlwgt'].astype(int)\n",
    "data_test['Education_Num'] = data_test['Education_Num'].astype(int)\n",
    "data_test['Capital_Gain'] = data_test['Capital_Gain'].astype(int)\n",
    "data_test['Capital_Loss'] = data_test['Capital_Loss'].astype(int)\n",
    "data_test['Hours_per_week'] = data_test['Hours_per_week'].astype(int)"
   ]
  },
  {
   "cell_type": "markdown",
   "metadata": {},
   "source": [
    "**Заполним пропуски в количественных полях медианными значениями, а в категориальных – наиболее часто встречающимся значением**"
   ]
  },
  {
   "cell_type": "code",
   "execution_count": 34,
   "metadata": {},
   "outputs": [
    {
     "name": "stdout",
     "output_type": "stream",
     "text": [
      "categorical_columns_test: ['Workclass', 'Education', 'Martial_Status', 'Occupation', 'Relationship', 'Race', 'Sex', 'Country', 'Target']\n",
      "categorical_columns_train: ['Workclass', 'Education', 'Martial_Status', 'Occupation', 'Relationship', 'Race', 'Sex', 'Country', 'Target']\n",
      "numerical_columns_test: ['Age', 'fnlwgt', 'Education_Num', 'Capital_Gain', 'Capital_Loss', 'Hours_per_week']\n",
      "numerical_columns_train: ['Age', 'fnlwgt', 'Education_Num', 'Capital_Gain', 'Capital_Loss', 'Hours_per_week']\n"
     ]
    }
   ],
   "source": [
    "# выделим в выборках категориальные и числовые поля\n",
    "\n",
    "categorical_columns_train = [c for c in data_train.columns \n",
    "                             if data_train[c].dtype.name == 'object']\n",
    "numerical_columns_train = [c for c in data_train.columns \n",
    "                           if data_train[c].dtype.name != 'object']\n",
    "\n",
    "categorical_columns_test = [c for c in data_test.columns \n",
    "                            if data_test[c].dtype.name == 'object']\n",
    "numerical_columns_test = [c for c in data_test.columns \n",
    "                          if data_test[c].dtype.name != 'object']\n",
    "\n",
    "print('categorical_columns_test:', categorical_columns_test)\n",
    "print('categorical_columns_train:', categorical_columns_train)\n",
    "print('numerical_columns_test:', numerical_columns_test)\n",
    "print('numerical_columns_train:', numerical_columns_train)"
   ]
  },
  {
   "cell_type": "code",
   "execution_count": 35,
   "metadata": {},
   "outputs": [],
   "source": [
    "# заполним пропуски\n",
    "\n",
    "for c in categorical_columns_train:\n",
    "    data_train[c] = data_train[c].fillna(data_train[c].mode())\n",
    "for c in categorical_columns_test:\n",
    "    data_test[c] = data_test[c].fillna(data_train[c].mode())\n",
    "    \n",
    "for c in numerical_columns_train:\n",
    "    data_train[c] = data_train[c].fillna(data_train[c].median())\n",
    "for c in numerical_columns_test:\n",
    "    data_test[c] = data_test[c].fillna(data_train[c].median())    "
   ]
  },
  {
   "cell_type": "markdown",
   "metadata": {},
   "source": [
    "**Кодируем категориальные признаки 'Workclass', 'Education', 'Martial_Status', 'Occupation', 'Relationship', 'Race', 'Sex', 'Country'. Это можно сделать с помощью метода `pandas get_dummies`.**"
   ]
  },
  {
   "cell_type": "code",
   "execution_count": 36,
   "metadata": {},
   "outputs": [],
   "source": [
    "data_train = pd.concat([data_train, pd.get_dummies(data_train['Workclass'], \n",
    "                                                   prefix=\"Workclass\"),\n",
    "                      pd.get_dummies(data_train['Education'], prefix=\"Education\"),\n",
    "                      pd.get_dummies(data_train['Martial_Status'], prefix=\"Martial_Status\"),\n",
    "                      pd.get_dummies(data_train['Occupation'], prefix=\"Occupation\"),\n",
    "                      pd.get_dummies(data_train['Relationship'], prefix=\"Relationship\"),\n",
    "                      pd.get_dummies(data_train['Race'], prefix=\"Race\"),\n",
    "                      pd.get_dummies(data_train['Sex'], prefix=\"Sex\"),\n",
    "                      pd.get_dummies(data_train['Country'], prefix=\"Country\")],\n",
    "                     axis=1)\n",
    "\n",
    "data_test = pd.concat([data_test, pd.get_dummies(data_test['Workclass'], prefix=\"Workclass\"),\n",
    "                      pd.get_dummies(data_test['Education'], prefix=\"Education\"),\n",
    "                      pd.get_dummies(data_test['Martial_Status'], prefix=\"Martial_Status\"),\n",
    "                      pd.get_dummies(data_test['Occupation'], prefix=\"Occupation\"),\n",
    "                      pd.get_dummies(data_test['Relationship'], prefix=\"Relationship\"),\n",
    "                      pd.get_dummies(data_test['Race'], prefix=\"Race\"),\n",
    "                      pd.get_dummies(data_test['Sex'], prefix=\"Sex\"),\n",
    "                      pd.get_dummies(data_test['Country'], prefix=\"Country\")],\n",
    "                     axis=1)"
   ]
  },
  {
   "cell_type": "code",
   "execution_count": 37,
   "metadata": {},
   "outputs": [],
   "source": [
    "data_train.drop(['Workclass', 'Education', 'Martial_Status',\n",
    "                 'Occupation', 'Relationship', 'Race', 'Sex', 'Country'],\n",
    "                axis=1, inplace=True)\n",
    "data_test.drop(['Workclass', 'Education', 'Martial_Status', 'Occupation', \n",
    "                'Relationship', 'Race', 'Sex', 'Country'],\n",
    "               axis=1, inplace=True)"
   ]
  },
  {
   "cell_type": "code",
   "execution_count": 38,
   "metadata": {},
   "outputs": [
    {
     "data": {
      "text/html": [
       "<div>\n",
       "<style scoped>\n",
       "    .dataframe tbody tr th:only-of-type {\n",
       "        vertical-align: middle;\n",
       "    }\n",
       "\n",
       "    .dataframe tbody tr th {\n",
       "        vertical-align: top;\n",
       "    }\n",
       "\n",
       "    .dataframe thead th {\n",
       "        text-align: right;\n",
       "    }\n",
       "</style>\n",
       "<table border=\"1\" class=\"dataframe\">\n",
       "  <thead>\n",
       "    <tr style=\"text-align: right;\">\n",
       "      <th></th>\n",
       "      <th>count</th>\n",
       "      <th>mean</th>\n",
       "      <th>std</th>\n",
       "      <th>min</th>\n",
       "      <th>25%</th>\n",
       "      <th>50%</th>\n",
       "      <th>75%</th>\n",
       "      <th>max</th>\n",
       "    </tr>\n",
       "  </thead>\n",
       "  <tbody>\n",
       "    <tr>\n",
       "      <th>Age</th>\n",
       "      <td>16281.0</td>\n",
       "      <td>38.767459</td>\n",
       "      <td>13.849187</td>\n",
       "      <td>17.0</td>\n",
       "      <td>28.0</td>\n",
       "      <td>37.0</td>\n",
       "      <td>48.0</td>\n",
       "      <td>90.0</td>\n",
       "    </tr>\n",
       "    <tr>\n",
       "      <th>fnlwgt</th>\n",
       "      <td>16281.0</td>\n",
       "      <td>189435.677784</td>\n",
       "      <td>105714.907671</td>\n",
       "      <td>13492.0</td>\n",
       "      <td>116736.0</td>\n",
       "      <td>177831.0</td>\n",
       "      <td>238384.0</td>\n",
       "      <td>1490400.0</td>\n",
       "    </tr>\n",
       "    <tr>\n",
       "      <th>Education_Num</th>\n",
       "      <td>16281.0</td>\n",
       "      <td>10.072907</td>\n",
       "      <td>2.567545</td>\n",
       "      <td>1.0</td>\n",
       "      <td>9.0</td>\n",
       "      <td>10.0</td>\n",
       "      <td>12.0</td>\n",
       "      <td>16.0</td>\n",
       "    </tr>\n",
       "    <tr>\n",
       "      <th>Capital_Gain</th>\n",
       "      <td>16281.0</td>\n",
       "      <td>1081.905104</td>\n",
       "      <td>7583.935968</td>\n",
       "      <td>0.0</td>\n",
       "      <td>0.0</td>\n",
       "      <td>0.0</td>\n",
       "      <td>0.0</td>\n",
       "      <td>99999.0</td>\n",
       "    </tr>\n",
       "    <tr>\n",
       "      <th>Capital_Loss</th>\n",
       "      <td>16281.0</td>\n",
       "      <td>87.899269</td>\n",
       "      <td>403.105286</td>\n",
       "      <td>0.0</td>\n",
       "      <td>0.0</td>\n",
       "      <td>0.0</td>\n",
       "      <td>0.0</td>\n",
       "      <td>3770.0</td>\n",
       "    </tr>\n",
       "    <tr>\n",
       "      <th>...</th>\n",
       "      <td>...</td>\n",
       "      <td>...</td>\n",
       "      <td>...</td>\n",
       "      <td>...</td>\n",
       "      <td>...</td>\n",
       "      <td>...</td>\n",
       "      <td>...</td>\n",
       "      <td>...</td>\n",
       "    </tr>\n",
       "    <tr>\n",
       "      <th>Country_ Thailand</th>\n",
       "      <td>16281.0</td>\n",
       "      <td>0.000737</td>\n",
       "      <td>0.027140</td>\n",
       "      <td>0.0</td>\n",
       "      <td>0.0</td>\n",
       "      <td>0.0</td>\n",
       "      <td>0.0</td>\n",
       "      <td>1.0</td>\n",
       "    </tr>\n",
       "    <tr>\n",
       "      <th>Country_ Trinadad&amp;Tobago</th>\n",
       "      <td>16281.0</td>\n",
       "      <td>0.000491</td>\n",
       "      <td>0.022162</td>\n",
       "      <td>0.0</td>\n",
       "      <td>0.0</td>\n",
       "      <td>0.0</td>\n",
       "      <td>0.0</td>\n",
       "      <td>1.0</td>\n",
       "    </tr>\n",
       "    <tr>\n",
       "      <th>Country_ United-States</th>\n",
       "      <td>16281.0</td>\n",
       "      <td>0.900559</td>\n",
       "      <td>0.299262</td>\n",
       "      <td>0.0</td>\n",
       "      <td>1.0</td>\n",
       "      <td>1.0</td>\n",
       "      <td>1.0</td>\n",
       "      <td>1.0</td>\n",
       "    </tr>\n",
       "    <tr>\n",
       "      <th>Country_ Vietnam</th>\n",
       "      <td>16281.0</td>\n",
       "      <td>0.001167</td>\n",
       "      <td>0.034143</td>\n",
       "      <td>0.0</td>\n",
       "      <td>0.0</td>\n",
       "      <td>0.0</td>\n",
       "      <td>0.0</td>\n",
       "      <td>1.0</td>\n",
       "    </tr>\n",
       "    <tr>\n",
       "      <th>Country_ Yugoslavia</th>\n",
       "      <td>16281.0</td>\n",
       "      <td>0.000430</td>\n",
       "      <td>0.020731</td>\n",
       "      <td>0.0</td>\n",
       "      <td>0.0</td>\n",
       "      <td>0.0</td>\n",
       "      <td>0.0</td>\n",
       "      <td>1.0</td>\n",
       "    </tr>\n",
       "  </tbody>\n",
       "</table>\n",
       "<p>105 rows × 8 columns</p>\n",
       "</div>"
      ],
      "text/plain": [
       "                            count           mean            std      min  \\\n",
       "Age                       16281.0      38.767459      13.849187     17.0   \n",
       "fnlwgt                    16281.0  189435.677784  105714.907671  13492.0   \n",
       "Education_Num             16281.0      10.072907       2.567545      1.0   \n",
       "Capital_Gain              16281.0    1081.905104    7583.935968      0.0   \n",
       "Capital_Loss              16281.0      87.899269     403.105286      0.0   \n",
       "...                           ...            ...            ...      ...   \n",
       "Country_ Thailand         16281.0       0.000737       0.027140      0.0   \n",
       "Country_ Trinadad&Tobago  16281.0       0.000491       0.022162      0.0   \n",
       "Country_ United-States    16281.0       0.900559       0.299262      0.0   \n",
       "Country_ Vietnam          16281.0       0.001167       0.034143      0.0   \n",
       "Country_ Yugoslavia       16281.0       0.000430       0.020731      0.0   \n",
       "\n",
       "                               25%       50%       75%        max  \n",
       "Age                           28.0      37.0      48.0       90.0  \n",
       "fnlwgt                    116736.0  177831.0  238384.0  1490400.0  \n",
       "Education_Num                  9.0      10.0      12.0       16.0  \n",
       "Capital_Gain                   0.0       0.0       0.0    99999.0  \n",
       "Capital_Loss                   0.0       0.0       0.0     3770.0  \n",
       "...                            ...       ...       ...        ...  \n",
       "Country_ Thailand              0.0       0.0       0.0        1.0  \n",
       "Country_ Trinadad&Tobago       0.0       0.0       0.0        1.0  \n",
       "Country_ United-States         1.0       1.0       1.0        1.0  \n",
       "Country_ Vietnam               0.0       0.0       0.0        1.0  \n",
       "Country_ Yugoslavia            0.0       0.0       0.0        1.0  \n",
       "\n",
       "[105 rows x 8 columns]"
      ]
     },
     "execution_count": 38,
     "metadata": {},
     "output_type": "execute_result"
    }
   ],
   "source": [
    "data_test.describe(include='all').T"
   ]
  },
  {
   "cell_type": "code",
   "execution_count": 39,
   "metadata": {},
   "outputs": [
    {
     "data": {
      "text/plain": [
       "{'Country_ Holand-Netherlands'}"
      ]
     },
     "execution_count": 39,
     "metadata": {},
     "output_type": "execute_result"
    }
   ],
   "source": [
    "set(data_train.columns) - set(data_test.columns)"
   ]
  },
  {
   "cell_type": "code",
   "execution_count": 40,
   "metadata": {},
   "outputs": [
    {
     "data": {
      "text/plain": [
       "((32561, 106), (16281, 105))"
      ]
     },
     "execution_count": 40,
     "metadata": {},
     "output_type": "execute_result"
    }
   ],
   "source": [
    "data_train.shape, data_test.shape"
   ]
  },
  {
   "cell_type": "markdown",
   "metadata": {},
   "source": [
    "**В тестовой выборке не оказалось Голландии. Заведем необходимый признак из нулей.**"
   ]
  },
  {
   "cell_type": "code",
   "execution_count": 41,
   "metadata": {},
   "outputs": [],
   "source": [
    "data_test['Country_ Holand-Netherlands'] = np.zeros([data_test.shape[0], 1])"
   ]
  },
  {
   "cell_type": "code",
   "execution_count": 42,
   "metadata": {},
   "outputs": [
    {
     "data": {
      "text/plain": [
       "set()"
      ]
     },
     "execution_count": 42,
     "metadata": {},
     "output_type": "execute_result"
    }
   ],
   "source": [
    "set(data_train.columns) - set(data_test.columns)"
   ]
  },
  {
   "cell_type": "code",
   "execution_count": 43,
   "metadata": {},
   "outputs": [
    {
     "data": {
      "text/html": [
       "<div>\n",
       "<style scoped>\n",
       "    .dataframe tbody tr th:only-of-type {\n",
       "        vertical-align: middle;\n",
       "    }\n",
       "\n",
       "    .dataframe tbody tr th {\n",
       "        vertical-align: top;\n",
       "    }\n",
       "\n",
       "    .dataframe thead th {\n",
       "        text-align: right;\n",
       "    }\n",
       "</style>\n",
       "<table border=\"1\" class=\"dataframe\">\n",
       "  <thead>\n",
       "    <tr style=\"text-align: right;\">\n",
       "      <th></th>\n",
       "      <th>Age</th>\n",
       "      <th>fnlwgt</th>\n",
       "      <th>Education_Num</th>\n",
       "      <th>Capital_Gain</th>\n",
       "      <th>Capital_Loss</th>\n",
       "      <th>Hours_per_week</th>\n",
       "      <th>Target</th>\n",
       "      <th>Workclass_ Federal-gov</th>\n",
       "      <th>Workclass_ Local-gov</th>\n",
       "      <th>Workclass_ Never-worked</th>\n",
       "      <th>...</th>\n",
       "      <th>Country_ Portugal</th>\n",
       "      <th>Country_ Puerto-Rico</th>\n",
       "      <th>Country_ Scotland</th>\n",
       "      <th>Country_ South</th>\n",
       "      <th>Country_ Taiwan</th>\n",
       "      <th>Country_ Thailand</th>\n",
       "      <th>Country_ Trinadad&amp;Tobago</th>\n",
       "      <th>Country_ United-States</th>\n",
       "      <th>Country_ Vietnam</th>\n",
       "      <th>Country_ Yugoslavia</th>\n",
       "    </tr>\n",
       "  </thead>\n",
       "  <tbody>\n",
       "    <tr>\n",
       "      <th>0</th>\n",
       "      <td>39</td>\n",
       "      <td>77516</td>\n",
       "      <td>13</td>\n",
       "      <td>2174</td>\n",
       "      <td>0</td>\n",
       "      <td>40</td>\n",
       "      <td>0</td>\n",
       "      <td>0</td>\n",
       "      <td>0</td>\n",
       "      <td>0</td>\n",
       "      <td>...</td>\n",
       "      <td>0</td>\n",
       "      <td>0</td>\n",
       "      <td>0</td>\n",
       "      <td>0</td>\n",
       "      <td>0</td>\n",
       "      <td>0</td>\n",
       "      <td>0</td>\n",
       "      <td>1</td>\n",
       "      <td>0</td>\n",
       "      <td>0</td>\n",
       "    </tr>\n",
       "    <tr>\n",
       "      <th>1</th>\n",
       "      <td>50</td>\n",
       "      <td>83311</td>\n",
       "      <td>13</td>\n",
       "      <td>0</td>\n",
       "      <td>0</td>\n",
       "      <td>13</td>\n",
       "      <td>0</td>\n",
       "      <td>0</td>\n",
       "      <td>0</td>\n",
       "      <td>0</td>\n",
       "      <td>...</td>\n",
       "      <td>0</td>\n",
       "      <td>0</td>\n",
       "      <td>0</td>\n",
       "      <td>0</td>\n",
       "      <td>0</td>\n",
       "      <td>0</td>\n",
       "      <td>0</td>\n",
       "      <td>1</td>\n",
       "      <td>0</td>\n",
       "      <td>0</td>\n",
       "    </tr>\n",
       "  </tbody>\n",
       "</table>\n",
       "<p>2 rows × 106 columns</p>\n",
       "</div>"
      ],
      "text/plain": [
       "   Age  fnlwgt  Education_Num  Capital_Gain  Capital_Loss  Hours_per_week  \\\n",
       "0   39   77516             13          2174             0              40   \n",
       "1   50   83311             13             0             0              13   \n",
       "\n",
       "   Target  Workclass_ Federal-gov  Workclass_ Local-gov  \\\n",
       "0       0                       0                     0   \n",
       "1       0                       0                     0   \n",
       "\n",
       "   Workclass_ Never-worked  ...  Country_ Portugal  Country_ Puerto-Rico  \\\n",
       "0                        0  ...                  0                     0   \n",
       "1                        0  ...                  0                     0   \n",
       "\n",
       "   Country_ Scotland  Country_ South  Country_ Taiwan  Country_ Thailand  \\\n",
       "0                  0               0                0                  0   \n",
       "1                  0               0                0                  0   \n",
       "\n",
       "   Country_ Trinadad&Tobago  Country_ United-States  Country_ Vietnam  \\\n",
       "0                         0                       1                 0   \n",
       "1                         0                       1                 0   \n",
       "\n",
       "   Country_ Yugoslavia  \n",
       "0                    0  \n",
       "1                    0  \n",
       "\n",
       "[2 rows x 106 columns]"
      ]
     },
     "execution_count": 43,
     "metadata": {},
     "output_type": "execute_result"
    }
   ],
   "source": [
    "data_train.head(2)"
   ]
  },
  {
   "cell_type": "code",
   "execution_count": 44,
   "metadata": {},
   "outputs": [
    {
     "data": {
      "text/html": [
       "<div>\n",
       "<style scoped>\n",
       "    .dataframe tbody tr th:only-of-type {\n",
       "        vertical-align: middle;\n",
       "    }\n",
       "\n",
       "    .dataframe tbody tr th {\n",
       "        vertical-align: top;\n",
       "    }\n",
       "\n",
       "    .dataframe thead th {\n",
       "        text-align: right;\n",
       "    }\n",
       "</style>\n",
       "<table border=\"1\" class=\"dataframe\">\n",
       "  <thead>\n",
       "    <tr style=\"text-align: right;\">\n",
       "      <th></th>\n",
       "      <th>Age</th>\n",
       "      <th>fnlwgt</th>\n",
       "      <th>Education_Num</th>\n",
       "      <th>Capital_Gain</th>\n",
       "      <th>Capital_Loss</th>\n",
       "      <th>Hours_per_week</th>\n",
       "      <th>Target</th>\n",
       "      <th>Workclass_ Federal-gov</th>\n",
       "      <th>Workclass_ Local-gov</th>\n",
       "      <th>Workclass_ Never-worked</th>\n",
       "      <th>...</th>\n",
       "      <th>Country_ Puerto-Rico</th>\n",
       "      <th>Country_ Scotland</th>\n",
       "      <th>Country_ South</th>\n",
       "      <th>Country_ Taiwan</th>\n",
       "      <th>Country_ Thailand</th>\n",
       "      <th>Country_ Trinadad&amp;Tobago</th>\n",
       "      <th>Country_ United-States</th>\n",
       "      <th>Country_ Vietnam</th>\n",
       "      <th>Country_ Yugoslavia</th>\n",
       "      <th>Country_ Holand-Netherlands</th>\n",
       "    </tr>\n",
       "  </thead>\n",
       "  <tbody>\n",
       "    <tr>\n",
       "      <th>1</th>\n",
       "      <td>25</td>\n",
       "      <td>226802</td>\n",
       "      <td>7</td>\n",
       "      <td>0</td>\n",
       "      <td>0</td>\n",
       "      <td>40</td>\n",
       "      <td>0</td>\n",
       "      <td>0</td>\n",
       "      <td>0</td>\n",
       "      <td>0</td>\n",
       "      <td>...</td>\n",
       "      <td>0</td>\n",
       "      <td>0</td>\n",
       "      <td>0</td>\n",
       "      <td>0</td>\n",
       "      <td>0</td>\n",
       "      <td>0</td>\n",
       "      <td>1</td>\n",
       "      <td>0</td>\n",
       "      <td>0</td>\n",
       "      <td>0.0</td>\n",
       "    </tr>\n",
       "    <tr>\n",
       "      <th>2</th>\n",
       "      <td>38</td>\n",
       "      <td>89814</td>\n",
       "      <td>9</td>\n",
       "      <td>0</td>\n",
       "      <td>0</td>\n",
       "      <td>50</td>\n",
       "      <td>0</td>\n",
       "      <td>0</td>\n",
       "      <td>0</td>\n",
       "      <td>0</td>\n",
       "      <td>...</td>\n",
       "      <td>0</td>\n",
       "      <td>0</td>\n",
       "      <td>0</td>\n",
       "      <td>0</td>\n",
       "      <td>0</td>\n",
       "      <td>0</td>\n",
       "      <td>1</td>\n",
       "      <td>0</td>\n",
       "      <td>0</td>\n",
       "      <td>0.0</td>\n",
       "    </tr>\n",
       "  </tbody>\n",
       "</table>\n",
       "<p>2 rows × 106 columns</p>\n",
       "</div>"
      ],
      "text/plain": [
       "   Age  fnlwgt  Education_Num  Capital_Gain  Capital_Loss  Hours_per_week  \\\n",
       "1   25  226802              7             0             0              40   \n",
       "2   38   89814              9             0             0              50   \n",
       "\n",
       "   Target  Workclass_ Federal-gov  Workclass_ Local-gov  \\\n",
       "1       0                       0                     0   \n",
       "2       0                       0                     0   \n",
       "\n",
       "   Workclass_ Never-worked  ...  Country_ Puerto-Rico  Country_ Scotland  \\\n",
       "1                        0  ...                     0                  0   \n",
       "2                        0  ...                     0                  0   \n",
       "\n",
       "   Country_ South  Country_ Taiwan  Country_ Thailand  \\\n",
       "1               0                0                  0   \n",
       "2               0                0                  0   \n",
       "\n",
       "   Country_ Trinadad&Tobago  Country_ United-States  Country_ Vietnam  \\\n",
       "1                         0                       1                 0   \n",
       "2                         0                       1                 0   \n",
       "\n",
       "   Country_ Yugoslavia  Country_ Holand-Netherlands  \n",
       "1                    0                          0.0  \n",
       "2                    0                          0.0  \n",
       "\n",
       "[2 rows x 106 columns]"
      ]
     },
     "execution_count": 44,
     "metadata": {},
     "output_type": "execute_result"
    }
   ],
   "source": [
    "data_test.head(2)"
   ]
  },
  {
   "cell_type": "code",
   "execution_count": 45,
   "metadata": {},
   "outputs": [],
   "source": [
    "X_train=data_train.drop(['Target'], axis=1)\n",
    "y_train = data_train['Target']\n",
    "\n",
    "X_test=data_test.drop(['Target'], axis=1)\n",
    "y_test = data_test['Target']"
   ]
  },
  {
   "cell_type": "markdown",
   "metadata": {},
   "source": [
    "## 3.1. Дерево решений без настройки параметров "
   ]
  },
  {
   "cell_type": "markdown",
   "metadata": {},
   "source": [
    "**Обучите на имеющейся выборке дерево решений (`DecisionTreeClassifier`) максимальной глубины 3 и получите качество на тесте. Используйте параметр `random_state` = 17 для воспроизводимости результатов.**"
   ]
  },
  {
   "cell_type": "code",
   "execution_count": 46,
   "metadata": {},
   "outputs": [
    {
     "data": {
      "text/plain": [
<<<<<<< HEAD
       "DecisionTreeClassifier(criterion='entropy', max_depth=3, random_state=17)"
=======
       "DecisionTreeClassifier(ccp_alpha=0.0, class_weight=None, criterion='entropy',\n",
       "                       max_depth=3, max_features=None, max_leaf_nodes=None,\n",
       "                       min_impurity_decrease=0.0, min_impurity_split=None,\n",
       "                       min_samples_leaf=1, min_samples_split=2,\n",
       "                       min_weight_fraction_leaf=0.0, presort='deprecated',\n",
       "                       random_state=17, splitter='best')"
>>>>>>> master
      ]
     },
     "execution_count": 46,
     "metadata": {},
     "output_type": "execute_result"
    }
   ],
   "source": [
    "tree = DecisionTreeClassifier(criterion='entropy', random_state=17, max_depth=3)\n",
    "tree.fit(X_train, y_train)"
   ]
  },
  {
   "cell_type": "markdown",
   "metadata": {},
   "source": [
    "**Сделайте с помощью полученной модели прогноз для тестовой выборки.**"
   ]
  },
  {
   "cell_type": "code",
   "execution_count": 47,
   "metadata": {},
   "outputs": [],
   "source": [
    "tree_predictions = tree.predict(X_test) # Ваш код здесь"
   ]
  },
  {
   "cell_type": "code",
   "execution_count": 48,
   "metadata": {},
   "outputs": [
    {
     "data": {
      "text/plain": [
       "0.8447884036607088"
      ]
     },
     "execution_count": 48,
     "metadata": {},
     "output_type": "execute_result"
    }
   ],
   "source": [
    "accuracy_score(y_test, tree_predictions) # Ваш код здесь"
   ]
  },
  {
   "cell_type": "markdown",
   "metadata": {},
   "source": [
    "<font color='red'>Вопрос 6.  </font> Какова доля правильных ответов дерева решений на тестовой выборке при максимальной глубине дерева = 3 и random_state = 17?"
   ]
  },
  {
   "cell_type": "markdown",
   "metadata": {},
   "source": [
    "## 3.2. Дерево решений с настройкой параметров "
   ]
  },
  {
   "cell_type": "markdown",
   "metadata": {},
   "source": [
    "**Обучите на имеющейся выборке дерево решений (`DecisionTreeClassifier`, опять `random_state` = 17 ). Максимальную глубину настройте на кросс-валидации с помощью `GridSearchCV`. Проведите 5-кратную кросс-валидацию**"
   ]
  },
  {
   "cell_type": "code",
   "execution_count": 49,
   "metadata": {},
   "outputs": [
    {
     "data": {
      "text/plain": [
<<<<<<< HEAD
       "GridSearchCV(cv=5, estimator=DecisionTreeClassifier(random_state=17),\n",
=======
       "GridSearchCV(cv=5, error_score=nan,\n",
       "             estimator=DecisionTreeClassifier(ccp_alpha=0.0, class_weight=None,\n",
       "                                              criterion='gini', max_depth=None,\n",
       "                                              max_features=None,\n",
       "                                              max_leaf_nodes=None,\n",
       "                                              min_impurity_decrease=0.0,\n",
       "                                              min_impurity_split=None,\n",
       "                                              min_samples_leaf=1,\n",
       "                                              min_samples_split=2,\n",
       "                                              min_weight_fraction_leaf=0.0,\n",
       "                                              presort='deprecated',\n",
       "                                              random_state=17,\n",
       "                                              splitter='best'),\n",
       "             iid='deprecated', n_jobs=None,\n",
>>>>>>> master
       "             param_grid={'max_depth': range(2, 11),\n",
       "                         'max_features': range(5, 19)})"
      ]
     },
     "execution_count": 49,
     "metadata": {},
     "output_type": "execute_result"
    }
   ],
   "source": [
    "tree_params = {'max_depth': range(2,11), 'max_features': range(5,19)}\n",
    "\n",
    "locally_best_tree = GridSearchCV(DecisionTreeClassifier(random_state=17), tree_params, cv=5)             \n",
    "\n",
    "locally_best_tree.fit(X_train, y_train) # Ваш код здесь"
   ]
  },
  {
   "cell_type": "code",
   "execution_count": 50,
   "metadata": {},
   "outputs": [
    {
     "name": "stdout",
     "output_type": "stream",
     "text": [
      "Best params: {'max_depth': 10, 'max_features': 17}\n",
      "Best cross validaton score 0.8483464794093537\n"
     ]
    }
   ],
   "source": [
    "print(\"Best params:\", locally_best_tree.best_params_)\n",
    "print(\"Best cross validaton score\", locally_best_tree.best_score_)"
   ]
  },
  {
   "cell_type": "markdown",
   "metadata": {},
   "source": [
    "**Обучите на имеющейся выборке дерево решений максимальной глубины 9 (это лучшее значение `max_depth` в моем случае) и   оцените долю правильных ответов на тесте. Используйте параметр random_state = 17 для воспроизводимости результатов.**"
   ]
  },
  {
   "cell_type": "code",
   "execution_count": 51,
   "metadata": {},
   "outputs": [
    {
     "data": {
      "text/plain": [
       "0.8471838339168356"
      ]
     },
     "execution_count": 51,
     "metadata": {},
     "output_type": "execute_result"
    }
   ],
   "source": [
    "tuned_tree = DecisionTreeClassifier(max_depth=9, random_state=17)# Ваш код здесь\n",
    "tuned_tree.fit(X_train, y_train) # Ваш код здесь\n",
    "tuned_tree_predictions = tuned_tree.predict(X_test) # Ваш код здесь\n",
    "accuracy_score(y_test, tuned_tree_predictions) # Ваш код здесь"
   ]
  },
  {
   "cell_type": "markdown",
   "metadata": {},
   "source": [
    "<font color='red'>Вопрос 7.  </font> Какова доля правильных ответов дерева решений на тестовой выборке при максимальной глубине дерева = 9 и random_state = 17?"
   ]
  },
  {
   "cell_type": "markdown",
   "metadata": {},
   "source": [
    "## 3.3. Случайный лес без настройки параметров  (опционально)¶"
   ]
  },
  {
   "cell_type": "markdown",
   "metadata": {},
   "source": [
    "**Немного забежим вперед и попробуем в нашей задаче случайный лес. Пока можно его себе представлять, как куча деревьев решений, обученных на немного разных подвыборках исходной обучающей выборки, причем эта куча деревьев обычно работает существенно лучше, чем отдельные деревья. **\n",
    "\n",
    "**Обучите на имеющейся выборке случайный лес (`RandomForestClassifier`), число деревьев сделайте равным ста, а `random_state` = 17.**"
   ]
  },
  {
   "cell_type": "code",
   "execution_count": 52,
   "metadata": {},
   "outputs": [
    {
     "data": {
      "text/plain": [
<<<<<<< HEAD
       "RandomForestClassifier(random_state=17)"
=======
       "RandomForestClassifier(bootstrap=True, ccp_alpha=0.0, class_weight=None,\n",
       "                       criterion='gini', max_depth=None, max_features='auto',\n",
       "                       max_leaf_nodes=None, max_samples=None,\n",
       "                       min_impurity_decrease=0.0, min_impurity_split=None,\n",
       "                       min_samples_leaf=1, min_samples_split=2,\n",
       "                       min_weight_fraction_leaf=0.0, n_estimators=100,\n",
       "                       n_jobs=None, oob_score=False, random_state=17, verbose=0,\n",
       "                       warm_start=False)"
>>>>>>> master
      ]
     },
     "execution_count": 52,
     "metadata": {},
     "output_type": "execute_result"
    }
   ],
   "source": [
    "rf = RandomForestClassifier(n_estimators=100, random_state=17)# Ваш код здесь\n",
    "rf.fit(X_train, y_train) # Ваш код здесь"
   ]
  },
  {
   "cell_type": "markdown",
   "metadata": {},
   "source": [
    "**Сделайте с помощью полученной модели прогноз для тестовой выборки.**"
   ]
  },
  {
   "cell_type": "code",
   "execution_count": 53,
   "metadata": {},
   "outputs": [],
   "source": [
    "forest_predictions = rf.predict(X_test) # Ваш код здесь"
   ]
  },
  {
   "cell_type": "code",
   "execution_count": 54,
   "metadata": {},
   "outputs": [
    {
     "data": {
      "text/plain": [
       "0.8576254529820035"
      ]
     },
     "execution_count": 54,
     "metadata": {},
     "output_type": "execute_result"
    }
   ],
   "source": [
    "accuracy_score(y_test, forest_predictions) # Ваш код здесь"
   ]
  },
  {
   "cell_type": "markdown",
   "metadata": {},
   "source": [
    "## 3.4. Случайный лес с настройкой параметров  (опционально)"
   ]
  },
  {
   "cell_type": "markdown",
   "metadata": {},
   "source": [
    "**Обучите на имеющейся выборке случайный лес (`RandomForestClassifier`). Максимальную глубину и максимальное число признаков для каждого дерева настройте с помощью GridSearchCV.**"
   ]
  },
  {
   "cell_type": "code",
   "execution_count": 55,
   "metadata": {},
   "outputs": [
    {
     "name": "stdout",
     "output_type": "stream",
     "text": [
<<<<<<< HEAD
      "CPU times: user 5min 41s, sys: 283 ms, total: 5min 41s\n",
      "Wall time: 5min 41s\n"
=======
      "CPU times: user 6min 34s, sys: 168 ms, total: 6min 34s\n",
      "Wall time: 6min 36s\n"
>>>>>>> master
     ]
    },
    {
     "data": {
      "text/plain": [
<<<<<<< HEAD
       "GridSearchCV(cv=5,\n",
       "             estimator=RandomForestClassifier(n_estimators=10, random_state=17),\n",
=======
       "GridSearchCV(cv=5, error_score=nan,\n",
       "             estimator=RandomForestClassifier(bootstrap=True, ccp_alpha=0.0,\n",
       "                                              class_weight=None,\n",
       "                                              criterion='gini', max_depth=None,\n",
       "                                              max_features='auto',\n",
       "                                              max_leaf_nodes=None,\n",
       "                                              max_samples=None,\n",
       "                                              min_impurity_decrease=0.0,\n",
       "                                              min_impurity_split=None,\n",
       "                                              min_samples_leaf=1,\n",
       "                                              min_samples_split=2,\n",
       "                                              min_weight_fraction_leaf=0.0,\n",
       "                                              n_estimators=10, n_jobs=None,\n",
       "                                              oob_score=False, random_state=17,\n",
       "                                              verbose=0, warm_start=False),\n",
       "             iid='deprecated', n_jobs=None,\n",
>>>>>>> master
       "             param_grid={'max_depth': range(10, 21),\n",
       "                         'max_features': range(5, 105, 10)})"
      ]
     },
     "execution_count": 55,
     "metadata": {},
     "output_type": "execute_result"
    }
   ],
   "source": [
    "%%time\n",
    "forest_params = {'max_depth': range(10, 21), 'max_features': range(5, 105, 10)}\n",
    "\n",
    "locally_best_forest = GridSearchCV(RandomForestClassifier(n_estimators=10, random_state=17), forest_params, cv=5) # Ваш код здесь\n",
    "\n",
    "locally_best_forest.fit(X_train, y_train) # Ваш код здесь"
   ]
  },
  {
   "cell_type": "code",
   "execution_count": 56,
   "metadata": {},
   "outputs": [
    {
     "name": "stdout",
     "output_type": "stream",
     "text": [
      "Best params: {'max_depth': 11, 'max_features': 75}\n",
      "Best cross validaton score 0.861767270599606\n"
     ]
    }
   ],
   "source": [
    "print(\"Best params:\", locally_best_forest.best_params_)\n",
    "print(\"Best cross validaton score\", locally_best_forest.best_score_)"
   ]
  },
  {
   "cell_type": "markdown",
   "metadata": {},
   "source": [
    "**Сделайте с помощью полученной модели прогноз для тестовой выборки.**"
   ]
  },
  {
   "cell_type": "code",
   "execution_count": 57,
   "metadata": {},
   "outputs": [
    {
     "data": {
      "text/plain": [
       "0.8633990541121552"
      ]
     },
     "execution_count": 57,
     "metadata": {},
     "output_type": "execute_result"
    }
   ],
   "source": [
    "tuned_forest_predictions = locally_best_forest.predict(X_test) # Ваш код здесь\n",
    "accuracy_score(y_test, tuned_forest_predictions) # Ваш код здесь"
   ]
  },
  {
   "cell_type": "code",
   "execution_count": null,
   "metadata": {},
   "outputs": [],
   "source": []
  }
 ],
 "metadata": {
  "kernelspec": {
   "display_name": "Python 3",
   "language": "python",
   "name": "python3"
  },
  "language_info": {
   "codemirror_mode": {
    "name": "ipython",
    "version": 3
   },
   "file_extension": ".py",
   "mimetype": "text/x-python",
   "name": "python",
   "nbconvert_exporter": "python",
   "pygments_lexer": "ipython3",
<<<<<<< HEAD
   "version": "3.8.3"
=======
   "version": "3.7.6"
>>>>>>> master
  }
 },
 "nbformat": 4,
 "nbformat_minor": 1
}
